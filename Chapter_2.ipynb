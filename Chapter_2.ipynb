{
  "nbformat": 4,
  "nbformat_minor": 0,
  "metadata": {
    "colab": {
      "name": "Chapter-2.ipynb",
      "provenance": [],
      "collapsed_sections": [],
      "include_colab_link": true
    },
    "kernelspec": {
      "name": "python3",
      "display_name": "Python 3"
    }
  },
  "cells": [
    {
      "cell_type": "markdown",
      "metadata": {
        "id": "view-in-github",
        "colab_type": "text"
      },
      "source": [
        "<a href=\"https://colab.research.google.com/github/venkatareddykonasani/book-machine-learning-and-deep-learning-using-python-and-tensorflow/blob/main/Chapter_2.ipynb\" target=\"_parent\"><img src=\"https://colab.research.google.com/assets/colab-badge.svg\" alt=\"Open In Colab\"/></a>"
      ]
    },
    {
      "cell_type": "markdown",
      "metadata": {
        "id": "DMBjA8sJE5T1"
      },
      "source": [
        "# ***CHAPTER 2 - Python Introduction*** "
      ]
    },
    {
      "cell_type": "markdown",
      "metadata": {
        "id": "8i8tYoeIFPp-"
      },
      "source": [
        "## Basic Operations\n",
        "First few lines of code"
      ]
    },
    {
      "cell_type": "code",
      "metadata": {
        "id": "moHUGPTjC-Qs"
      },
      "source": [
        "print(601+49)\n",
        "print(19*17)\n",
        "print(\"Python code\")"
      ],
      "execution_count": null,
      "outputs": []
    },
    {
      "cell_type": "markdown",
      "metadata": {
        "id": "zyoG6Y4QGlsY"
      },
      "source": [
        "* For doing the basic operations like addition, substraction, multiplication and division, python uses usual symbols like '+', '-', '*', '/' respectively."
      ]
    },
    {
      "cell_type": "code",
      "metadata": {
        "id": "y-9OK0j-HP4o"
      },
      "source": [
        "x=7\n",
        "print(x)"
      ],
      "execution_count": null,
      "outputs": []
    },
    {
      "cell_type": "markdown",
      "metadata": {
        "id": "l2E4EApzHV0B"
      },
      "source": [
        "* For printing the results, the syntax is print()\n",
        "* To write a single line comment, use # \n",
        "* And to write multiline comment use three quotes\n",
        "\n",
        "Eg. # Single line comment\n",
        "\n",
        "\"\"\" \n",
        "\n",
        "Multiline comments\n",
        "\n",
        "\"\"\""
      ]
    },
    {
      "cell_type": "markdown",
      "metadata": {
        "id": "Mz3HcZjQIR-V"
      },
      "source": [
        "## Examples of Errors"
      ]
    },
    {
      "cell_type": "markdown",
      "metadata": {
        "id": "bEkKzuzHIW5-"
      },
      "source": [
        "### Error 1"
      ]
    },
    {
      "cell_type": "code",
      "metadata": {
        "id": "adH582bmHUdB"
      },
      "source": [
        "Print(600+900)"
      ],
      "execution_count": null,
      "outputs": []
    },
    {
      "cell_type": "markdown",
      "metadata": {
        "id": "ebDRNnO5IecO"
      },
      "source": [
        "Here instead of 'print()', 'Print()' is used. Hence the error occured."
      ]
    },
    {
      "cell_type": "markdown",
      "metadata": {
        "id": "DaPKiJh0JZrQ"
      },
      "source": [
        "### Error 2"
      ]
    },
    {
      "cell_type": "code",
      "metadata": {
        "id": "lq6PMO_kIcsQ"
      },
      "source": [
        "print(576-'96')"
      ],
      "execution_count": null,
      "outputs": []
    },
    {
      "cell_type": "markdown",
      "metadata": {
        "id": "cbyQlPoyIw9W"
      },
      "source": [
        "A string cannot be subtracted from an integer. Hence error occured in this case."
      ]
    },
    {
      "cell_type": "code",
      "metadata": {
        "id": "NN-iEgqBIuNB"
      },
      "source": [
        "print(576-'96')\n",
        "y=10\n",
        "print(y)"
      ],
      "execution_count": null,
      "outputs": []
    },
    {
      "cell_type": "markdown",
      "metadata": {
        "id": "WyIrIC4KJDXg"
      },
      "source": [
        "If error is there in any of the line then the lines after the error will not be executed."
      ]
    },
    {
      "cell_type": "markdown",
      "metadata": {
        "id": "bJ6NUrDRJgav"
      },
      "source": [
        "## Defining a variable"
      ]
    },
    {
      "cell_type": "code",
      "metadata": {
        "id": "_6a2j1loJBZV"
      },
      "source": [
        "1x=20 "
      ],
      "execution_count": null,
      "outputs": []
    },
    {
      "cell_type": "markdown",
      "metadata": {
        "id": "utoPofN1J8ec"
      },
      "source": [
        "While defining a variable one cannot start with a number.Every object name should start with an alphabet only. Numbers are not allowed as the starting letters of an object name."
      ]
    },
    {
      "cell_type": "code",
      "metadata": {
        "id": "Lvz1yZUvJvHw"
      },
      "source": [
        "x1=20 \n"
      ],
      "execution_count": null,
      "outputs": []
    },
    {
      "cell_type": "markdown",
      "metadata": {
        "id": "m2Qxh799KF5L"
      },
      "source": [
        "An object name can contain numbers followed by an alphabet(s)"
      ]
    },
    {
      "cell_type": "code",
      "metadata": {
        "id": "JiJXJjT-J1Tr"
      },
      "source": [
        "x.1=20 "
      ],
      "execution_count": null,
      "outputs": []
    },
    {
      "cell_type": "markdown",
      "metadata": {
        "id": "MXHY7EqVKLod"
      },
      "source": [
        "We can’t have all special characters in the variable names. For example, an underscore is allowed but dot and dollar sign are not allowed "
      ]
    },
    {
      "cell_type": "code",
      "metadata": {
        "id": "25u9W9a6J5LH"
      },
      "source": [
        "x_1=20 "
      ],
      "execution_count": null,
      "outputs": []
    },
    {
      "cell_type": "markdown",
      "metadata": {
        "id": "tgHnEefhLGnP"
      },
      "source": [
        "## Dynamic assignment of variables during code execution"
      ]
    },
    {
      "cell_type": "code",
      "metadata": {
        "id": "a0hAGrloJ6jm"
      },
      "source": [
        "income=12000\n",
        "print(income)"
      ],
      "execution_count": null,
      "outputs": []
    },
    {
      "cell_type": "markdown",
      "metadata": {
        "id": "74di6EihLY4o"
      },
      "source": [
        "The variable assignment in Python is dynamic.We need not declare income as an integer before assigning 12000. Python will dynamically identify it as an integer "
      ]
    },
    {
      "cell_type": "code",
      "metadata": {
        "id": "8HVd87hyLXdF"
      },
      "source": [
        "z=x*y\n",
        "print(z)"
      ],
      "execution_count": null,
      "outputs": []
    },
    {
      "cell_type": "markdown",
      "metadata": {
        "id": "vNinWDYrLmUf"
      },
      "source": [
        "Since y is not defined previously hence the error occured. We need to predefine x, y before executing x*y"
      ]
    },
    {
      "cell_type": "code",
      "metadata": {
        "id": "S-ZWvFyVLkwt"
      },
      "source": [
        "x=20\n",
        "print(x)\n",
        "y=30\n",
        "z=x*y\n",
        "print(z)\n"
      ],
      "execution_count": null,
      "outputs": []
    },
    {
      "cell_type": "code",
      "metadata": {
        "id": "SBD1aC1DMD8l"
      },
      "source": [
        "income=\"March\"\n",
        "print(income)"
      ],
      "execution_count": null,
      "outputs": []
    },
    {
      "cell_type": "markdown",
      "metadata": {
        "id": "diZwVPnGMSwO"
      },
      "source": [
        "If we store some value in a variable, we can replace it with any other value even if it is of different datatype. You will not even get a warning before the replacement takes place."
      ]
    },
    {
      "cell_type": "markdown",
      "metadata": {
        "id": "QNjLwhrVMX7Z"
      },
      "source": [
        "## Printing along with a message"
      ]
    },
    {
      "cell_type": "markdown",
      "metadata": {
        "id": "3dlhxh30M5xW"
      },
      "source": [
        "Example 1"
      ]
    },
    {
      "cell_type": "code",
      "metadata": {
        "id": "ODZOwnh6MRDb"
      },
      "source": [
        "age=35\n",
        "print(\"Age value is\", age) "
      ],
      "execution_count": null,
      "outputs": []
    },
    {
      "cell_type": "markdown",
      "metadata": {
        "id": "m9ES4N8BM8mE"
      },
      "source": [
        "Example 2 "
      ]
    },
    {
      "cell_type": "code",
      "metadata": {
        "id": "pVwo58R3MxYP"
      },
      "source": [
        "income=5000\n",
        "print(\"income is\", income , \"$\")"
      ],
      "execution_count": null,
      "outputs": []
    },
    {
      "cell_type": "markdown",
      "metadata": {
        "id": "WgDjG3KeM_DJ"
      },
      "source": [
        "Example 3 "
      ]
    },
    {
      "cell_type": "code",
      "metadata": {
        "id": "HOlD4lZ7M1SJ"
      },
      "source": [
        "gdp_percap=59531\n",
        "Country=\"United States\" \n",
        "print(\"GDP per capita of\", Country, \"is\" , gdp_percap)"
      ],
      "execution_count": null,
      "outputs": []
    },
    {
      "cell_type": "markdown",
      "metadata": {
        "id": "ym_1UvHqNEuw"
      },
      "source": [
        "## Types of objects in python"
      ]
    },
    {
      "cell_type": "code",
      "metadata": {
        "id": "_sizxbVhM4wV"
      },
      "source": [
        "# Example 1\n",
        "sales=30000\n",
        "print(sales)\n",
        "print(\"type of object is \", type(sales)) \n",
        "\n",
        "#Example 2\n",
        "Avg_expenses =5000.25\n",
        "print(Avg_expenses)\n",
        "print(\"type of object is \", type(Avg_expenses)) "
      ],
      "execution_count": null,
      "outputs": []
    },
    {
      "cell_type": "markdown",
      "metadata": {
        "id": "1jg6UEY4OTLh"
      },
      "source": [
        "## Strings in python"
      ]
    },
    {
      "cell_type": "markdown",
      "metadata": {
        "id": "C4ihcg99OZA5"
      },
      "source": [
        "### Defining Strings"
      ]
    },
    {
      "cell_type": "code",
      "metadata": {
        "id": "_SnFtaLXNQ_4"
      },
      "source": [
        "name=\"Sheldon\"\n",
        "msg=\"sent a mail to Jack\""
      ],
      "execution_count": null,
      "outputs": []
    },
    {
      "cell_type": "markdown",
      "metadata": {
        "id": "PSnNKrOxOpp_"
      },
      "source": [
        "### Accessing Strings"
      ]
    },
    {
      "cell_type": "code",
      "metadata": {
        "id": "fUDByDtROhMT"
      },
      "source": [
        "print(name[0])\n",
        "print(name[1])"
      ],
      "execution_count": null,
      "outputs": []
    },
    {
      "cell_type": "markdown",
      "metadata": {
        "id": "1V_0yL6COwwj"
      },
      "source": [
        "### Extracting substrings from strings"
      ]
    },
    {
      "cell_type": "code",
      "metadata": {
        "id": "dYDWR-bVOt_s"
      },
      "source": [
        "print(name[0:4])\n",
        "print(name[4:6])\n",
        "print(msg[0:9])\n",
        "print(msg[9:14])"
      ],
      "execution_count": null,
      "outputs": []
    },
    {
      "cell_type": "markdown",
      "metadata": {
        "id": "kC97nZJgO6Rt"
      },
      "source": [
        "### Finding length of string"
      ]
    },
    {
      "cell_type": "code",
      "metadata": {
        "id": "knStY3hpO41s"
      },
      "source": [
        "print(len(msg))\n",
        "print(msg[9:len(msg)])"
      ],
      "execution_count": null,
      "outputs": []
    },
    {
      "cell_type": "markdown",
      "metadata": {
        "id": "cMod6JwZPB8r"
      },
      "source": [
        "### String Concatenation"
      ]
    },
    {
      "cell_type": "code",
      "metadata": {
        "id": "TpXMy9MYO_2b"
      },
      "source": [
        "new_msg= name +\" \" +  msg\n",
        "print(new_msg)"
      ],
      "execution_count": null,
      "outputs": []
    },
    {
      "cell_type": "markdown",
      "metadata": {
        "id": "K67x7BEzPWIA"
      },
      "source": [
        "## Lists in python"
      ]
    },
    {
      "cell_type": "markdown",
      "metadata": {
        "id": "9kVhdjH_Paji"
      },
      "source": [
        "### Defining lists"
      ]
    },
    {
      "cell_type": "code",
      "metadata": {
        "id": "tzi3g8oGPUHW"
      },
      "source": [
        "mylist1=[\"Sheldon\",\"Tommy\", \"Benny\"]\n",
        "print(type(mylist1))"
      ],
      "execution_count": null,
      "outputs": []
    },
    {
      "cell_type": "markdown",
      "metadata": {
        "id": "6PBCTfQYPgVQ"
      },
      "source": [
        "### Accessing values from a list"
      ]
    },
    {
      "cell_type": "code",
      "metadata": {
        "id": "4PpseowsPesf"
      },
      "source": [
        "print(mylist1[0])\n",
        "print(mylist1[1])"
      ],
      "execution_count": null,
      "outputs": []
    },
    {
      "cell_type": "markdown",
      "metadata": {
        "id": "JKr_OltFPph_"
      },
      "source": [
        "### Length of strings\n",
        "Number of elements in the list can be accessed by using len() function "
      ]
    },
    {
      "cell_type": "code",
      "metadata": {
        "id": "V2ifWC5JPm4h"
      },
      "source": [
        "len(mylist1)"
      ],
      "execution_count": null,
      "outputs": []
    },
    {
      "cell_type": "markdown",
      "metadata": {
        "id": "-xh7svOpP3AT"
      },
      "source": [
        "### List appending or combining two lists into one"
      ]
    },
    {
      "cell_type": "code",
      "metadata": {
        "id": "ml59o0qxPzF7"
      },
      "source": [
        "mylist2=[\"Ken\",\"Bill\"]\n",
        "new_list=mylist1 + mylist2\n",
        "print(new_list)"
      ],
      "execution_count": null,
      "outputs": []
    },
    {
      "cell_type": "markdown",
      "metadata": {
        "id": "kbfpdLViP-6g"
      },
      "source": [
        "### Updating an element in the list"
      ]
    },
    {
      "cell_type": "code",
      "metadata": {
        "id": "EkvUuHW1P7K_"
      },
      "source": [
        "print(\"actual list\",mylist1)\n",
        "mylist1[0]=\"John\"\n",
        "print(\"list after updating\" ,mylist1)"
      ],
      "execution_count": null,
      "outputs": []
    },
    {
      "cell_type": "markdown",
      "metadata": {
        "id": "7knhtGY7QGYo"
      },
      "source": [
        "### Deleting an element from the list"
      ]
    },
    {
      "cell_type": "code",
      "metadata": {
        "id": "4uZXrJKEQEUy"
      },
      "source": [
        "print(\"actual list\",mylist2)\n",
        "del mylist2[0]\n",
        "print(\"list after deleting\" ,mylist2)"
      ],
      "execution_count": null,
      "outputs": []
    },
    {
      "cell_type": "markdown",
      "metadata": {
        "id": "BySeZvirQNG_"
      },
      "source": [
        "## Difference between array and a list "
      ]
    },
    {
      "cell_type": "code",
      "metadata": {
        "id": "dvPiGppXQLoj"
      },
      "source": [
        "val1=[1,7,6]\n",
        "val2=[6,2,2]\n",
        "val3=val1+val2\n",
        "print(val3)"
      ],
      "execution_count": null,
      "outputs": []
    },
    {
      "cell_type": "code",
      "metadata": {
        "id": "QZB67l2pQUQ5"
      },
      "source": [
        "details=[\"John\", 1500, \"LA\"]\n",
        "print(details)"
      ],
      "execution_count": null,
      "outputs": []
    },
    {
      "cell_type": "markdown",
      "metadata": {
        "id": "Mc4jYU7fQfoT"
      },
      "source": [
        "Lists can contain different datatypes."
      ]
    },
    {
      "cell_type": "code",
      "metadata": {
        "id": "9Y6m5FvYQYGr"
      },
      "source": [
        "details_all=[\"John\", 1500, \"LA\",mylist1 ]\n",
        "print(details_all)"
      ],
      "execution_count": null,
      "outputs": []
    },
    {
      "cell_type": "markdown",
      "metadata": {
        "id": "aWLaXqx5QqJ7"
      },
      "source": [
        "We can add list inside a list."
      ]
    },
    {
      "cell_type": "markdown",
      "metadata": {
        "id": "6__DjHQjQu43"
      },
      "source": [
        "## Dictionaries"
      ]
    },
    {
      "cell_type": "markdown",
      "metadata": {
        "id": "hlDLxZEAQ3Nm"
      },
      "source": [
        "### Defining a dictionary"
      ]
    },
    {
      "cell_type": "code",
      "metadata": {
        "id": "DIM9xqpHQo99"
      },
      "source": [
        "city={2:\"Los Angeles\", 9:\"Dallas\" , 21:\"Boston\"}\n",
        "print(city)\n",
        "print(type(city))"
      ],
      "execution_count": null,
      "outputs": []
    },
    {
      "cell_type": "markdown",
      "metadata": {
        "id": "-ZuDSldPRAXT"
      },
      "source": [
        "### Accessing values from a dictionary"
      ]
    },
    {
      "cell_type": "code",
      "metadata": {
        "id": "7DhrgbdFQ8QH"
      },
      "source": [
        "print(city[9])\n",
        "print(city[2])"
      ],
      "execution_count": null,
      "outputs": []
    },
    {
      "cell_type": "markdown",
      "metadata": {
        "id": "7EnUVNuXRHQw"
      },
      "source": [
        "### Printing all keys"
      ]
    },
    {
      "cell_type": "code",
      "metadata": {
        "id": "rvI1f-emRPLu"
      },
      "source": [
        "print(city.keys())"
      ],
      "execution_count": null,
      "outputs": []
    },
    {
      "cell_type": "markdown",
      "metadata": {
        "id": "P8QBAU1DRSmJ"
      },
      "source": [
        "### Printing all values"
      ]
    },
    {
      "cell_type": "code",
      "metadata": {
        "id": "qYhYUfZyRQEl"
      },
      "source": [
        "print(city.values())"
      ],
      "execution_count": null,
      "outputs": []
    },
    {
      "cell_type": "markdown",
      "metadata": {
        "id": "1i-A-KjjRfvi"
      },
      "source": [
        "### Updating an element value in the dictionary"
      ]
    },
    {
      "cell_type": "code",
      "metadata": {
        "id": "35Uxx1gkRXB8"
      },
      "source": [
        "city[2]=\"New York\"\n",
        "print(city)"
      ],
      "execution_count": null,
      "outputs": []
    },
    {
      "cell_type": "markdown",
      "metadata": {
        "id": "VL82oVcYRnRh"
      },
      "source": [
        "### Deleting a value from dictionary"
      ]
    },
    {
      "cell_type": "code",
      "metadata": {
        "id": "7siKnw6gRlcm"
      },
      "source": [
        "del(city[2])\n",
        "print(city)"
      ],
      "execution_count": null,
      "outputs": []
    },
    {
      "cell_type": "markdown",
      "metadata": {
        "id": "13VO8Bn1SjaF"
      },
      "source": [
        "### Keys in dictionary"
      ]
    },
    {
      "cell_type": "code",
      "metadata": {
        "id": "gUUEmvG5Rsvz"
      },
      "source": [
        "country={1:\"USA\", 6:\"Brazil\" , 7:\"India\", 6: \"France\" }\n",
        "print(country)"
      ],
      "execution_count": null,
      "outputs": []
    },
    {
      "cell_type": "markdown",
      "metadata": {
        "id": "0my3joKrSWOl"
      },
      "source": [
        "Keys can never repeat. In case of a repeat key, Python doesn’t throw an error but it automatically ignores the value associated with first key. "
      ]
    },
    {
      "cell_type": "code",
      "metadata": {
        "id": "fh1WoRvUSUjh"
      },
      "source": [
        "GDP= {\"USA\": 20494, \"China\" : 13407}\n",
        "print(GDP)\n",
        "print(GDP[\"USA\"])\n",
        "print(GDP[USA])"
      ],
      "execution_count": null,
      "outputs": []
    },
    {
      "cell_type": "markdown",
      "metadata": {
        "id": "UwRvBhXSSyar"
      },
      "source": [
        "We can have non-numeric keys as well but while accessing it you need to pass the key values like a string - with quotes. "
      ]
    },
    {
      "cell_type": "code",
      "metadata": {
        "id": "sSaHRv5pS4Ox"
      },
      "source": [
        "cust={\"cust1\":[19, 9500], \"cust2\":[21, 10000]}\n",
        "print(cust)\n",
        "print(cust[\"cust1\"])"
      ],
      "execution_count": null,
      "outputs": []
    },
    {
      "cell_type": "markdown",
      "metadata": {
        "id": "XBdDNiaxTB-L"
      },
      "source": [
        "Values in the dictionary can be lists also."
      ]
    },
    {
      "cell_type": "markdown",
      "metadata": {
        "id": "eoYvVO8bUV7M"
      },
      "source": [
        "## Packages in python"
      ]
    },
    {
      "cell_type": "code",
      "metadata": {
        "id": "cDd4UjLWS_ED"
      },
      "source": [
        "print(log(10))"
      ],
      "execution_count": null,
      "outputs": []
    },
    {
      "cell_type": "code",
      "metadata": {
        "id": "81tOVSulUfjq"
      },
      "source": [
        "print(sqrt(256))"
      ],
      "execution_count": null,
      "outputs": []
    },
    {
      "cell_type": "markdown",
      "metadata": {
        "id": "TfBK2V57UuzQ"
      },
      "source": [
        "Python is throwing errors. It is not due to the wrong syntax or erroneous function names. Python is a multi-purpose language; it doesn’t have log as one of its core functions. Python doesn’t have a square root function either.\n",
        "\n",
        "Python contains a package called math. Just import math package, and you can now safely use log and sqrt."
      ]
    },
    {
      "cell_type": "code",
      "metadata": {
        "id": "AXAH46BRUtF3"
      },
      "source": [
        "import math\n",
        "print(math.log(10))\n",
        "print(math.sqrt(256))"
      ],
      "execution_count": null,
      "outputs": []
    },
    {
      "cell_type": "markdown",
      "metadata": {
        "id": "G58InpB6VBmi"
      },
      "source": [
        "### Numpy"
      ]
    },
    {
      "cell_type": "code",
      "metadata": {
        "id": "fYqlH1NSU-Sy"
      },
      "source": [
        "import numpy as np\n",
        "\n",
        "income = np.array([6725, 9365, 8030, 8750])\n",
        "print(type(income))\n",
        "print(income) \n",
        "print(income[0])"
      ],
      "execution_count": null,
      "outputs": []
    },
    {
      "cell_type": "markdown",
      "metadata": {
        "id": "1Pe8AxTYVQuD"
      },
      "source": [
        "Creating a new array from income array"
      ]
    },
    {
      "cell_type": "code",
      "metadata": {
        "id": "AQR7w-UhVHtT"
      },
      "source": [
        "expenses=income*0.65\n",
        "print(expenses)"
      ],
      "execution_count": null,
      "outputs": []
    },
    {
      "cell_type": "code",
      "metadata": {
        "id": "DMYaRKSeVNpd"
      },
      "source": [
        "savings=income-expenses\n",
        "print(savings)"
      ],
      "execution_count": null,
      "outputs": []
    },
    {
      "cell_type": "markdown",
      "metadata": {
        "id": "pGDvVjvCVukQ"
      },
      "source": [
        "#### Array VS list"
      ]
    },
    {
      "cell_type": "code",
      "metadata": {
        "id": "AJ8g0-NAVWJS"
      },
      "source": [
        "income_list=[6725, 9365, 8030, 8750]\n",
        "income_array = np.array(income_list)"
      ],
      "execution_count": null,
      "outputs": []
    },
    {
      "cell_type": "code",
      "metadata": {
        "id": "QAMx-1XwVk-9"
      },
      "source": [
        "print(income_list*2)\n",
        "print(income_array*2)"
      ],
      "execution_count": null,
      "outputs": []
    },
    {
      "cell_type": "markdown",
      "metadata": {
        "id": "sbr-qoiTV2Te"
      },
      "source": [
        "### Pandas"
      ]
    },
    {
      "cell_type": "code",
      "metadata": {
        "id": "z4wdoMNSVoNi"
      },
      "source": [
        "import pandas as pd"
      ],
      "execution_count": null,
      "outputs": []
    },
    {
      "cell_type": "markdown",
      "metadata": {
        "id": "gdyed1pbdtlv"
      },
      "source": [
        "To upload the data/files in google colab, use following syntax"
      ]
    },
    {
      "cell_type": "code",
      "metadata": {
        "id": "jnwqfIDsWAmI"
      },
      "source": [
        "from google.colab import drive\n",
        "drive.mount('/content/drive')"
      ],
      "execution_count": null,
      "outputs": []
    },
    {
      "cell_type": "code",
      "metadata": {
        "id": "GC7JxfQAd4eu"
      },
      "source": [
        "bank= pd.read_csv('/content/drive/My Drive/DataSets/Chapter-2/Datasets/Bank Tele Marketing/bank_market.csv')\n",
        "print(bank)"
      ],
      "execution_count": null,
      "outputs": []
    },
    {
      "cell_type": "markdown",
      "metadata": {
        "id": "wKqqzQLlg8ye"
      },
      "source": [
        "### Matplotlib"
      ]
    },
    {
      "cell_type": "code",
      "metadata": {
        "id": "4ICwLymlfDsZ"
      },
      "source": [
        "bank= pd.read_csv('/content/drive/My Drive/DataSets/Chapter-2/Datasets/Bank Tele Marketing/bank_market.csv')\n",
        "print(bank.columns)"
      ],
      "execution_count": null,
      "outputs": []
    },
    {
      "cell_type": "code",
      "metadata": {
        "id": "FXLlGYYYhmEd"
      },
      "source": [
        "import matplotlib as mp\n",
        "mp.pyplot.scatter(bank.age,bank.balance)"
      ],
      "execution_count": null,
      "outputs": []
    },
    {
      "cell_type": "markdown",
      "metadata": {
        "id": "lCIGOJDNh4Vv"
      },
      "source": [
        "## Conditions and Loops in python"
      ]
    },
    {
      "cell_type": "markdown",
      "metadata": {
        "id": "26BrRyFliJmf"
      },
      "source": [
        "### If condition\n"
      ]
    },
    {
      "cell_type": "markdown",
      "metadata": {
        "id": "MSHSMJGPiQVw"
      },
      "source": [
        "Example 1"
      ]
    },
    {
      "cell_type": "code",
      "metadata": {
        "id": "8F6bFWo8hqSt"
      },
      "source": [
        "level=60\n",
        "if level<50:\n",
        "    print(\"Stage1\")\n",
        "print(\"Done with If\")"
      ],
      "execution_count": null,
      "outputs": []
    },
    {
      "cell_type": "markdown",
      "metadata": {
        "id": "CLsRigoFiX0H"
      },
      "source": [
        "Example 2"
      ]
    },
    {
      "cell_type": "code",
      "metadata": {
        "id": "x4Dh_S7yiWGm"
      },
      "source": [
        "level=60\n",
        "if level<50:\n",
        "    print(\"Stage1\")\n",
        "    print(\"Done with If\")"
      ],
      "execution_count": null,
      "outputs": []
    },
    {
      "cell_type": "markdown",
      "metadata": {
        "id": "6CqAMIAUkL5A"
      },
      "source": [
        "Example 3"
      ]
    },
    {
      "cell_type": "code",
      "metadata": {
        "id": "s-yP2qNNkCKX"
      },
      "source": [
        "level=40\n",
        "if level<50:\n",
        "    print(\"Stage1\")\n",
        "print(\"Done with If\")"
      ],
      "execution_count": null,
      "outputs": []
    },
    {
      "cell_type": "markdown",
      "metadata": {
        "id": "FbIiSdsclfmM"
      },
      "source": [
        "Example 4"
      ]
    },
    {
      "cell_type": "code",
      "metadata": {
        "id": "eboHcf3xld-X"
      },
      "source": [
        "level=60\n",
        "if level<50:\n",
        "    print(\"Stage1\")\n",
        "else:\n",
        "    print(\"Stage2\")\n",
        "print(\"Done with If\")"
      ],
      "execution_count": null,
      "outputs": []
    },
    {
      "cell_type": "markdown",
      "metadata": {
        "id": "JrGUePETloFi"
      },
      "source": [
        "### For loop"
      ]
    },
    {
      "cell_type": "markdown",
      "metadata": {
        "id": "XqhjKv3emLre"
      },
      "source": [
        "Example 1"
      ]
    },
    {
      "cell_type": "code",
      "metadata": {
        "id": "gEEyHO8vlkHi"
      },
      "source": [
        "names=[\"Tommy\", \"Benny\", \"Ken\"]\n",
        "for i in names:\n",
        "    print(\"The name is\", i)"
      ],
      "execution_count": null,
      "outputs": []
    },
    {
      "cell_type": "markdown",
      "metadata": {
        "id": "Qe-MywofmhF-"
      },
      "source": [
        "Example 2"
      ]
    },
    {
      "cell_type": "code",
      "metadata": {
        "id": "gqNvW-DJmfMB"
      },
      "source": [
        "nums=range(1,10)\n",
        "cumsum=0\n",
        "for i in nums:\n",
        "    cumsum=cumsum+i\n",
        "    print(\"Cumulative sum till\", i ,\"is\", cumsum)"
      ],
      "execution_count": null,
      "outputs": []
    },
    {
      "cell_type": "markdown",
      "metadata": {
        "id": "-1Q_BbeomnnP"
      },
      "source": [
        "## Data Importing and basic details "
      ]
    },
    {
      "cell_type": "code",
      "metadata": {
        "id": "wSD0QnhHmmD6"
      },
      "source": [
        "import pandas as pd"
      ],
      "execution_count": null,
      "outputs": []
    },
    {
      "cell_type": "markdown",
      "metadata": {
        "id": "wSqDzU11oZiY"
      },
      "source": [
        "#### Importing data from csv files "
      ]
    },
    {
      "cell_type": "code",
      "metadata": {
        "id": "yyiNgWWdnK51"
      },
      "source": [
        "sales= pd.read_csv('/content/drive/My Drive/DataSets/Chapter-2/Datasets/Sales/Sales.csv')\n",
        "print(sales)"
      ],
      "execution_count": null,
      "outputs": []
    },
    {
      "cell_type": "markdown",
      "metadata": {
        "id": "4cYPQhGwoof2"
      },
      "source": [
        "#### Importing data from Microsoft Excel files "
      ]
    },
    {
      "cell_type": "code",
      "metadata": {
        "id": "VEn8hXmloWBZ"
      },
      "source": [
        "wb_data = pd.read_excel(\"/content/drive/My Drive/DataSets/Chapter-2/Datasets/World Bank Data/World Bank Indicators.xlsx\" , \"Data by country\")\n",
        "print(wb_data)"
      ],
      "execution_count": null,
      "outputs": []
    },
    {
      "cell_type": "markdown",
      "metadata": {
        "id": "kWt_eSTmp35k"
      },
      "source": [
        "### Basic Details of dataset. "
      ]
    },
    {
      "cell_type": "code",
      "metadata": {
        "id": "6rGdLXxmo171"
      },
      "source": [
        "print(sales.shape)\n",
        "print(sales.columns)\n",
        "print(sales.head(10))\n",
        "print(sales.tail(10)) "
      ],
      "execution_count": null,
      "outputs": []
    },
    {
      "cell_type": "code",
      "metadata": {
        "id": "RPsjK21hqAtw"
      },
      "source": [
        "print(sales.sample(n=10))\n",
        "print(sales.dtypes) "
      ],
      "execution_count": null,
      "outputs": []
    },
    {
      "cell_type": "code",
      "metadata": {
        "id": "rWM0HZWEqMwN"
      },
      "source": [
        "print(sales.describe())\n",
        "print(sales[\"Invoice_Amount\"].describe())"
      ],
      "execution_count": null,
      "outputs": []
    },
    {
      "cell_type": "code",
      "metadata": {
        "id": "dbRtGVvrqQw7"
      },
      "source": [
        "print(sales[\"Sales_Type\"].value_counts())"
      ],
      "execution_count": null,
      "outputs": []
    },
    {
      "cell_type": "code",
      "metadata": {
        "id": "TwI9cxSUqTbq"
      },
      "source": [
        "print(sum(sales[\"Country_code\"].isnull()))\n",
        "print(sum(sales[\"CustName\"].isnull()))\n",
        "print(sum(sales[\"Invoice_Amount\"].isnull()))"
      ],
      "execution_count": null,
      "outputs": []
    },
    {
      "cell_type": "markdown",
      "metadata": {
        "id": "_IgSHfNxHj6p"
      },
      "source": [
        "## Subsets and Data filters"
      ]
    },
    {
      "cell_type": "code",
      "metadata": {
        "id": "VfVZkZjkqVcs"
      },
      "source": [
        "bank= pd.read_csv('/content/drive/My Drive/DataSets/Chapter-2/Datasets/Bank Tele Marketing/bank_market.csv')\n",
        "print(bank.shape)\n",
        "print(bank.columns)"
      ],
      "execution_count": null,
      "outputs": []
    },
    {
      "cell_type": "markdown",
      "metadata": {
        "id": "B7-phUbEJO1Y"
      },
      "source": [
        "we can create new datasets by selecting or excluding few columns or rows. "
      ]
    },
    {
      "cell_type": "markdown",
      "metadata": {
        "id": "7T6k28foJUu1"
      },
      "source": [
        "**Method 1**\n",
        "\n",
        "Here we need to mention the row count to keep first few rows."
      ]
    },
    {
      "cell_type": "code",
      "metadata": {
        "id": "0vh8FdfKH3oE"
      },
      "source": [
        "bank1 = bank.head(5)\n",
        "print(bank1)"
      ],
      "execution_count": null,
      "outputs": []
    },
    {
      "cell_type": "markdown",
      "metadata": {
        "id": "5UemIAJcJib0"
      },
      "source": [
        "**Method 2**\n",
        "\n",
        "In Python wow index starts with zero. You can mention the index number in iloc(index location) to keep some specific rows. If you are keeping only a specific row, the result will be formatted as a series, and not as a data frame. "
      ]
    },
    {
      "cell_type": "code",
      "metadata": {
        "id": "TfiEZHEMJdHK"
      },
      "source": [
        "bank2=bank.iloc[2]\n",
        "print(bank2)\n",
        "print(type(bank2))"
      ],
      "execution_count": null,
      "outputs": []
    },
    {
      "cell_type": "markdown",
      "metadata": {
        "id": "dwuM8UbHKI6v"
      },
      "source": [
        "**Method 3**\n",
        "\n",
        "In case you wish to mention a greater number of indices, mention them as a list. Either you can define the list beforehand or pass it on directly.\n",
        "Here the outside bracket [ ] is for accessing while inside bucket is to define the list"
      ]
    },
    {
      "cell_type": "code",
      "metadata": {
        "id": "i11ym4zLJyVJ"
      },
      "source": [
        "index_vals=[2,9,15,25]\n",
        "bank3=bank.iloc[index_vals]\n",
        "print(bank3)"
      ],
      "execution_count": null,
      "outputs": []
    },
    {
      "cell_type": "code",
      "metadata": {
        "id": "bM0zutOJKvvf"
      },
      "source": [
        "bank3=bank.iloc[[2,9,15,25]]\n",
        "print(bank3)"
      ],
      "execution_count": null,
      "outputs": []
    },
    {
      "cell_type": "markdown",
      "metadata": {
        "id": "n_WAjaKwLQea"
      },
      "source": [
        "**Method 4**\n",
        "\n",
        "New dataset by keeping selected columns"
      ]
    },
    {
      "cell_type": "code",
      "metadata": {
        "id": "EQlt0_0ELBgj"
      },
      "source": [
        "bank4 = bank[[\"job\", \"age\"]]\n",
        "print(bank4.head(5))"
      ],
      "execution_count": null,
      "outputs": []
    },
    {
      "cell_type": "markdown",
      "metadata": {
        "id": "6sPqXLKMLtt9"
      },
      "source": [
        "**Method 5**\n",
        "\n",
        "If you need a new dataset by keeping selected columns and rows, just mention the relevant column names and row indexes in iloc"
      ]
    },
    {
      "cell_type": "code",
      "metadata": {
        "id": "rRJPrMxYLeQT"
      },
      "source": [
        "bank5 = bank[[\"job\", \"age\"]].iloc[0:5]\n",
        "print(bank5)"
      ],
      "execution_count": null,
      "outputs": []
    },
    {
      "cell_type": "markdown",
      "metadata": {
        "id": "AzoaaQ3qL8ff"
      },
      "source": [
        "The code given above keeps only two columns job and age along with the first five rows of bank dataset. Remember mentioning [0:5] will include zero and exclude five. Total of five rows will be selected, - zero till four. "
      ]
    },
    {
      "cell_type": "markdown",
      "metadata": {
        "id": "e1Oj5qsiMa6M"
      },
      "source": [
        "**Method 6**\n",
        "\n",
        "New data by excluding columns. We need to use the drop function with a mention of the row indices. \n",
        "The code below excludes four rows and creates a new dataset bank6. Here we are excluding row 1, row3, row5 and row7. You can verify that by looking at customer numbers. "
      ]
    },
    {
      "cell_type": "code",
      "metadata": {
        "id": "WqB7CrSvL5Si"
      },
      "source": [
        "bank6=bank.drop([0,2,4,6])\n",
        "print(bank6.head(5))"
      ],
      "execution_count": null,
      "outputs": []
    },
    {
      "cell_type": "markdown",
      "metadata": {
        "id": "4qMOxOyANN6S"
      },
      "source": [
        "**Method 7**\n",
        "\n",
        "New data by excluding columns\n",
        "\n",
        "Again, we need to use the drop function and mention the column names, but there is an additional parameter we need to provide as axis=1. The same drop function is used both for dropping rows and columns. While dropping rows we used axis=0 and while doing the same with columns, we used axis=1. If you don’t mention any axis value, it will be taken default zero. While dropping rows it is perfectly fine if you don’t mention axis. But while dropping columns it is mandatory to mention axis=1, else you will get axis related error. \n"
      ]
    },
    {
      "cell_type": "code",
      "metadata": {
        "id": "oJrBG9eWMuJ6"
      },
      "source": [
        "bank7=bank.drop([\"Cust_num\"], axis=1)\n",
        "print(bank7.head(5))"
      ],
      "execution_count": null,
      "outputs": []
    },
    {
      "cell_type": "markdown",
      "metadata": {
        "id": "MA0DYULMTd1x"
      },
      "source": [
        "If you don't mention the axis you will fet following error"
      ]
    },
    {
      "cell_type": "code",
      "metadata": {
        "id": "Qa5dDziCS0U0"
      },
      "source": [
        "bank7_1=bank.drop([\"Cust_num\"])"
      ],
      "execution_count": null,
      "outputs": []
    },
    {
      "cell_type": "markdown",
      "metadata": {
        "id": "qYs896J5Uxuq"
      },
      "source": [
        "**Method 8**-Filter conditions\n",
        "\n",
        "Most of the time we use these types of filters for sub setting the data rather than using the indexes.In the below example we are trying to get a subset from bank data where age>40. While mentioning the column name in the filter condition you need to mention dataset name again. "
      ]
    },
    {
      "cell_type": "code",
      "metadata": {
        "id": "fCqXlqceTkLj"
      },
      "source": [
        "bank8=bank[bank['age']>40]\n",
        "print(bank8.shape)"
      ],
      "execution_count": null,
      "outputs": []
    },
    {
      "cell_type": "markdown",
      "metadata": {
        "id": "t1XB_MyDWgFL"
      },
      "source": [
        "### AND condition & filters"
      ]
    },
    {
      "cell_type": "code",
      "metadata": {
        "id": "nWmNprPCWQUd"
      },
      "source": [
        "bank9=bank[(bank['age']>40) & (bank['loan']==\"no\")]\n",
        "print(bank9.shape)"
      ],
      "execution_count": null,
      "outputs": []
    },
    {
      "cell_type": "markdown",
      "metadata": {
        "id": "0aFV7AFvWrh-"
      },
      "source": [
        "### OR condition & filter"
      ]
    },
    {
      "cell_type": "code",
      "metadata": {
        "id": "qytNuMqOWp34"
      },
      "source": [
        "bank10=bank[(bank['age']>40) | (bank['loan']==\"no\")]\n",
        "print(bank10.shape)"
      ],
      "execution_count": null,
      "outputs": []
    },
    {
      "cell_type": "markdown",
      "metadata": {
        "id": "iH37HWbtYsuj"
      },
      "source": [
        "## Some other useful commands"
      ]
    },
    {
      "cell_type": "markdown",
      "metadata": {
        "id": "Ukf8YDX3Ztj-"
      },
      "source": [
        "### Creating new columns"
      ]
    },
    {
      "cell_type": "code",
      "metadata": {
        "id": "-p8FqA6gWxit"
      },
      "source": [
        "print(bank.shape)\n",
        "print(bank.columns)\n",
        "bank[\"bal_new\"]=bank[\"balance\"]*0.9\n",
        "print(bank.shape)\n",
        "print(bank.columns)"
      ],
      "execution_count": null,
      "outputs": []
    },
    {
      "cell_type": "markdown",
      "metadata": {
        "id": "6K41IP1cdW0d"
      },
      "source": [
        "### Joining Datasets\n",
        "\n",
        "The function used for joining the datasets is pd.merge(). We can perform standard joining operations like outer join, inner join, left and right outer joins. Here is the code with an explanation for performing joins.  \n",
        "Product1 and Product2 are the two data sets. “On” is the primary key that is present in both the datasets. The parameter value “how” will decide the type of join. \n"
      ]
    },
    {
      "cell_type": "code",
      "metadata": {
        "id": "MPd23tz0eFBq"
      },
      "source": [
        "product1= pd.read_csv(r\"/content/drive/My Drive/DataSets/Chapter-2/Datasets/Orders Products/Product1_orders.csv\")\n",
        "print(product1.shape)\n",
        "print(product1.columns)"
      ],
      "execution_count": null,
      "outputs": []
    },
    {
      "cell_type": "code",
      "metadata": {
        "id": "eVi8m0C-ecnG"
      },
      "source": [
        "product2= pd.read_csv(r\"/content/drive/My Drive/DataSets/Chapter-2/Datasets/Orders Products/Product2_orders.csv\")\n",
        "print(product2.shape)\n",
        "print(product2.columns)"
      ],
      "execution_count": null,
      "outputs": []
    },
    {
      "cell_type": "markdown",
      "metadata": {
        "id": "GJ1LbDEpesAA"
      },
      "source": [
        "#### Inner join"
      ]
    },
    {
      "cell_type": "code",
      "metadata": {
        "id": "tJP0qtovekOX"
      },
      "source": [
        "inner_data=pd.merge(product1, product2, on='Cust_id', how='inner')\n",
        "print(inner_data.shape)"
      ],
      "execution_count": null,
      "outputs": []
    },
    {
      "cell_type": "markdown",
      "metadata": {
        "id": "698LZ1dye7Fk"
      },
      "source": [
        "#### Outer join"
      ]
    },
    {
      "cell_type": "code",
      "metadata": {
        "id": "aM6Ov1V0e3O8"
      },
      "source": [
        "outer_data=pd.merge(product1, product2, on='Cust_id', how='outer')\n",
        "print(outer_data.shape)"
      ],
      "execution_count": null,
      "outputs": []
    },
    {
      "cell_type": "markdown",
      "metadata": {
        "id": "lClhOCwNfBwY"
      },
      "source": [
        "#### Left outer join"
      ]
    },
    {
      "cell_type": "code",
      "metadata": {
        "id": "YpDJ4GxJe-ys"
      },
      "source": [
        "L_outer_data=pd.merge(product1, product2, on='Cust_id', how='left')\n",
        "print(L_outer_data.shape)"
      ],
      "execution_count": null,
      "outputs": []
    },
    {
      "cell_type": "markdown",
      "metadata": {
        "id": "qNbxB_dcfIyV"
      },
      "source": [
        "#### Right outer join"
      ]
    },
    {
      "cell_type": "code",
      "metadata": {
        "id": "yGLYsm-_fFPD"
      },
      "source": [
        "R_outer_data=pd.merge(product1, product2, on='Cust_id', how='right')\n",
        "print(R_outer_data.shape)"
      ],
      "execution_count": null,
      "outputs": []
    },
    {
      "cell_type": "markdown",
      "metadata": {
        "id": "ouKv6ATYfXPD"
      },
      "source": [
        "#### Inner join 2\n",
        "\n",
        "If the comparing column name is different in two datasets, you can use left_on and right_on option "
      ]
    },
    {
      "cell_type": "code",
      "metadata": {
        "id": "S6p4vHcgfMrw"
      },
      "source": [
        "inner_data1=pd.merge(product1, product2, left_on='Cust_id',right_on='Cust_id', how='inner')\n",
        "print(inner_data1.shape)"
      ],
      "execution_count": null,
      "outputs": []
    },
    {
      "cell_type": "markdown",
      "metadata": {
        "id": "NCRDBNbXg4ja"
      },
      "source": [
        "## Basic statistics and Data exploration"
      ]
    },
    {
      "cell_type": "markdown",
      "metadata": {
        "id": "JNwOtinEhJpX"
      },
      "source": [
        "### Basic descriptive statitics"
      ]
    },
    {
      "cell_type": "code",
      "metadata": {
        "id": "9_73Jbfufaal"
      },
      "source": [
        "import pandas as pd\n",
        "income_data= pd.read_csv(r\"/content/drive/My Drive/DataSets/Chapter-2/Datasets/Census Income Data/Income_data.csv\")\n",
        "print(income_data.shape)\n",
        "print(income_data.columns)"
      ],
      "execution_count": null,
      "outputs": []
    },
    {
      "cell_type": "markdown",
      "metadata": {
        "id": "NbxgV9YZhN8V"
      },
      "source": [
        "#### Mean"
      ]
    },
    {
      "cell_type": "code",
      "metadata": {
        "id": "kvMIDrvJh-6r"
      },
      "source": [
        "print(income_data[\"capital-gain\"].mean())"
      ],
      "execution_count": null,
      "outputs": []
    },
    {
      "cell_type": "markdown",
      "metadata": {
        "id": "KWttTcq2im4f"
      },
      "source": [
        "#### Median"
      ]
    },
    {
      "cell_type": "code",
      "metadata": {
        "id": "luazOuVKikDx"
      },
      "source": [
        "print(income_data[\"capital-gain\"].median())"
      ],
      "execution_count": null,
      "outputs": []
    },
    {
      "cell_type": "markdown",
      "metadata": {
        "id": "ShaEzfVXjA-Q"
      },
      "source": [
        "### Data exploration"
      ]
    },
    {
      "cell_type": "markdown",
      "metadata": {
        "id": "G_F_pXa2jYC-"
      },
      "source": [
        "#### Exploring numeric continuous variables\n",
        "\n",
        "To explore continuous variables, we use percentiles and percentile distributions. First, let’s try to explore what percentiles are. "
      ]
    },
    {
      "cell_type": "markdown",
      "metadata": {
        "id": "_pEcZ52ojoFK"
      },
      "source": [
        "##### Percentiles"
      ]
    },
    {
      "cell_type": "markdown",
      "metadata": {
        "id": "pDgoGUvHso41"
      },
      "source": [
        "The variable we are going to use here is capital-gain from income data. In previous discussions, we had already identified something fishy about this variable. Mean is 1,077.6 and median is 0. Let’s now try to calculate it’s percentile values. "
      ]
    },
    {
      "cell_type": "code",
      "metadata": {
        "id": "PiTMMrZYisgl"
      },
      "source": [
        "print(income_data[\"capital-gain\"].quantile(0.2))"
      ],
      "execution_count": null,
      "outputs": []
    },
    {
      "cell_type": "code",
      "metadata": {
        "id": "RqMwTe7mjwgj"
      },
      "source": [
        "print(income_data[\"capital-gain\"].quantile([0,0.1,0.2,0.3,0.4,0.5,0.6,0.7,0.8,0.9,1]))"
      ],
      "execution_count": null,
      "outputs": []
    },
    {
      "cell_type": "markdown",
      "metadata": {
        "id": "XCNS5Iz7u-uL"
      },
      "source": [
        "The output is not really what we expected. At the first glance it is confusing and not easy to comprehend. Let’s study through the output. There are two columns in the output. First column is the percentile, and the other its value. Which is value?  It is value of the variable, which is capital-gain in this case."
      ]
    },
    {
      "cell_type": "code",
      "metadata": {
        "id": "OZWNn1RCjyM_"
      },
      "source": [
        "print(income_data[\"capital-gain\"].quantile([0.9,0.91,0.92,0.93,0.94,0.95,0.96,0.97,0.98,0.99,1]))"
      ],
      "execution_count": null,
      "outputs": []
    },
    {
      "cell_type": "markdown",
      "metadata": {
        "id": "dS90OdnHvayA"
      },
      "source": [
        "As you can see 91 percentiles is zero, from 92 percentile onwards we see some positive values. Which means, 91% of the data is simply zeros, only remaining 9% of the data has some positive values. "
      ]
    },
    {
      "cell_type": "markdown",
      "metadata": {
        "id": "6oBy2iX-39JC"
      },
      "source": [
        "For exploring continuous variables we need to use percentiles. They will not only show you the complete distribution of a variable, but they will also help you in identifying outliers in the process. You can even guess what percentage of the data outliers are. If you have a continuous variable, it can take almost any value. It helps to use percentiles if you wish to get a feel of its distribution."
      ]
    },
    {
      "cell_type": "markdown",
      "metadata": {
        "id": "aei1v7lKCYGZ"
      },
      "source": [
        "**Example of Percentile**\n",
        "\n",
        "Let’s first get the standard percentiles as usual and identify any deep dive areas. For this exercise more than 60 hours is on the higher side and less than 20 lowers. we are not really interested in less than 24 and greater than 55. Let’s start with the deep dive of top 10 percentile. \n",
        "We need to drill down first 10 and last 10 percentiles. As our limits are 20 and 60, "
      ]
    },
    {
      "cell_type": "code",
      "metadata": {
        "id": "uKkzLlagkFHf"
      },
      "source": [
        "print(income_data[\"hours-per-week\"].quantile([0,0.1,0.2,0.3,0.4,0.5,0.6,0.7,0.8,0.9,1]))\n",
        "print(income_data[\"hours-per-week\"].quantile([0.9,0.91,0.92,0.93,0.94,0.95,0.96,0.97,0.98,0.99,1]))\n",
        "print(income_data[\"hours-per-week\"].quantile([0,0.01,0.02,0.03,0.04,0.05,0.06,0.07,0.08,0.09,0.1]))"
      ],
      "execution_count": null,
      "outputs": []
    },
    {
      "cell_type": "markdown",
      "metadata": {
        "id": "OgTrgi-tEboK"
      },
      "source": [
        "Now let’s proceed to detection of outliers on the higher side. The output clearly shows 92% of the data is less than 60 and remaining 8% is more than or equal to 60%, so, 8% can be termed as high side outliers. If we are looking for strictly more than 60 hours, then it is 4% of the data.\n",
        "\n",
        "In the output we can clearly observe 8% of the data is less than or equal to 20 hours. The lower side outlier percentage is 8%. If you are strictly looking for the data less than 20 and ignore values equal to 20 hours, this percentile stands at 5%. "
      ]
    },
    {
      "cell_type": "markdown",
      "metadata": {
        "id": "d4CzS2bCE_fk"
      },
      "source": [
        "**Finally, we have 4% high side outliers and low side 5% outliers. This is how you detect outliers and explore continuous variables.**"
      ]
    },
    {
      "cell_type": "markdown",
      "metadata": {
        "id": "R9RNcsoKk-x2"
      },
      "source": [
        "#### Exploring discrete and categorical variables\n",
        "Categorial variables have certain classes. These classes are nothing but the categories. To explore a categorical variable, we need to create a frequency table, which is much like a group by table or a summary table. A frequency table contains all the available categories (in a given set of data) and frequency counts or number of occurrences of each category type. You will get an idea on all unique classes and their weightage in the given data. "
      ]
    },
    {
      "cell_type": "code",
      "metadata": {
        "id": "K2g58Ap1kvMn"
      },
      "source": [
        "income_data[\"education\"].value_counts()"
      ],
      "execution_count": null,
      "outputs": []
    },
    {
      "cell_type": "markdown",
      "metadata": {
        "id": "iAHrf78VI14O"
      },
      "source": [
        "**Along with percentage:**\n",
        "we are trying to first create frequency counts, then percentages are calculated using normalize=True option. We then concatenate frequency and percentages into a table. axis=1 , which indicates we are concatenating columns. The parameter keys mentions the actual column names in the resultant table. "
      ]
    },
    {
      "cell_type": "code",
      "metadata": {
        "id": "Y07IjVA7lcxI"
      },
      "source": [
        "freq=income_data[\"education\"].value_counts()\n",
        "percent=income_data[\"education\"].value_counts(normalize=True)\n",
        "freq_table=pd.concat([freq,percent], axis=1, keys=[\"counts\",\"percent\"])\n",
        "print(freq_table)"
      ],
      "execution_count": null,
      "outputs": []
    },
    {
      "cell_type": "code",
      "metadata": {
        "id": "0EtzwEnAlfIi"
      },
      "source": [
        "#Frequnecy example -2 \n",
        "income_data[\"workclass\"].value_counts()"
      ],
      "execution_count": null,
      "outputs": []
    },
    {
      "cell_type": "markdown",
      "metadata": {
        "id": "PeB7r4HJJOWJ"
      },
      "source": [
        "**Cross tab:**\n",
        "\n",
        "Only 24% are earning more than 50K in the entire available data. Now let’s create a cross tab by comparing both education and income band. After that we will try get to get the income band distribution in each class of education "
      ]
    },
    {
      "cell_type": "code",
      "metadata": {
        "id": "Jp7hhXl8lhOu"
      },
      "source": [
        "#Cross tab\n",
        "print(income_data[\"Income_band\"].value_counts())\n",
        "print(income_data[\"Income_band\"].value_counts(normalize=True))\n",
        "cross_tab=pd.crosstab(income_data[\"education\"],income_data['Income_band'])\n",
        "cross_tab_p=cross_tab.astype(float).div(cross_tab.sum(axis=1), axis=0)\n",
        "final_table=pd.concat([cross_tab,cross_tab_p], axis=1)\n",
        "print(final_table)\n"
      ],
      "execution_count": null,
      "outputs": []
    }
  ]
}
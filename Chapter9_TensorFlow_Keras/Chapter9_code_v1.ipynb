{
 "cells": [
  {
   "cell_type": "markdown",
   "metadata": {},
   "source": [
    "# TensorFlow and Keras"
   ]
  },
  {
   "cell_type": "code",
   "execution_count": 10,
   "metadata": {},
   "outputs": [],
   "source": [
    "#Uncomment and use it\n",
    "#!pip install tensorflow"
   ]
  },
  {
   "cell_type": "code",
   "execution_count": 11,
   "metadata": {},
   "outputs": [
    {
     "name": "stdout",
     "output_type": "stream",
     "text": [
      "Name: tensorflow\n",
      "Version: 2.0.0\n",
      "Summary: TensorFlow is an open source machine learning framework for everyone.\n",
      "Home-page: https://www.tensorflow.org/\n",
      "Author: Google Inc.\n",
      "Author-email: packages@tensorflow.org\n",
      "License: Apache 2.0\n",
      "Location: c:\\users\\statinfer\\appdata\\roaming\\python\\python37\\site-packages\n",
      "Requires: protobuf, opt-einsum, numpy, gast, termcolor, six, tensorflow-estimator, wheel, google-pasta, wrapt, astor, tensorboard, absl-py, keras-preprocessing, grpcio, keras-applications\n",
      "Required-by: \n"
     ]
    }
   ],
   "source": [
    "!pip show tensorflow"
   ]
  },
  {
   "cell_type": "code",
   "execution_count": 12,
   "metadata": {},
   "outputs": [],
   "source": [
    "import tensorflow as tf"
   ]
  },
  {
   "cell_type": "markdown",
   "metadata": {},
   "source": [
    "## Tensors"
   ]
  },
  {
   "cell_type": "markdown",
   "metadata": {},
   "source": [
    "#### Constants"
   ]
  },
  {
   "cell_type": "markdown",
   "metadata": {},
   "source": [
    "tf.constant creates constant values, these values do not change\n",
    "or update during optimization process(training phase)"
   ]
  },
  {
   "cell_type": "code",
   "execution_count": 13,
   "metadata": {},
   "outputs": [
    {
     "name": "stdout",
     "output_type": "stream",
     "text": [
      "tf.Tensor([50 10], shape=(2,), dtype=int32)\n"
     ]
    }
   ],
   "source": [
    "a = tf.constant([50,10])\n",
    "print(a)"
   ]
  },
  {
   "cell_type": "markdown",
   "metadata": {},
   "source": [
    "Few things that we can do with the tensors at the runtime:\n",
    "1. Directly get a numpy value of the tensor\n",
    "2. dtype : data type of the tensor(int16/int32/float32/float64)\n",
    "3. shape: shape of the tensor"
   ]
  },
  {
   "cell_type": "code",
   "execution_count": 14,
   "metadata": {},
   "outputs": [
    {
     "name": "stdout",
     "output_type": "stream",
     "text": [
      "a in tensorflow ==> tf.Tensor([50 10], shape=(2,), dtype=int32)\n",
      "numpy value of a ==> [50 10]\n",
      "dtype of a ==> <dtype: 'int32'>\n",
      "shape of a ==> (2,)\n"
     ]
    }
   ],
   "source": [
    "print('a in tensorflow ==>', a)\n",
    "print('numpy value of a ==>', a.numpy())\n",
    "print('dtype of a ==>', a.dtype)\n",
    "print('shape of a ==>', a.shape)"
   ]
  },
  {
   "cell_type": "markdown",
   "metadata": {},
   "source": [
    "We can use inbuild tf.XX() function to create constant tensors, just like numpy."
   ]
  },
  {
   "cell_type": "code",
   "execution_count": 15,
   "metadata": {},
   "outputs": [
    {
     "name": "stdout",
     "output_type": "stream",
     "text": [
      "Tensor of Ones: \n",
      " tf.Tensor(\n",
      "[[1. 1.]\n",
      " [1. 1.]], shape=(2, 2), dtype=float32)\n",
      "Tensor of Zeros: \n",
      " tf.Tensor(\n",
      "[[0. 0.]\n",
      " [0. 0.]], shape=(2, 2), dtype=float32)\n",
      "Random normal values \n",
      " tf.Tensor(\n",
      "[[6.0224996 5.9507556]\n",
      " [6.110808  5.776061 ]\n",
      " [4.702984  6.0466003]], shape=(3, 2), dtype=float32)\n"
     ]
    }
   ],
   "source": [
    "print('Tensor of Ones: \\n',tf.ones(shape=(2, 2)))\n",
    "print('Tensor of Zeros: \\n',tf.zeros(shape=(2, 2)))\n",
    "print('Random normal values \\n', tf.random.normal(shape=(3, 2),\n",
    "                                                  mean=5, \n",
    "                                                  stddev=1))"
   ]
  },
  {
   "cell_type": "markdown",
   "metadata": {},
   "source": [
    "### Variables"
   ]
  },
  {
   "cell_type": "markdown",
   "metadata": {},
   "source": [
    "We generally create a variable with some values, call it initialized values, \n",
    "convert this constant tensor into a variable and then mutate the variable by using special functions."
   ]
  },
  {
   "cell_type": "code",
   "execution_count": 16,
   "metadata": {},
   "outputs": [
    {
     "name": "stdout",
     "output_type": "stream",
     "text": [
      "<tf.Variable 'Variable:0' shape=() dtype=int32, numpy=5>\n"
     ]
    }
   ],
   "source": [
    "x = tf.Variable(5) # Simple variable\n",
    "print(x)"
   ]
  },
  {
   "cell_type": "code",
   "execution_count": 17,
   "metadata": {},
   "outputs": [
    {
     "name": "stdout",
     "output_type": "stream",
     "text": [
      "<tf.Variable 'Variable:0' shape=(2, 2) dtype=float32, numpy=\n",
      "array([[-0.21380416,  0.60465974],\n",
      "       [ 0.31995222, -0.8001266 ]], dtype=float32)>\n"
     ]
    }
   ],
   "source": [
    "#randomly initialized variable, like we need for our weights\n",
    "w = tf.Variable(tf.random.normal(shape=(2, 2))) \n",
    "print(w)"
   ]
  },
  {
   "cell_type": "code",
   "execution_count": 18,
   "metadata": {},
   "outputs": [
    {
     "name": "stdout",
     "output_type": "stream",
     "text": [
      "<tf.Variable 'Variable:0' shape=() dtype=int32, numpy=5>\n",
      "New value <tf.Variable 'UnreadVariable' shape=() dtype=int32, numpy=2>\n",
      "increment by 1 <tf.Variable 'UnreadVariable' shape=() dtype=int32, numpy=6>\n",
      "Decrement by 2 <tf.Variable 'UnreadVariable' shape=() dtype=int32, numpy=3>\n"
     ]
    }
   ],
   "source": [
    "m = tf.Variable(5) # Simple variable\n",
    "print(m)\n",
    "\n",
    "m = tf.Variable(5) \n",
    "print('New value', m.assign(2))\n",
    "\n",
    "m = tf.Variable(5) \n",
    "print('increment by 1', m.assign_add(1))\n",
    "\n",
    "m = tf.Variable(5) \n",
    "print('Decrement by 2', m.assign_sub(2))\n"
   ]
  },
  {
   "cell_type": "markdown",
   "metadata": {},
   "source": [
    "### Regression Model building in TensorFlow"
   ]
  },
  {
   "cell_type": "markdown",
   "metadata": {},
   "source": [
    "#This step is for data creation, x and y"
   ]
  },
  {
   "cell_type": "code",
   "execution_count": 181,
   "metadata": {},
   "outputs": [
    {
     "data": {
      "image/png": "[encoded data removed]",
      "text/plain": [
       "<Figure size 432x288 with 1 Axes>"
      ]
     },
     "metadata": {
      "needs_background": "light"
     },
     "output_type": "display_data"
    }
   ],
   "source": [
    "#This step is for data creation, x and y\n",
    "import numpy as np\n",
    "x_train= np.array(range(5000,5100)).reshape(-1,1)\n",
    "\n",
    "\n",
    "y_train=[3*i+np.random.normal(500, 10) for i in x_train]\n",
    "\n",
    "import matplotlib.pyplot as plt\n",
    "plt.title(\"x_train vs y_train data\")\n",
    "plt.plot(x_train, y_train, 'b.')\n",
    "plt.show()"
   ]
  },
  {
   "cell_type": "code",
   "execution_count": 182,
   "metadata": {},
   "outputs": [
    {
     "name": "stdout",
     "output_type": "stream",
     "text": [
      "epoch : 0, loss  201625072.0,  W : [[0.4302729]], b  [1.0000284]\n",
      "epoch : 1, loss  181585056.0,  W : [[0.5663626]], b  [1.0000553]\n",
      "epoch : 2, loss  163536896.0,  W : [[0.69551224]], b  [1.000081]\n",
      "epoch : 3, loss  147282560.0,  W : [[0.81807566]], b  [1.0001053]\n",
      "epoch : 4, loss  132643792.0,  W : [[0.93438876]], b  [1.0001283]\n",
      "epoch : 5, loss  119460016.0,  W : [[1.0447704]], b  [1.0001501]\n",
      "epoch : 6, loss  107586592.0,  W : [[1.1495228]], b  [1.0001708]\n",
      "epoch : 7, loss  96893320.0,  W : [[1.2489332]], b  [1.0001905]\n",
      "epoch : 8, loss  87262864.0,  W : [[1.3432741]], b  [1.0002092]\n",
      "epoch : 9, loss  78589592.0,  W : [[1.432804]], b  [1.000227]\n",
      "epoch : 10, loss  70778392.0,  W : [[1.5177681]], b  [1.0002438]\n",
      "epoch : 11, loss  63743548.0,  W : [[1.5983994]], b  [1.0002598]\n",
      "epoch : 12, loss  57407924.0,  W : [[1.6749187]], b  [1.0002749]\n",
      "epoch : 13, loss  51702020.0,  W : [[1.7475357]], b  [1.0002893]\n",
      "epoch : 14, loss  46563252.0,  W : [[1.8164495]], b  [1.0003029]\n",
      "epoch : 15, loss  41935224.0,  W : [[1.881849]], b  [1.0003159]\n",
      "epoch : 16, loss  37767188.0,  W : [[1.9439133]], b  [1.0003282]\n",
      "epoch : 17, loss  34013428.0,  W : [[2.0028126]], b  [1.0003399]\n",
      "epoch : 18, loss  30632758.0,  W : [[2.0587082]], b  [1.000351]\n",
      "epoch : 19, loss  27588106.0,  W : [[2.1117532]], b  [1.0003614]\n",
      "epoch : 20, loss  24846072.0,  W : [[2.1620932]], b  [1.0003715]\n",
      "epoch : 21, loss  22376570.0,  W : [[2.209866]], b  [1.0003809]\n",
      "epoch : 22, loss  20152518.0,  W : [[2.2552025]], b  [1.0003898]\n",
      "epoch : 23, loss  18149526.0,  W : [[2.298227]], b  [1.0003983]\n",
      "epoch : 24, loss  16345612.0,  W : [[2.3390577]], b  [1.0004064]\n",
      "epoch : 25, loss  14720987.0,  W : [[2.377806]], b  [1.000414]\n",
      "epoch : 26, loss  13257842.0,  W : [[2.4145782]], b  [1.0004213]\n",
      "epoch : 27, loss  11940123.0,  W : [[2.4494753]], b  [1.0004282]\n",
      "epoch : 28, loss  10753371.0,  W : [[2.4825926]], b  [1.0004348]\n",
      "epoch : 29, loss  9684579.0,  W : [[2.5140212]], b  [1.000441]\n",
      "epoch : 30, loss  8722013.0,  W : [[2.5438468]], b  [1.0004469]\n",
      "epoch : 31, loss  7855122.0,  W : [[2.5721517]], b  [1.0004525]\n",
      "epoch : 32, loss  7074391.0,  W : [[2.5990129]], b  [1.0004579]\n",
      "epoch : 33, loss  6371262.5,  W : [[2.6245043]], b  [1.0004629]\n",
      "epoch : 34, loss  5738017.5,  W : [[2.6486957]], b  [1.0004677]\n",
      "epoch : 35, loss  5167713.5,  W : [[2.6716535]], b  [1.0004722]\n",
      "epoch : 36, loss  4654092.0,  W : [[2.6934404]], b  [1.0004765]\n",
      "epoch : 37, loss  4191523.0,  W : [[2.7141163]], b  [1.0004805]\n",
      "epoch : 38, loss  3774928.75,  W : [[2.733738]], b  [1.0004845]\n",
      "epoch : 39, loss  3399739.0,  W : [[2.752359]], b  [1.0004882]\n",
      "epoch : 40, loss  3061841.0,  W : [[2.7700303]], b  [1.0004916]\n",
      "epoch : 41, loss  2757523.75,  W : [[2.7868004]], b  [1.000495]\n",
      "epoch : 42, loss  2483457.5,  W : [[2.8027153]], b  [1.000498]\n",
      "epoch : 43, loss  2236631.0,  W : [[2.8178186]], b  [1.000501]\n",
      "epoch : 44, loss  2014337.0,  W : [[2.8321517]], b  [1.0005039]\n",
      "epoch : 45, loss  1814138.75,  W : [[2.845754]], b  [1.0005066]\n",
      "epoch : 46, loss  1633836.125,  W : [[2.8586624]], b  [1.0005091]\n",
      "epoch : 47, loss  1471456.375,  W : [[2.8709126]], b  [1.0005115]\n",
      "epoch : 48, loss  1325215.25,  W : [[2.882538]], b  [1.0005138]\n",
      "epoch : 49, loss  1193509.0,  W : [[2.8935707]], b  [1.0005159]\n",
      "epoch : 50, loss  1074894.25,  W : [[2.9040406]], b  [1.000518]\n",
      "epoch : 51, loss  968069.25,  W : [[2.9139767]], b  [1.00052]\n",
      "epoch : 52, loss  871860.8125,  W : [[2.9234061]], b  [1.0005219]\n",
      "epoch : 53, loss  785214.25,  W : [[2.9323547]], b  [1.0005237]\n",
      "epoch : 54, loss  707179.8125,  W : [[2.940847]], b  [1.0005254]\n",
      "epoch : 55, loss  636901.3125,  W : [[2.948906]], b  [1.0005269]\n",
      "epoch : 56, loss  573609.0625,  W : [[2.956554]], b  [1.0005285]\n",
      "epoch : 57, loss  516607.875,  W : [[2.963812]], b  [1.0005299]\n",
      "epoch : 58, loss  465270.8125,  W : [[2.9707]], b  [1.0005312]\n",
      "epoch : 59, loss  419037.0,  W : [[2.9772367]], b  [1.0005325]\n",
      "epoch : 60, loss  377398.09375,  W : [[2.9834402]], b  [1.0005337]\n",
      "epoch : 61, loss  339897.53125,  W : [[2.9893272]], b  [1.0005349]\n",
      "epoch : 62, loss  306124.46875,  W : [[2.994914]], b  [1.000536]\n",
      "epoch : 63, loss  275707.9375,  W : [[3.000216]], b  [1.000537]\n",
      "epoch : 64, loss  248314.625,  W : [[3.0052474]], b  [1.000538]\n",
      "epoch : 65, loss  223645.0625,  W : [[3.0100222]], b  [1.000539]\n",
      "epoch : 66, loss  201427.265625,  W : [[3.0145535]], b  [1.0005399]\n",
      "epoch : 67, loss  181417.40625,  W : [[3.018854]], b  [1.0005407]\n",
      "epoch : 68, loss  163396.15625,  W : [[3.022935]], b  [1.0005416]\n",
      "epoch : 69, loss  147166.25,  W : [[3.0268078]], b  [1.0005423]\n",
      "epoch : 70, loss  132549.546875,  W : [[3.0304832]], b  [1.000543]\n",
      "epoch : 71, loss  119385.328125,  W : [[3.033971]], b  [1.0005437]\n",
      "epoch : 72, loss  107530.2109375,  W : [[3.037281]], b  [1.0005443]\n",
      "epoch : 73, loss  96853.359375,  W : [[3.0404222]], b  [1.0005449]\n",
      "epoch : 74, loss  87237.6875,  W : [[3.0434034]], b  [1.0005455]\n",
      "epoch : 75, loss  78577.15625,  W : [[3.0462325]], b  [1.0005461]\n",
      "epoch : 76, loss  70777.6328125,  W : [[3.0489173]], b  [1.0005466]\n",
      "epoch : 77, loss  63753.26171875,  W : [[3.0514653]], b  [1.000547]\n",
      "epoch : 78, loss  57426.88671875,  W : [[3.0538833]], b  [1.0005475]\n",
      "epoch : 79, loss  51729.328125,  W : [[3.0561779]], b  [1.000548]\n",
      "epoch : 80, loss  46598.51171875,  W : [[3.0583556]], b  [1.0005485]\n",
      "epoch : 81, loss  41977.24609375,  W : [[3.0604222]], b  [1.0005488]\n",
      "epoch : 82, loss  37815.40625,  W : [[3.0623834]], b  [1.0005492]\n",
      "epoch : 83, loss  34067.2109375,  W : [[3.0642445]], b  [1.0005496]\n",
      "epoch : 84, loss  30691.775390625,  W : [[3.0660107]], b  [1.0005499]\n",
      "epoch : 85, loss  27651.80078125,  W : [[3.0676868]], b  [1.0005503]\n",
      "epoch : 86, loss  24914.0546875,  W : [[3.0692775]], b  [1.0005506]\n",
      "epoch : 87, loss  22448.232421875,  W : [[3.0707872]], b  [1.000551]\n",
      "epoch : 88, loss  20227.412109375,  W : [[3.0722198]], b  [1.0005512]\n",
      "epoch : 89, loss  18227.369140625,  W : [[3.0735793]], b  [1.0005515]\n",
      "epoch : 90, loss  16426.287109375,  W : [[3.0748694]], b  [1.0005517]\n",
      "epoch : 91, loss  14804.267578125,  W : [[3.0760937]], b  [1.0005519]\n",
      "epoch : 92, loss  13343.4970703125,  W : [[3.0772557]], b  [1.0005522]\n",
      "epoch : 93, loss  12027.6708984375,  W : [[3.0783584]], b  [1.0005524]\n",
      "epoch : 94, loss  10842.7451171875,  W : [[3.0794048]], b  [1.0005527]\n",
      "epoch : 95, loss  9775.6240234375,  W : [[3.0803978]], b  [1.0005529]\n",
      "epoch : 96, loss  8814.60546875,  W : [[3.0813403]], b  [1.0005531]\n",
      "epoch : 97, loss  7949.013671875,  W : [[3.0822346]], b  [1.0005533]\n",
      "epoch : 98, loss  7169.5361328125,  W : [[3.0830834]], b  [1.0005534]\n",
      "epoch : 99, loss  6467.4755859375,  W : [[3.083889]], b  [1.0005535]\n",
      "epoch : 100, loss  5835.09521484375,  W : [[3.0846534]], b  [1.0005536]\n",
      "epoch : 101, loss  5265.6904296875,  W : [[3.085379]], b  [1.0005537]\n",
      "epoch : 102, loss  4752.79638671875,  W : [[3.0860674]], b  [1.0005538]\n",
      "epoch : 103, loss  4290.853515625,  W : [[3.0867207]], b  [1.000554]\n",
      "epoch : 104, loss  3874.93408203125,  W : [[3.0873408]], b  [1.0005541]\n",
      "epoch : 105, loss  3500.252197265625,  W : [[3.0879292]], b  [1.0005542]\n",
      "epoch : 106, loss  3162.858154296875,  W : [[3.0884876]], b  [1.0005543]\n",
      "epoch : 107, loss  2859.021240234375,  W : [[3.0890176]], b  [1.0005544]\n",
      "epoch : 108, loss  2585.326904296875,  W : [[3.0895205]], b  [1.0005546]\n",
      "epoch : 109, loss  2338.912109375,  W : [[3.0899978]], b  [1.0005547]\n",
      "epoch : 110, loss  2116.92626953125,  W : [[3.0904508]], b  [1.0005548]\n",
      "epoch : 111, loss  1916.999267578125,  W : [[3.0908806]], b  [1.0005549]\n",
      "epoch : 112, loss  1736.954345703125,  W : [[3.0912886]], b  [1.000555]\n",
      "epoch : 113, loss  1574.8143310546875,  W : [[3.0916755]], b  [1.0005552]\n",
      "epoch : 114, loss  1428.8519287109375,  W : [[3.092043]], b  [1.0005553]\n",
      "epoch : 115, loss  1297.3309326171875,  W : [[3.0923915]], b  [1.0005554]\n",
      "epoch : 116, loss  1178.9183349609375,  W : [[3.0927224]], b  [1.0005555]\n",
      "epoch : 117, loss  1072.2303466796875,  W : [[3.0930364]], b  [1.0005556]\n",
      "epoch : 118, loss  976.1660766601562,  W : [[3.0933344]], b  [1.0005556]\n",
      "epoch : 119, loss  889.6373291015625,  W : [[3.0936172]], b  [1.0005556]\n",
      "epoch : 120, loss  811.7279663085938,  W : [[3.0938854]], b  [1.0005556]\n",
      "epoch : 121, loss  741.5941162109375,  W : [[3.09414]], b  [1.0005556]\n",
      "epoch : 122, loss  678.409423828125,  W : [[3.0943818]], b  [1.0005556]\n",
      "epoch : 123, loss  621.4736938476562,  W : [[3.0946112]], b  [1.0005556]\n",
      "epoch : 124, loss  570.2178344726562,  W : [[3.0948288]], b  [1.0005556]\n",
      "epoch : 125, loss  524.0524291992188,  W : [[3.0950353]], b  [1.0005556]\n",
      "epoch : 126, loss  482.49786376953125,  W : [[3.0952313]], b  [1.0005556]\n",
      "epoch : 127, loss  445.066650390625,  W : [[3.0954173]], b  [1.0005556]\n",
      "epoch : 128, loss  411.35723876953125,  W : [[3.0955937]], b  [1.0005556]\n",
      "epoch : 129, loss  381.005126953125,  W : [[3.0957613]], b  [1.0005556]\n",
      "epoch : 130, loss  353.6426696777344,  W : [[3.0959203]], b  [1.0005556]\n",
      "epoch : 131, loss  329.0060119628906,  W : [[3.0960712]], b  [1.0005556]\n",
      "epoch : 132, loss  306.8179931640625,  W : [[3.0962145]], b  [1.0005556]\n",
      "epoch : 133, loss  286.82586669921875,  W : [[3.0963504]], b  [1.0005556]\n",
      "epoch : 134, loss  268.8335266113281,  W : [[3.0964794]], b  [1.0005556]\n",
      "epoch : 135, loss  252.62661743164062,  W : [[3.0966017]], b  [1.0005556]\n",
      "epoch : 136, loss  238.04283142089844,  W : [[3.0967178]], b  [1.0005556]\n",
      "epoch : 137, loss  224.9053192138672,  W : [[3.096828]], b  [1.0005556]\n",
      "epoch : 138, loss  213.07691955566406,  W : [[3.0969326]], b  [1.0005556]\n",
      "epoch : 139, loss  202.4093017578125,  W : [[3.0970318]], b  [1.0005556]\n",
      "epoch : 140, loss  192.8173065185547,  W : [[3.097126]], b  [1.0005556]\n",
      "epoch : 141, loss  184.1737823486328,  W : [[3.0972154]], b  [1.0005556]\n",
      "epoch : 142, loss  176.3864288330078,  W : [[3.0973003]], b  [1.0005556]\n",
      "epoch : 143, loss  169.36990356445312,  W : [[3.0973809]], b  [1.0005556]\n",
      "epoch : 144, loss  163.04905700683594,  W : [[3.0974572]], b  [1.0005556]\n",
      "epoch : 145, loss  157.3701629638672,  W : [[3.0975296]], b  [1.0005556]\n",
      "epoch : 146, loss  152.24900817871094,  W : [[3.0975986]], b  [1.0005556]\n",
      "epoch : 147, loss  147.6298370361328,  W : [[3.0976639]], b  [1.0005556]\n",
      "epoch : 148, loss  143.4740753173828,  W : [[3.0977259]], b  [1.0005556]\n",
      "epoch : 149, loss  139.73104858398438,  W : [[3.0977848]], b  [1.0005556]\n",
      "epoch : 150, loss  136.35739135742188,  W : [[3.0978405]], b  [1.0005556]\n",
      "epoch : 151, loss  133.3245391845703,  W : [[3.0978935]], b  [1.0005556]\n",
      "epoch : 152, loss  130.59352111816406,  W : [[3.0979438]], b  [1.0005556]\n",
      "epoch : 153, loss  128.13133239746094,  W : [[3.0979915]], b  [1.0005556]\n",
      "epoch : 154, loss  125.91515350341797,  W : [[3.0980368]], b  [1.0005556]\n",
      "epoch : 155, loss  123.91663360595703,  W : [[3.0980797]], b  [1.0005556]\n",
      "epoch : 156, loss  122.1207504272461,  W : [[3.0981205]], b  [1.0005556]\n",
      "epoch : 157, loss  120.50408935546875,  W : [[3.098159]], b  [1.0005556]\n"
     ]
    },
    {
     "name": "stdout",
     "output_type": "stream",
     "text": [
      "epoch : 158, loss  119.04844665527344,  W : [[3.0981958]], b  [1.0005556]\n",
      "epoch : 159, loss  117.73509979248047,  W : [[3.0982306]], b  [1.0005556]\n",
      "epoch : 160, loss  116.552490234375,  W : [[3.0982637]], b  [1.0005556]\n",
      "epoch : 161, loss  115.48542022705078,  W : [[3.0982952]], b  [1.0005556]\n",
      "epoch : 162, loss  114.52367401123047,  W : [[3.098325]], b  [1.0005556]\n",
      "epoch : 163, loss  113.65939331054688,  W : [[3.0983531]], b  [1.0005556]\n",
      "epoch : 164, loss  112.88587188720703,  W : [[3.0983799]], b  [1.0005556]\n",
      "epoch : 165, loss  112.18827056884766,  W : [[3.0984054]], b  [1.0005556]\n",
      "epoch : 166, loss  111.55579376220703,  W : [[3.0984294]], b  [1.0005556]\n",
      "epoch : 167, loss  110.98796844482422,  W : [[3.0984523]], b  [1.0005556]\n",
      "epoch : 168, loss  110.4770278930664,  W : [[3.098474]], b  [1.0005556]\n",
      "epoch : 169, loss  110.01807403564453,  W : [[3.0984948]], b  [1.0005556]\n",
      "epoch : 170, loss  109.60096740722656,  W : [[3.0985143]], b  [1.0005556]\n",
      "epoch : 171, loss  109.22799682617188,  W : [[3.098533]], b  [1.0005556]\n",
      "epoch : 172, loss  108.89096069335938,  W : [[3.0985506]], b  [1.0005556]\n",
      "epoch : 173, loss  108.58708190917969,  W : [[3.0985672]], b  [1.0005556]\n",
      "epoch : 174, loss  108.3148422241211,  W : [[3.0985832]], b  [1.0005556]\n",
      "epoch : 175, loss  108.06890869140625,  W : [[3.0985982]], b  [1.0005556]\n",
      "epoch : 176, loss  107.84759521484375,  W : [[3.0986125]], b  [1.0005556]\n",
      "epoch : 177, loss  107.64818572998047,  W : [[3.0986261]], b  [1.0005556]\n",
      "epoch : 178, loss  107.4680404663086,  W : [[3.098639]], b  [1.0005556]\n",
      "epoch : 179, loss  107.30664825439453,  W : [[3.0986512]], b  [1.0005556]\n",
      "epoch : 180, loss  107.16234588623047,  W : [[3.0986629]], b  [1.0005556]\n",
      "epoch : 181, loss  107.03044891357422,  W : [[3.0986738]], b  [1.0005556]\n",
      "epoch : 182, loss  106.91300964355469,  W : [[3.0986843]], b  [1.0005556]\n",
      "epoch : 183, loss  106.80584716796875,  W : [[3.0986943]], b  [1.0005556]\n",
      "epoch : 184, loss  106.70943450927734,  W : [[3.0987036]], b  [1.0005556]\n",
      "epoch : 185, loss  106.62403106689453,  W : [[3.0987124]], b  [1.0005556]\n",
      "epoch : 186, loss  106.54621124267578,  W : [[3.098721]], b  [1.0005556]\n",
      "epoch : 187, loss  106.4759750366211,  W : [[3.0987291]], b  [1.0005556]\n",
      "epoch : 188, loss  106.41277313232422,  W : [[3.0987368]], b  [1.0005556]\n",
      "epoch : 189, loss  106.35604858398438,  W : [[3.098744]], b  [1.0005556]\n",
      "epoch : 190, loss  106.30492401123047,  W : [[3.0987508]], b  [1.0005556]\n",
      "epoch : 191, loss  106.25773620605469,  W : [[3.0987573]], b  [1.0005556]\n",
      "epoch : 192, loss  106.21781158447266,  W : [[3.0987635]], b  [1.0005556]\n",
      "epoch : 193, loss  106.18108367919922,  W : [[3.0987694]], b  [1.0005556]\n",
      "epoch : 194, loss  106.14636993408203,  W : [[3.098775]], b  [1.0005556]\n",
      "epoch : 195, loss  106.11656188964844,  W : [[3.0987802]], b  [1.0005556]\n",
      "epoch : 196, loss  106.08988189697266,  W : [[3.0987852]], b  [1.0005556]\n",
      "epoch : 197, loss  106.0660629272461,  W : [[3.09879]], b  [1.0005556]\n",
      "epoch : 198, loss  106.04314422607422,  W : [[3.0987945]], b  [1.0005556]\n",
      "epoch : 199, loss  106.0228042602539,  W : [[3.0987988]], b  [1.0005556]\n"
     ]
    }
   ],
   "source": [
    "#Model y=X*W + b\n",
    "#Model function\n",
    "def output(x):\n",
    "    return W*x + b\n",
    "\n",
    "#Loss function Reduce mean square\n",
    "def loss_function(y_pred, y_true):\n",
    "    return tf.reduce_mean(tf.square(y_pred - y_true))\n",
    "\n",
    "#Initialize Weights\n",
    "W = tf.Variable(tf.random.uniform(shape=(1, 1)))\n",
    "b = tf.Variable(tf.ones(shape=(1,)))\n",
    "\n",
    "#Optimization\n",
    "## Writing training/learing loop with GradienTape\n",
    "learning_rate = 0.000000001\n",
    "steps = 200 #epochs\n",
    "\n",
    "for i in range(steps):\n",
    "    with tf.GradientTape() as tape:\n",
    "        predictions = output(x_train)\n",
    "        loss = loss_function(predictions,y_train)\n",
    "        dloss_dw, dloss_db = tape.gradient(loss, [W, b])\n",
    "    W.assign_sub(learning_rate * dloss_dw)\n",
    "    b.assign_sub(learning_rate * dloss_db)\n",
    "    print(f\"epoch : {i}, loss  {loss.numpy()},  W : {W.numpy()}, b  {b.numpy()}\")"
   ]
  },
  {
   "cell_type": "markdown",
   "metadata": {},
   "source": [
    "Final Weights"
   ]
  },
  {
   "cell_type": "code",
   "execution_count": 177,
   "metadata": {},
   "outputs": [
    {
     "name": "stdout",
     "output_type": "stream",
     "text": [
      "w  <tf.Variable 'Variable:0' shape=(1, 1) dtype=float32, numpy=array([[3.0986032]], dtype=float32)>\n",
      "b  <tf.Variable 'Variable:0' shape=(1,) dtype=float32, numpy=array([1.0004677], dtype=float32)>\n"
     ]
    }
   ],
   "source": [
    "print('w ', W)\n",
    "print('b ', b)"
   ]
  },
  {
   "cell_type": "markdown",
   "metadata": {},
   "source": [
    "Plotting"
   ]
  },
  {
   "cell_type": "code",
   "execution_count": 184,
   "metadata": {},
   "outputs": [
    {
     "name": "stdout",
     "output_type": "stream",
     "text": [
      "epoch is: 0, loss is 133146480.0,  W is: [[0.93029135]], b is [1.0000231]\n"
     ]
    },
    {
     "data": {
      "image/png": "[encoded data removed]",
      "text/plain": [
       "<Figure size 432x288 with 1 Axes>"
      ]
     },
     "metadata": {
      "needs_background": "light"
     },
     "output_type": "display_data"
    },
    {
     "name": "stdout",
     "output_type": "stream",
     "text": [
      "epoch is: 30, loss is 5759752.5,  W is: [[2.6478438]], b is [1.000363]\n"
     ]
    },
    {
     "data": {
      "image/png": "[encoded data removed]",
      "text/plain": [
       "<Figure size 432x288 with 1 Axes>"
      ]
     },
     "metadata": {
      "needs_background": "light"
     },
     "output_type": "display_data"
    },
    {
     "name": "stdout",
     "output_type": "stream",
     "text": [
      "epoch is: 60, loss is 249256.953125,  W is: [[3.00507]], b is [1.0004333]\n"
     ]
    },
    {
     "data": {
      "image/png": "[encoded data removed]",
      "text/plain": [
       "<Figure size 432x288 with 1 Axes>"
      ]
     },
     "metadata": {
      "needs_background": "light"
     },
     "output_type": "display_data"
    },
    {
     "name": "stdout",
     "output_type": "stream",
     "text": [
      "epoch is: 90, loss is 10883.666015625,  W is: [[3.079368]], b is [1.0004481]\n"
     ]
    },
    {
     "data": {
      "image/png": "[encoded data removed]",
      "text/plain": [
       "<Figure size 432x288 with 1 Axes>"
      ]
     },
     "metadata": {
      "needs_background": "light"
     },
     "output_type": "display_data"
    },
    {
     "name": "stdout",
     "output_type": "stream",
     "text": [
      "epoch is: 120, loss is 572.026611328125,  W is: [[3.0948212]], b is [1.0004511]\n"
     ]
    },
    {
     "data": {
      "image/png": "[encoded data removed]",
      "text/plain": [
       "<Figure size 432x288 with 1 Axes>"
      ]
     },
     "metadata": {
      "needs_background": "light"
     },
     "output_type": "display_data"
    },
    {
     "name": "stdout",
     "output_type": "stream",
     "text": [
      "epoch is: 150, loss is 126.01019287109375,  W is: [[3.0980349]], b is [1.0004511]\n"
     ]
    },
    {
     "data": {
      "image/png": "[encoded data removed]",
      "text/plain": [
       "<Figure size 432x288 with 1 Axes>"
      ]
     },
     "metadata": {
      "needs_background": "light"
     },
     "output_type": "display_data"
    },
    {
     "name": "stdout",
     "output_type": "stream",
     "text": [
      "epoch is: 180, loss is 106.71812438964844,  W is: [[3.0987031]], b is [1.0004511]\n"
     ]
    },
    {
     "data": {
      "image/png": "[encoded data removed]",
      "text/plain": [
       "<Figure size 432x288 with 1 Axes>"
      ]
     },
     "metadata": {
      "needs_background": "light"
     },
     "output_type": "display_data"
    }
   ],
   "source": [
    "#Initialize Weights\n",
    "W = tf.Variable(tf.random.uniform(shape=(1, 1)))\n",
    "b = tf.Variable(tf.ones(shape=(1,)))\n",
    "\n",
    "#Optimization\n",
    "## Writing training/learing loop with GradienTape\n",
    "learning_rate = 0.000000001\n",
    "steps = 200 #epochs\n",
    "\n",
    "for i in range(steps):\n",
    "    with tf.GradientTape() as tape:\n",
    "        predictions = output(x_train)\n",
    "        loss = loss_function(predictions,y_train)\n",
    "        dloss_dw, dloss_db = tape.gradient(loss, [W, b])\n",
    "    W.assign_sub(learning_rate * dloss_dw)\n",
    "    b.assign_sub(learning_rate * dloss_db)\n",
    "    if i%30 == 0:\n",
    "        print(f\"epoch is: {i}, loss is {loss.numpy()},  W is: {W.numpy()}, b is {b.numpy()}\")\n",
    "        plt.title([\"epoch\", i])\n",
    "        plt.plot(x_train, y_train, 'b.')\n",
    "        plt.plot(x_train, output(x_train), c='r')\n",
    "        plt.show()"
   ]
  },
  {
   "cell_type": "markdown",
   "metadata": {},
   "source": [
    "### Logistic Regression Model building in TensorFlow"
   ]
  },
  {
   "cell_type": "code",
   "execution_count": 216,
   "metadata": {},
   "outputs": [
    {
     "data": {
      "image/png": "[encoded data removed]",
      "text/plain": [
       "<Figure size 432x288 with 1 Axes>"
      ]
     },
     "metadata": {
      "needs_background": "light"
     },
     "output_type": "display_data"
    }
   ],
   "source": [
    "# This step is for data creation\n",
    "x_train= np.random.rand(100,1)\n",
    "y_train=np.array([0 if i < 0.5 else 1 for i in x_train]).reshape(-1,1)\n",
    "\n",
    "import matplotlib.pyplot as plt\n",
    "plt.title(\"x_train vs y_train data\")\n",
    "plt.plot(x_train, y_train, 'b.',)\n",
    "plt.show()"
   ]
  },
  {
   "cell_type": "code",
   "execution_count": 217,
   "metadata": {},
   "outputs": [
    {
     "name": "stdout",
     "output_type": "stream",
     "text": [
      "epoch : 0, loss  22.60688591003418,  W : [[0.87064445]], b  [-0.704729]\n",
      "epoch : 1, loss  19.765960693359375,  W : [[1.4657314]], b  [-0.57066584]\n",
      "epoch : 2, loss  17.57000732421875,  W : [[1.6805136]], b  [-1.0579883]\n",
      "epoch : 3, loss  15.81714153289795,  W : [[2.148072]], b  [-0.9888156]\n",
      "epoch : 4, loss  14.389200210571289,  W : [[2.3391197]], b  [-1.3615319]\n",
      "epoch : 5, loss  13.206083297729492,  W : [[2.707578]], b  [-1.3390965]\n",
      "epoch : 6, loss  12.225578308105469,  W : [[2.8894737]], b  [-1.6081121]\n",
      "epoch : 7, loss  11.402377128601074,  W : [[3.1746352]], b  [-1.6371683]\n",
      "epoch : 8, loss  10.709866523742676,  W : [[3.355033]], b  [-1.8193855]\n",
      "epoch : 9, loss  10.119711875915527,  W : [[3.578357]], b  [-1.8861303]\n",
      "epoch : 10, loss  9.611478805541992,  W : [[3.7530646]], b  [-2.01186]\n",
      "epoch : 11, loss  9.168173789978027,  W : [[3.936611]], b  [-2.0938454]\n",
      "epoch : 12, loss  8.777385711669922,  W : [[4.099397]], b  [-2.19015]\n",
      "epoch : 13, loss  8.429791450500488,  W : [[4.258378]], b  [-2.272017]\n",
      "epoch : 14, loss  8.11833667755127,  W : [[4.407025]], b  [-2.3538196]\n",
      "epoch : 15, loss  7.837498188018799,  W : [[4.5494037]], b  [-2.4299595]\n",
      "epoch : 16, loss  7.582844257354736,  W : [[4.6849127]], b  [-2.5032215]\n",
      "epoch : 17, loss  7.350768566131592,  W : [[4.8146334]], b  [-2.573045]\n",
      "epoch : 18, loss  7.138291835784912,  W : [[4.9389315]], b  [-2.6400084]\n",
      "epoch : 19, loss  6.942939281463623,  W : [[5.058316]], b  [-2.7042687]\n",
      "epoch : 20, loss  6.762633800506592,  W : [[5.1731787]], b  [-2.7660687]\n",
      "epoch : 21, loss  6.595622539520264,  W : [[5.283879]], b  [-2.825595]\n",
      "epoch : 22, loss  6.4404168128967285,  W : [[5.390733]], b  [-2.88302]\n",
      "epoch : 23, loss  6.295742988586426,  W : [[5.4940224]], b  [-2.9384964]\n",
      "epoch : 24, loss  6.160506248474121,  W : [[5.5940003]], b  [-2.992161]\n",
      "epoch : 25, loss  6.033759593963623,  W : [[5.6908927]], b  [-3.044137]\n",
      "epoch : 26, loss  5.914680480957031,  W : [[5.784903]], b  [-3.0945354]\n",
      "epoch : 27, loss  5.802550315856934,  W : [[5.8762164]], b  [-3.143456]\n",
      "epoch : 28, loss  5.69674015045166,  W : [[5.964999]], b  [-3.1909907]\n",
      "epoch : 29, loss  5.596693515777588,  W : [[6.051404]], b  [-3.237222]\n",
      "epoch : 30, loss  5.501920223236084,  W : [[6.135569]], b  [-3.2822258]\n",
      "epoch : 31, loss  5.411984920501709,  W : [[6.217621]], b  [-3.3260715]\n",
      "epoch : 32, loss  5.326500415802002,  W : [[6.2976756]], b  [-3.3688226]\n",
      "epoch : 33, loss  5.245119094848633,  W : [[6.37584]], b  [-3.4105377]\n",
      "epoch : 34, loss  5.167530059814453,  W : [[6.452213]], b  [-3.4512706]\n",
      "epoch : 35, loss  5.093454837799072,  W : [[6.526884]], b  [-3.491071]\n",
      "epoch : 36, loss  5.022640228271484,  W : [[6.5999374]], b  [-3.5299852]\n",
      "epoch : 37, loss  4.95485782623291,  W : [[6.6714516]], b  [-3.5680556]\n",
      "epoch : 38, loss  4.8899030685424805,  W : [[6.741498]], b  [-3.6053224]\n",
      "epoch : 39, loss  4.8275861740112305,  W : [[6.810144]], b  [-3.641822]\n",
      "epoch : 40, loss  4.767736434936523,  W : [[6.877452]], b  [-3.6775892]\n",
      "epoch : 41, loss  4.710197925567627,  W : [[6.9434805]], b  [-3.7126558]\n",
      "epoch : 42, loss  4.654828071594238,  W : [[7.008284]], b  [-3.747052]\n",
      "epoch : 43, loss  4.601495265960693,  W : [[7.0719137]], b  [-3.780806]\n",
      "epoch : 44, loss  4.55007791519165,  W : [[7.134417]], b  [-3.8139443]\n",
      "epoch : 45, loss  4.500467777252197,  W : [[7.1958394]], b  [-3.846491]\n",
      "epoch : 46, loss  4.4525604248046875,  W : [[7.2562227]], b  [-3.8784702]\n",
      "epoch : 47, loss  4.406262397766113,  W : [[7.315607]], b  [-3.9099035]\n",
      "epoch : 48, loss  4.361486434936523,  W : [[7.37403]], b  [-3.9408114]\n",
      "epoch : 49, loss  4.318150997161865,  W : [[7.4315267]], b  [-3.9712138]\n",
      "epoch : 50, loss  4.276181221008301,  W : [[7.48813]], b  [-4.0011287]\n",
      "epoch : 51, loss  4.235507965087891,  W : [[7.5438724]], b  [-4.030574]\n",
      "epoch : 52, loss  4.196065425872803,  W : [[7.598783]], b  [-4.0595655]\n",
      "epoch : 53, loss  4.157793045043945,  W : [[7.6528907]], b  [-4.088119]\n",
      "epoch : 54, loss  4.120635032653809,  W : [[7.706222]], b  [-4.11625]\n",
      "epoch : 55, loss  4.084537982940674,  W : [[7.7588024]], b  [-4.143972]\n",
      "epoch : 56, loss  4.04945182800293,  W : [[7.8106565]], b  [-4.171298]\n",
      "epoch : 57, loss  4.015332221984863,  W : [[7.861807]], b  [-4.198241]\n",
      "epoch : 58, loss  3.9821338653564453,  W : [[7.9122753]], b  [-4.224814]\n",
      "epoch : 59, loss  3.949817419052124,  W : [[7.9620833]], b  [-4.251027]\n",
      "epoch : 60, loss  3.918344020843506,  W : [[8.0112505]], b  [-4.276892]\n",
      "epoch : 61, loss  3.887676477432251,  W : [[8.059795]], b  [-4.302419]\n",
      "epoch : 62, loss  3.857783079147339,  W : [[8.107737]], b  [-4.327618]\n",
      "epoch : 63, loss  3.828630208969116,  W : [[8.155092]], b  [-4.352499]\n",
      "epoch : 64, loss  3.8001883029937744,  W : [[8.201878]], b  [-4.377071]\n",
      "epoch : 65, loss  3.7724289894104004,  W : [[8.248109]], b  [-4.4013424]\n",
      "epoch : 66, loss  3.7453250885009766,  W : [[8.293801]], b  [-4.4253216]\n",
      "epoch : 67, loss  3.71885085105896,  W : [[8.33897]], b  [-4.4490166]\n",
      "epoch : 68, loss  3.6929826736450195,  W : [[8.383628]], b  [-4.4724355]\n",
      "epoch : 69, loss  3.6676979064941406,  W : [[8.42779]], b  [-4.495585]\n",
      "epoch : 70, loss  3.6429738998413086,  W : [[8.471467]], b  [-4.518473]\n",
      "epoch : 71, loss  3.6187903881073,  W : [[8.514672]], b  [-4.5411057]\n",
      "epoch : 72, loss  3.5951292514801025,  W : [[8.557418]], b  [-4.56349]\n",
      "epoch : 73, loss  3.571969985961914,  W : [[8.599715]], b  [-4.5856314]\n",
      "epoch : 74, loss  3.5492961406707764,  W : [[8.641575]], b  [-4.607537]\n",
      "epoch : 75, loss  3.527089834213257,  W : [[8.683007]], b  [-4.6292114]\n",
      "epoch : 76, loss  3.5053369998931885,  W : [[8.724023]], b  [-4.6506615]\n",
      "epoch : 77, loss  3.4840197563171387,  W : [[8.764632]], b  [-4.6718917]\n",
      "epoch : 78, loss  3.463125467300415,  W : [[8.804844]], b  [-4.6929073]\n",
      "epoch : 79, loss  3.4426393508911133,  W : [[8.8446665]], b  [-4.7137136]\n",
      "epoch : 80, loss  3.422548770904541,  W : [[8.8841095]], b  [-4.7343154]\n",
      "epoch : 81, loss  3.4028406143188477,  W : [[8.923182]], b  [-4.7547174]\n",
      "epoch : 82, loss  3.3835031986236572,  W : [[8.96189]], b  [-4.774924]\n",
      "epoch : 83, loss  3.3645248413085938,  W : [[9.000244]], b  [-4.794939]\n",
      "epoch : 84, loss  3.3458938598632812,  W : [[9.038251]], b  [-4.8147674]\n",
      "epoch : 85, loss  3.3276002407073975,  W : [[9.075917]], b  [-4.834413]\n",
      "epoch : 86, loss  3.309633731842041,  W : [[9.113251]], b  [-4.8538795]\n",
      "epoch : 87, loss  3.2919843196868896,  W : [[9.150258]], b  [-4.873171]\n",
      "epoch : 88, loss  3.2746429443359375,  W : [[9.186946]], b  [-4.8922906]\n",
      "epoch : 89, loss  3.257600784301758,  W : [[9.223321]], b  [-4.9112425]\n",
      "epoch : 90, loss  3.240849494934082,  W : [[9.25939]], b  [-4.93003]\n",
      "epoch : 91, loss  3.224379539489746,  W : [[9.295157]], b  [-4.948656]\n",
      "epoch : 92, loss  3.208184242248535,  W : [[9.330631]], b  [-4.967124]\n",
      "epoch : 93, loss  3.192255735397339,  W : [[9.365816]], b  [-4.9854374]\n",
      "epoch : 94, loss  3.176586389541626,  W : [[9.400717]], b  [-5.003599]\n",
      "epoch : 95, loss  3.1611690521240234,  W : [[9.43534]], b  [-5.0216117]\n",
      "epoch : 96, loss  3.1459975242614746,  W : [[9.46969]], b  [-5.0394783]\n",
      "epoch : 97, loss  3.1310646533966064,  W : [[9.503773]], b  [-5.0572014]\n",
      "epoch : 98, loss  3.1163649559020996,  W : [[9.537593]], b  [-5.074784]\n",
      "epoch : 99, loss  3.10189151763916,  W : [[9.571155]], b  [-5.0922284]\n",
      "epoch : 100, loss  3.0876388549804688,  W : [[9.604464]], b  [-5.1095376]\n",
      "epoch : 101, loss  3.073601245880127,  W : [[9.637524]], b  [-5.1267138]\n",
      "epoch : 102, loss  3.059772491455078,  W : [[9.670339]], b  [-5.1437597]\n",
      "epoch : 103, loss  3.046149492263794,  W : [[9.702914]], b  [-5.160677]\n",
      "epoch : 104, loss  3.0327248573303223,  W : [[9.735253]], b  [-5.1774683]\n",
      "epoch : 105, loss  3.0194950103759766,  W : [[9.767361]], b  [-5.194136]\n",
      "epoch : 106, loss  3.0064547061920166,  W : [[9.79924]], b  [-5.210682]\n",
      "epoch : 107, loss  2.9936001300811768,  W : [[9.830895]], b  [-5.2271085]\n",
      "epoch : 108, loss  2.9809257984161377,  W : [[9.86233]], b  [-5.2434177]\n",
      "epoch : 109, loss  2.968428134918213,  W : [[9.893548]], b  [-5.259611]\n",
      "epoch : 110, loss  2.9561030864715576,  W : [[9.924553]], b  [-5.275691]\n",
      "epoch : 111, loss  2.94394588470459,  W : [[9.955348]], b  [-5.291659]\n",
      "epoch : 112, loss  2.9319534301757812,  W : [[9.985936]], b  [-5.307517]\n",
      "epoch : 113, loss  2.9201221466064453,  W : [[10.016321]], b  [-5.323267]\n",
      "epoch : 114, loss  2.908447265625,  W : [[10.046507]], b  [-5.3389106]\n",
      "epoch : 115, loss  2.8969271183013916,  W : [[10.076495]], b  [-5.3544497]\n",
      "epoch : 116, loss  2.885556221008301,  W : [[10.10629]], b  [-5.3698854]\n",
      "epoch : 117, loss  2.8743326663970947,  W : [[10.135894]], b  [-5.38522]\n",
      "epoch : 118, loss  2.863252878189087,  W : [[10.16531]], b  [-5.4004545]\n",
      "epoch : 119, loss  2.852313756942749,  W : [[10.194541]], b  [-5.415591]\n",
      "epoch : 120, loss  2.8415122032165527,  W : [[10.22359]], b  [-5.43063]\n",
      "epoch : 121, loss  2.830845355987549,  W : [[10.252459]], b  [-5.4455743]\n",
      "epoch : 122, loss  2.820310592651367,  W : [[10.281151]], b  [-5.4604244]\n",
      "epoch : 123, loss  2.8099045753479004,  W : [[10.309669]], b  [-5.475182]\n",
      "epoch : 124, loss  2.7996253967285156,  W : [[10.338015]], b  [-5.4898486]\n",
      "epoch : 125, loss  2.7894699573516846,  W : [[10.366191]], b  [-5.5044255]\n",
      "epoch : 126, loss  2.7794363498687744,  W : [[10.3942]], b  [-5.5189137]\n",
      "epoch : 127, loss  2.7695212364196777,  W : [[10.422045]], b  [-5.5333147]\n",
      "epoch : 128, loss  2.75972318649292,  W : [[10.449727]], b  [-5.54763]\n",
      "epoch : 129, loss  2.7500388622283936,  W : [[10.477249]], b  [-5.56186]\n",
      "epoch : 130, loss  2.740467071533203,  W : [[10.504614]], b  [-5.5760064]\n",
      "epoch : 131, loss  2.7310049533843994,  W : [[10.531823]], b  [-5.5900702]\n",
      "epoch : 132, loss  2.7216503620147705,  W : [[10.558878]], b  [-5.604053]\n",
      "epoch : 133, loss  2.7124013900756836,  W : [[10.585782]], b  [-5.6179557]\n",
      "epoch : 134, loss  2.7032558917999268,  W : [[10.612536]], b  [-5.631779]\n",
      "epoch : 135, loss  2.6942121982574463,  W : [[10.639143]], b  [-5.645525]\n",
      "epoch : 136, loss  2.6852684020996094,  W : [[10.665604]], b  [-5.6591935]\n",
      "epoch : 137, loss  2.676422357559204,  W : [[10.691921]], b  [-5.672786]\n",
      "epoch : 138, loss  2.6676723957061768,  W : [[10.718097]], b  [-5.686304]\n",
      "epoch : 139, loss  2.659017324447632,  W : [[10.744132]], b  [-5.699748]\n",
      "epoch : 140, loss  2.650454044342041,  W : [[10.770029]], b  [-5.7131186]\n",
      "epoch : 141, loss  2.641982316970825,  W : [[10.79579]], b  [-5.726417]\n",
      "epoch : 142, loss  2.6335995197296143,  W : [[10.821416]], b  [-5.7396445]\n",
      "epoch : 143, loss  2.625304937362671,  W : [[10.846909]], b  [-5.752802]\n",
      "epoch : 144, loss  2.617096185684204,  W : [[10.872271]], b  [-5.76589]\n",
      "epoch : 145, loss  2.6089720726013184,  W : [[10.897503]], b  [-5.7789097]\n",
      "epoch : 146, loss  2.6009304523468018,  W : [[10.922606]], b  [-5.791862]\n",
      "epoch : 147, loss  2.5929713249206543,  W : [[10.947583]], b  [-5.804747]\n",
      "epoch : 148, loss  2.585092306137085,  W : [[10.972435]], b  [-5.8175664]\n",
      "epoch : 149, loss  2.5772926807403564,  W : [[10.997163]], b  [-5.8303204]\n",
      "epoch : 150, loss  2.569570541381836,  W : [[11.021769]], b  [-5.8430104]\n",
      "epoch : 151, loss  2.561924457550049,  W : [[11.046254]], b  [-5.8556366]\n",
      "epoch : 152, loss  2.5543532371520996,  W : [[11.070621]], b  [-5.8682]\n",
      "epoch : 153, loss  2.546856164932251,  W : [[11.094869]], b  [-5.880701]\n",
      "epoch : 154, loss  2.5394320487976074,  W : [[11.119]], b  [-5.8931413]\n",
      "epoch : 155, loss  2.532078504562378,  W : [[11.143017]], b  [-5.905521]\n",
      "epoch : 156, loss  2.5247955322265625,  W : [[11.16692]], b  [-5.9178405]\n",
      "epoch : 157, loss  2.5175812244415283,  W : [[11.190709]], b  [-5.930101]\n",
      "epoch : 158, loss  2.5104355812072754,  W : [[11.214388]], b  [-5.9423027]\n",
      "epoch : 159, loss  2.50335693359375,  W : [[11.237956]], b  [-5.9544463]\n",
      "epoch : 160, loss  2.4963433742523193,  W : [[11.2614155]], b  [-5.9665327]\n",
      "epoch : 161, loss  2.4893951416015625,  W : [[11.284767]], b  [-5.978563]\n",
      "epoch : 162, loss  2.482511043548584,  W : [[11.308013]], b  [-5.9905367]\n",
      "epoch : 163, loss  2.47568941116333,  W : [[11.331153]], b  [-6.0024557]\n",
      "epoch : 164, loss  2.4689290523529053,  W : [[11.354189]], b  [-6.01432]\n",
      "epoch : 165, loss  2.4622302055358887,  W : [[11.377122]], b  [-6.0261297]\n",
      "epoch : 166, loss  2.4555912017822266,  W : [[11.399953]], b  [-6.037886]\n",
      "epoch : 167, loss  2.4490108489990234,  W : [[11.422683]], b  [-6.0495896]\n",
      "epoch : 168, loss  2.4424891471862793,  W : [[11.445313]], b  [-6.0612407]\n",
      "epoch : 169, loss  2.4360241889953613,  W : [[11.467845]], b  [-6.07284]\n",
      "epoch : 170, loss  2.4296164512634277,  W : [[11.490279]], b  [-6.0843883]\n",
      "epoch : 171, loss  2.4232635498046875,  W : [[11.512616]], b  [-6.0958858]\n",
      "epoch : 172, loss  2.4169657230377197,  W : [[11.534858]], b  [-6.107333]\n",
      "epoch : 173, loss  2.410722017288208,  W : [[11.557005]], b  [-6.1187305]\n",
      "epoch : 174, loss  2.404531478881836,  W : [[11.579058]], b  [-6.1300793]\n",
      "epoch : 175, loss  2.398392915725708,  W : [[11.601018]], b  [-6.141379]\n",
      "epoch : 176, loss  2.3923065662384033,  W : [[11.622886]], b  [-6.152631]\n",
      "epoch : 177, loss  2.3862709999084473,  W : [[11.644663]], b  [-6.1638346]\n",
      "epoch : 178, loss  2.3802857398986816,  W : [[11.66635]], b  [-6.1749916]\n"
     ]
    },
    {
     "name": "stdout",
     "output_type": "stream",
     "text": [
      "epoch : 179, loss  2.3743503093719482,  W : [[11.687948]], b  [-6.186102]\n",
      "epoch : 180, loss  2.3684628009796143,  W : [[11.709458]], b  [-6.197166]\n",
      "epoch : 181, loss  2.362624168395996,  W : [[11.730881]], b  [-6.2081842]\n",
      "epoch : 182, loss  2.35683274269104,  W : [[11.752216]], b  [-6.219157]\n",
      "epoch : 183, loss  2.351088047027588,  W : [[11.773467]], b  [-6.230085]\n",
      "epoch : 184, loss  2.3453893661499023,  W : [[11.794632]], b  [-6.2409687]\n",
      "epoch : 185, loss  2.3397364616394043,  W : [[11.815713]], b  [-6.251808]\n",
      "epoch : 186, loss  2.3341288566589355,  W : [[11.836711]], b  [-6.262604]\n",
      "epoch : 187, loss  2.3285648822784424,  W : [[11.857626]], b  [-6.2733574]\n",
      "epoch : 188, loss  2.323044776916504,  W : [[11.87846]], b  [-6.2840676]\n",
      "epoch : 189, loss  2.317567825317383,  W : [[11.899213]], b  [-6.2947354]\n",
      "epoch : 190, loss  2.312134027481079,  W : [[11.919886]], b  [-6.3053617]\n",
      "epoch : 191, loss  2.306741237640381,  W : [[11.940478]], b  [-6.315946]\n",
      "epoch : 192, loss  2.3013906478881836,  W : [[11.960993]], b  [-6.3264894]\n",
      "epoch : 193, loss  2.2960808277130127,  W : [[11.981429]], b  [-6.3369923]\n",
      "epoch : 194, loss  2.290811777114868,  W : [[12.001788]], b  [-6.3474545]\n",
      "epoch : 195, loss  2.2855818271636963,  W : [[12.022071]], b  [-6.357877]\n",
      "epoch : 196, loss  2.280391216278076,  W : [[12.042277]], b  [-6.3682594]\n",
      "epoch : 197, loss  2.275239944458008,  W : [[12.062408]], b  [-6.378603]\n",
      "epoch : 198, loss  2.2701268196105957,  W : [[12.082465]], b  [-6.3889074]\n",
      "epoch : 199, loss  2.2650516033172607,  W : [[12.102448]], b  [-6.3991733]\n",
      "epoch : 200, loss  2.2600138187408447,  W : [[12.122358]], b  [-6.409401]\n",
      "epoch : 201, loss  2.2550129890441895,  W : [[12.142196]], b  [-6.419591]\n",
      "epoch : 202, loss  2.2500481605529785,  W : [[12.161961]], b  [-6.429744]\n",
      "epoch : 203, loss  2.245120048522949,  W : [[12.181655]], b  [-6.439859]\n",
      "epoch : 204, loss  2.240227222442627,  W : [[12.201278]], b  [-6.4499373]\n",
      "epoch : 205, loss  2.2353694438934326,  W : [[12.220831]], b  [-6.459979]\n",
      "epoch : 206, loss  2.230546474456787,  W : [[12.2403145]], b  [-6.4699845]\n",
      "epoch : 207, loss  2.225757360458374,  W : [[12.259729]], b  [-6.4799542]\n",
      "epoch : 208, loss  2.2210028171539307,  W : [[12.279076]], b  [-6.489888]\n",
      "epoch : 209, loss  2.2162814140319824,  W : [[12.298354]], b  [-6.499787]\n",
      "epoch : 210, loss  2.2115931510925293,  W : [[12.317566]], b  [-6.5096507]\n",
      "epoch : 211, loss  2.206937313079834,  W : [[12.336711]], b  [-6.5194798]\n",
      "epoch : 212, loss  2.2023141384124756,  W : [[12.35579]], b  [-6.5292745]\n",
      "epoch : 213, loss  2.1977224349975586,  W : [[12.374804]], b  [-6.5390353]\n",
      "epoch : 214, loss  2.193162441253662,  W : [[12.393752]], b  [-6.5487623]\n",
      "epoch : 215, loss  2.188633680343628,  W : [[12.412636]], b  [-6.5584555]\n",
      "epoch : 216, loss  2.1841354370117188,  W : [[12.431456]], b  [-6.568115]\n",
      "epoch : 217, loss  2.1796679496765137,  W : [[12.4502125]], b  [-6.577742]\n",
      "epoch : 218, loss  2.1752307415008545,  W : [[12.468906]], b  [-6.5873365]\n",
      "epoch : 219, loss  2.170823335647583,  W : [[12.487537]], b  [-6.5968986]\n",
      "epoch : 220, loss  2.166445016860962,  W : [[12.506107]], b  [-6.606428]\n",
      "epoch : 221, loss  2.162095546722412,  W : [[12.524615]], b  [-6.615926]\n",
      "epoch : 222, loss  2.1577751636505127,  W : [[12.543062]], b  [-6.625392]\n",
      "epoch : 223, loss  2.1534831523895264,  W : [[12.561449]], b  [-6.634826]\n",
      "epoch : 224, loss  2.149219036102295,  W : [[12.579776]], b  [-6.6442294]\n",
      "epoch : 225, loss  2.1449830532073975,  W : [[12.598043]], b  [-6.653602]\n",
      "epoch : 226, loss  2.140774726867676,  W : [[12.616252]], b  [-6.662944]\n",
      "epoch : 227, loss  2.1365928649902344,  W : [[12.634402]], b  [-6.672255]\n",
      "epoch : 228, loss  2.1324386596679688,  W : [[12.652494]], b  [-6.681536]\n",
      "epoch : 229, loss  2.128310441970825,  W : [[12.670528]], b  [-6.690788]\n",
      "epoch : 230, loss  2.124208688735962,  W : [[12.688505]], b  [-6.7000093]\n",
      "epoch : 231, loss  2.1201331615448,  W : [[12.706426]], b  [-6.7092013]\n",
      "epoch : 232, loss  2.1160831451416016,  W : [[12.72429]], b  [-6.7183642]\n",
      "epoch : 233, loss  2.1120588779449463,  W : [[12.742098]], b  [-6.727498]\n",
      "epoch : 234, loss  2.1080594062805176,  W : [[12.7598505]], b  [-6.7366033]\n",
      "epoch : 235, loss  2.1040852069854736,  W : [[12.777548]], b  [-6.7456794]\n",
      "epoch : 236, loss  2.1001358032226562,  W : [[12.795191]], b  [-6.7547274]\n",
      "epoch : 237, loss  2.096210241317749,  W : [[12.812779]], b  [-6.763747]\n",
      "epoch : 238, loss  2.09230899810791,  W : [[12.830314]], b  [-6.772739]\n",
      "epoch : 239, loss  2.0884323120117188,  W : [[12.847795]], b  [-6.781703]\n",
      "epoch : 240, loss  2.0845787525177,  W : [[12.865223]], b  [-6.7906394]\n",
      "epoch : 241, loss  2.0807480812072754,  W : [[12.882598]], b  [-6.7995486]\n",
      "epoch : 242, loss  2.0769412517547607,  W : [[12.899921]], b  [-6.8084307]\n",
      "epoch : 243, loss  2.0731570720672607,  W : [[12.917192]], b  [-6.817286]\n",
      "epoch : 244, loss  2.0693957805633545,  W : [[12.934412]], b  [-6.826114]\n",
      "epoch : 245, loss  2.065656900405884,  W : [[12.95158]], b  [-6.834916]\n",
      "epoch : 246, loss  2.0619399547576904,  W : [[12.968698]], b  [-6.8436913]\n",
      "epoch : 247, loss  2.0582454204559326,  W : [[12.9857645]], b  [-6.852441]\n",
      "epoch : 248, loss  2.054572343826294,  W : [[13.002782]], b  [-6.861164]\n",
      "epoch : 249, loss  2.0509212017059326,  W : [[13.01975]], b  [-6.8698616]\n",
      "epoch : 250, loss  2.047290802001953,  W : [[13.036668]], b  [-6.8785334]\n",
      "epoch : 251, loss  2.0436818599700928,  W : [[13.053536]], b  [-6.88718]\n",
      "epoch : 252, loss  2.0400936603546143,  W : [[13.070356]], b  [-6.895801]\n",
      "epoch : 253, loss  2.036526679992676,  W : [[13.087128]], b  [-6.9043975]\n",
      "epoch : 254, loss  2.032979965209961,  W : [[13.103851]], b  [-6.9129686]\n",
      "epoch : 255, loss  2.0294532775878906,  W : [[13.120527]], b  [-6.921515]\n",
      "epoch : 256, loss  2.025947332382202,  W : [[13.137156]], b  [-6.930037]\n",
      "epoch : 257, loss  2.022460699081421,  W : [[13.153737]], b  [-6.9385347]\n",
      "epoch : 258, loss  2.018994092941284,  W : [[13.170272]], b  [-6.947008]\n",
      "epoch : 259, loss  2.015547037124634,  W : [[13.18676]], b  [-6.9554577]\n",
      "epoch : 260, loss  2.0121190547943115,  W : [[13.203202]], b  [-6.963883]\n",
      "epoch : 261, loss  2.0087106227874756,  W : [[13.219599]], b  [-6.972285]\n",
      "epoch : 262, loss  2.0053207874298096,  W : [[13.2359495]], b  [-6.980663]\n",
      "epoch : 263, loss  2.001950263977051,  W : [[13.252255]], b  [-6.9890175]\n",
      "epoch : 264, loss  1.9985978603363037,  W : [[13.268517]], b  [-6.9973493]\n",
      "epoch : 265, loss  1.9952640533447266,  W : [[13.284733]], b  [-7.0056577]\n",
      "epoch : 266, loss  1.9919486045837402,  W : [[13.300905]], b  [-7.013943]\n",
      "epoch : 267, loss  1.988651156425476,  W : [[13.317034]], b  [-7.0222063]\n",
      "epoch : 268, loss  1.9853715896606445,  W : [[13.333118]], b  [-7.0304465]\n",
      "epoch : 269, loss  1.9821099042892456,  W : [[13.349159]], b  [-7.0386643]\n",
      "epoch : 270, loss  1.9788658618927002,  W : [[13.365157]], b  [-7.0468597]\n",
      "epoch : 271, loss  1.9756393432617188,  W : [[13.381112]], b  [-7.055033]\n",
      "epoch : 272, loss  1.9724299907684326,  W : [[13.397024]], b  [-7.0631847]\n",
      "epoch : 273, loss  1.9692374467849731,  W : [[13.412894]], b  [-7.071314]\n",
      "epoch : 274, loss  1.966062307357788,  W : [[13.428722]], b  [-7.0794215]\n",
      "epoch : 275, loss  1.9629039764404297,  W : [[13.444509]], b  [-7.0875077]\n",
      "epoch : 276, loss  1.9597620964050293,  W : [[13.460254]], b  [-7.095572]\n",
      "epoch : 277, loss  1.9566370248794556,  W : [[13.475957]], b  [-7.1036153]\n",
      "epoch : 278, loss  1.9535281658172607,  W : [[13.491619]], b  [-7.111637]\n",
      "epoch : 279, loss  1.9504355192184448,  W : [[13.507241]], b  [-7.119638]\n",
      "epoch : 280, loss  1.947359323501587,  W : [[13.522822]], b  [-7.1276183]\n",
      "epoch : 281, loss  1.9442983865737915,  W : [[13.538363]], b  [-7.1355777]\n",
      "epoch : 282, loss  1.9412535429000854,  W : [[13.5538645]], b  [-7.143516]\n",
      "epoch : 283, loss  1.9382245540618896,  W : [[13.569325]], b  [-7.151434]\n",
      "epoch : 284, loss  1.9352110624313354,  W : [[13.584747]], b  [-7.159332]\n",
      "epoch : 285, loss  1.9322128295898438,  W : [[13.60013]], b  [-7.167209]\n",
      "epoch : 286, loss  1.9292296171188354,  W : [[13.615474]], b  [-7.1750665]\n",
      "epoch : 287, loss  1.9262620210647583,  W : [[13.630778]], b  [-7.182904]\n",
      "epoch : 288, loss  1.923309087753296,  W : [[13.646045]], b  [-7.190721]\n",
      "epoch : 289, loss  1.9203710556030273,  W : [[13.661273]], b  [-7.1985188]\n",
      "epoch : 290, loss  1.9174476861953735,  W : [[13.676463]], b  [-7.2062964]\n",
      "epoch : 291, loss  1.9145392179489136,  W : [[13.691615]], b  [-7.2140546]\n",
      "epoch : 292, loss  1.9116449356079102,  W : [[13.70673]], b  [-7.2217937]\n",
      "epoch : 293, loss  1.9087650775909424,  W : [[13.721807]], b  [-7.229513]\n",
      "epoch : 294, loss  1.9058995246887207,  W : [[13.736846]], b  [-7.2372136]\n",
      "epoch : 295, loss  1.9030481576919556,  W : [[13.751849]], b  [-7.244895]\n",
      "epoch : 296, loss  1.9002107381820679,  W : [[13.766815]], b  [-7.2525573]\n",
      "epoch : 297, loss  1.8973873853683472,  W : [[13.781745]], b  [-7.260201]\n",
      "epoch : 298, loss  1.8945775032043457,  W : [[13.7966385]], b  [-7.2678256]\n",
      "epoch : 299, loss  1.8917814493179321,  W : [[13.811496]], b  [-7.2754316]\n"
     ]
    }
   ],
   "source": [
    "#Model y=sigmoid(X*W + b)\n",
    "# same as the linear regression just sigmoid wrapped around the linear equation\n",
    "def output(x): \n",
    "    return tf.sigmoid(W*x + b)\n",
    "\n",
    "#Loss function : sum of squares\n",
    "def loss_function(y_pred, y_true):\n",
    "    return tf.reduce_sum(tf.square(y_pred - y_true))\n",
    "\n",
    "#Initialize Weights\n",
    "W = tf.Variable(tf.random.uniform(shape=(1, 1)))\n",
    "b = tf.Variable(tf.zeros(shape=(1,)))\n",
    "\n",
    "## Optimization\n",
    "learning_rate = 0.1\n",
    "steps = 300 #epochs\n",
    "\n",
    "for i in range(steps):\n",
    "    with tf.GradientTape() as tape:\n",
    "        predictions = output(x_train)\n",
    "        loss = loss_function(y_train, predictions)\n",
    "        dloss_dw, dloss_db = tape.gradient(loss, [W, b])\n",
    "    W.assign_sub(learning_rate * dloss_dw)\n",
    "    b.assign_sub(learning_rate * dloss_db)\n",
    "    print(f\"epoch : {i}, loss  {loss.numpy()},  W : {W.numpy()}, b  {b.numpy()}\")"
   ]
  },
  {
   "cell_type": "markdown",
   "metadata": {},
   "source": [
    "Plotting"
   ]
  },
  {
   "cell_type": "code",
   "execution_count": 220,
   "metadata": {},
   "outputs": [
    {
     "name": "stdout",
     "output_type": "stream",
     "text": [
      "epoch is: 0, loss is 22.41008186340332,  W is: [[0.93407756]], b is [-0.78293735]\n"
     ]
    },
    {
     "data": {
      "image/png": "[encoded data removed]",
      "text/plain": [
       "<Figure size 432x288 with 1 Axes>"
      ]
     },
     "metadata": {
      "needs_background": "light"
     },
     "output_type": "display_data"
    },
    {
     "name": "stdout",
     "output_type": "stream",
     "text": [
      "epoch is: 40, loss is 4.756344318389893,  W is: [[6.8904214]], b is [-3.6844785]\n"
     ]
    },
    {
     "data": {
      "image/png": "[encoded data removed]",
      "text/plain": [
       "<Figure size 432x288 with 1 Axes>"
      ]
     },
     "metadata": {
      "needs_background": "light"
     },
     "output_type": "display_data"
    },
    {
     "name": "stdout",
     "output_type": "stream",
     "text": [
      "epoch is: 80, loss is 3.4186770915985107,  W is: [[8.891755]], b is [-4.738308]\n"
     ]
    },
    {
     "data": {
      "image/png": "[encoded data removed]",
      "text/plain": [
       "<Figure size 432x288 with 1 Axes>"
      ]
     },
     "metadata": {
      "needs_background": "light"
     },
     "output_type": "display_data"
    },
    {
     "name": "stdout",
     "output_type": "stream",
     "text": [
      "epoch is: 120, loss is 2.839423656463623,  W is: [[10.229227]], b is [-5.433549]\n"
     ]
    },
    {
     "data": {
      "image/png": "[encoded data removed]",
      "text/plain": [
       "<Figure size 432x288 with 1 Axes>"
      ]
     },
     "metadata": {
      "needs_background": "light"
     },
     "output_type": "display_data"
    },
    {
     "name": "stdout",
     "output_type": "stream",
     "text": [
      "epoch is: 160, loss is 2.4949848651885986,  W is: [[11.265974]], b is [-5.968881]\n"
     ]
    },
    {
     "data": {
      "image/png": "[encoded data removed]",
      "text/plain": [
       "<Figure size 432x288 with 1 Axes>"
      ]
     },
     "metadata": {
      "needs_background": "light"
     },
     "output_type": "display_data"
    },
    {
     "name": "stdout",
     "output_type": "stream",
     "text": [
      "epoch is: 200, loss is 2.2590367794036865,  W is: [[12.126228]], b is [-6.41139]\n"
     ]
    },
    {
     "data": {
      "image/png": "[encoded data removed]",
      "text/plain": [
       "<Figure size 432x288 with 1 Axes>"
      ]
     },
     "metadata": {
      "needs_background": "light"
     },
     "output_type": "display_data"
    },
    {
     "name": "stdout",
     "output_type": "stream",
     "text": [
      "epoch is: 240, loss is 2.083829879760742,  W is: [[12.868614]], b is [-6.7923784]\n"
     ]
    },
    {
     "data": {
      "image/png": "[encoded data removed]",
      "text/plain": [
       "<Figure size 432x288 with 1 Axes>"
      ]
     },
     "metadata": {
      "needs_background": "light"
     },
     "output_type": "display_data"
    },
    {
     "name": "stdout",
     "output_type": "stream",
     "text": [
      "epoch is: 280, loss is 1.9467601776123047,  W is: [[13.525861]], b is [-7.1291747]\n"
     ]
    },
    {
     "data": {
      "image/png": "[encoded data removed]",
      "text/plain": [
       "<Figure size 432x288 with 1 Axes>"
      ]
     },
     "metadata": {
      "needs_background": "light"
     },
     "output_type": "display_data"
    }
   ],
   "source": [
    "#Model y=X*W + b\n",
    "# same as the linear regression just sigmoid wrapped around the linear equation\n",
    "def output(x): \n",
    "    return tf.sigmoid(W*x + b)\n",
    "\n",
    "#Loss function : sum of squares\n",
    "def loss_function(y_pred, y_true):\n",
    "    return tf.reduce_sum(tf.square(y_pred - y_true))\n",
    "\n",
    "#Initialize Weights\n",
    "W = tf.Variable(tf.random.uniform(shape=(1, 1)))\n",
    "b = tf.Variable(tf.zeros(shape=(1,)))\n",
    "\n",
    "## Optimization\n",
    "learning_rate = 0.1\n",
    "steps = 300 #epochs\n",
    "\n",
    "for i in range(steps):\n",
    "    with tf.GradientTape() as tape:\n",
    "        predictions = output(x_train)\n",
    "        loss = loss_function(y_train, predictions)\n",
    "        dloss_dw, dloss_db = tape.gradient(loss, [W, b])\n",
    "    W.assign_sub(learning_rate * dloss_dw)\n",
    "    b.assign_sub(learning_rate * dloss_db)\n",
    "\n",
    "    if i%40 == 0:\n",
    "        print(f\"epoch is: {i}, loss is {loss.numpy()},  W is: {W.numpy()}, b is {b.numpy()}\")\n",
    "        plt.title([\"epoch\", i])\n",
    "        plt.plot(x_train, y_train, 'b+')\n",
    "        plt.plot(x_train, output(x_train), '.', c='r')\n",
    "        plt.show()"
   ]
  },
  {
   "cell_type": "markdown",
   "metadata": {},
   "source": [
    "# Keras"
   ]
  },
  {
   "cell_type": "code",
   "execution_count": 1,
   "metadata": {},
   "outputs": [],
   "source": [
    "from tensorflow import keras\n",
    "from tensorflow.keras import layers\n",
    "from tensorflow.keras.models import Sequential\n",
    "from tensorflow.keras.layers import Dense"
   ]
  },
  {
   "cell_type": "code",
   "execution_count": 2,
   "metadata": {},
   "outputs": [
    {
     "name": "stdout",
     "output_type": "stream",
     "text": [
      "(60000, 784) train input samples\n",
      "(10000, 784) test input samples\n",
      "(60000, 10) train output samples\n",
      "(10000, 10) test output samples\n"
     ]
    }
   ],
   "source": [
    "## The data, shuffled and split between train and test sets\n",
    "(X_train, Y_train), (X_test, Y_test) = keras.datasets.mnist.load_data()\n",
    "num_classes=10\n",
    "x_train = X_train.reshape(60000, 784)\n",
    "x_test = X_test.reshape(10000, 784)\n",
    "x_train = x_train.astype('float32')\n",
    "x_test = x_test.astype('float32')\n",
    "x_train /= 255\n",
    "x_test /= 255\n",
    "\n",
    "## Convert class vectors to binary class matrices\n",
    "y_train = keras.utils.to_categorical(Y_train, num_classes)\n",
    "y_test = keras.utils.to_categorical(Y_test, num_classes)\n",
    "\n",
    "print(x_train.shape, 'train input samples')\n",
    "print(x_test.shape, 'test input samples')\n",
    "\n",
    "print(y_train.shape, 'train output samples')\n",
    "print(y_test.shape, 'test output samples')"
   ]
  },
  {
   "cell_type": "code",
   "execution_count": 3,
   "metadata": {},
   "outputs": [
    {
     "data": {
      "image/png": "[encoded data removed]",
      "text/plain": [
       "<Figure size 432x288 with 4 Axes>"
      ]
     },
     "metadata": {
      "needs_background": "light"
     },
     "output_type": "display_data"
    }
   ],
   "source": [
    "# Plot 4 images as gray scale\n",
    "\n",
    "%matplotlib inline\n",
    "import matplotlib.pyplot as plt\n",
    "plt.subplot(221)\n",
    "plt.imshow(X_train[1], cmap=plt.get_cmap('gray'))\n",
    "plt.subplot(222)\n",
    "plt.imshow(X_train[6], cmap=plt.get_cmap('gray'))\n",
    "plt.subplot(223)\n",
    "plt.imshow(X_train[7], cmap=plt.get_cmap('gray'))\n",
    "plt.subplot(224)\n",
    "plt.imshow(X_train[9], cmap=plt.get_cmap('gray'))\n",
    "\n",
    "# show the plot\n",
    "plt.show()"
   ]
  },
  {
   "cell_type": "code",
   "execution_count": 4,
   "metadata": {},
   "outputs": [
    {
     "name": "stdout",
     "output_type": "stream",
     "text": [
      "Model: \"sequential\"\n",
      "_________________________________________________________________\n",
      "Layer (type)                 Output Shape              Param #   \n",
      "=================================================================\n",
      "dense (Dense)                (None, 20)                15700     \n",
      "_________________________________________________________________\n",
      "dense_1 (Dense)              (None, 20)                420       \n",
      "_________________________________________________________________\n",
      "dense_2 (Dense)              (None, 10)                210       \n",
      "=================================================================\n",
      "Total params: 16,330\n",
      "Trainable params: 16,330\n",
      "Non-trainable params: 0\n",
      "_________________________________________________________________\n"
     ]
    }
   ],
   "source": [
    "model = keras.Sequential()\n",
    "#Input Layer. The model needs to know what input shape it should expect. \n",
    "#For this reason, the first layer in a Sequential model needs to receive information about its input shape.\n",
    "#Only the first need the snape information, because following layers can do automatic shape inference\n",
    "model.add(layers.Dense(20, activation='sigmoid', input_shape=(784,)))\n",
    "\n",
    "#The dense layer is simply a layer where each unit or neuron is connected to each neuron in the next layer.\n",
    "model.add(layers.Dense(20, activation='sigmoid'))\n",
    "\n",
    "#In the final layer mention the output classes\n",
    "model.add(layers.Dense(10, activation='softmax'))\n",
    "\n",
    "#Model Summary\n",
    "model.summary()"
   ]
  },
  {
   "cell_type": "code",
   "execution_count": 24,
   "metadata": {},
   "outputs": [
    {
     "name": "stdout",
     "output_type": "stream",
     "text": [
      "Train on 60000 samples\n",
      "Epoch 1/10\n",
      "60000/60000 [==============================] - 3s 52us/sample - loss: 0.0902 - accuracy: 0.9751\n",
      "Epoch 2/10\n",
      "60000/60000 [==============================] - 3s 50us/sample - loss: 0.0892 - accuracy: 0.9750\n",
      "Epoch 3/10\n",
      "60000/60000 [==============================] - 3s 50us/sample - loss: 0.0887 - accuracy: 0.9757\n",
      "Epoch 4/10\n",
      "60000/60000 [==============================] - 3s 47us/sample - loss: 0.0885 - accuracy: 0.9751\n",
      "Epoch 5/10\n",
      "60000/60000 [==============================] - 3s 48us/sample - loss: 0.0875 - accuracy: 0.9761\n",
      "Epoch 6/10\n",
      "60000/60000 [==============================] - 3s 49us/sample - loss: 0.0874 - accuracy: 0.9761\n",
      "Epoch 7/10\n",
      "60000/60000 [==============================] - 3s 48us/sample - loss: 0.0870 - accuracy: 0.9757\n",
      "Epoch 8/10\n",
      "60000/60000 [==============================] - 3s 50us/sample - loss: 0.0863 - accuracy: 0.9766\n",
      "Epoch 9/10\n",
      "60000/60000 [==============================] - 3s 49us/sample - loss: 0.0860 - accuracy: 0.9761\n",
      "Epoch 10/10\n",
      "60000/60000 [==============================] - 3s 52us/sample - loss: 0.0857 - accuracy: 0.9761\n"
     ]
    },
    {
     "data": {
      "text/plain": [
       "<tensorflow.python.keras.callbacks.History at 0x1aace9b99c8>"
      ]
     },
     "execution_count": 24,
     "metadata": {},
     "output_type": "execute_result"
    }
   ],
   "source": [
    "# Compiling model : we define loss function, optimizer and validation matric of our choice\n",
    "model.compile(loss='categorical_crossentropy', metrics=['accuracy'])\n",
    "\n",
    "# Fit method: actually running our model by supplying our input and validation data\n",
    "model.fit(x_train, y_train,epochs=10)"
   ]
  },
  {
   "cell_type": "code",
   "execution_count": 25,
   "metadata": {},
   "outputs": [
    {
     "name": "stdout",
     "output_type": "stream",
     "text": [
      "[array([[ 0.02515895, -0.01559025,  0.03362186, ..., -0.00533213,\n",
      "         0.05649216,  0.025332  ],\n",
      "       [-0.05847708,  0.0782025 , -0.07481801, ...,  0.02249032,\n",
      "         0.05449276,  0.01085745],\n",
      "       [-0.06403062,  0.0229304 ,  0.03201031, ...,  0.05748107,\n",
      "         0.06042245,  0.02254006],\n",
      "       ...,\n",
      "       [-0.05844365,  0.03318997,  0.02229793, ..., -0.03238098,\n",
      "        -0.02750115, -0.08346611],\n",
      "       [ 0.05739182,  0.07825617, -0.04091686, ..., -0.01256936,\n",
      "        -0.05618969,  0.05506155],\n",
      "       [-0.00301135,  0.05287901, -0.03004961, ...,  0.08535139,\n",
      "         0.01862317,  0.07038946]], dtype=float32), array([ 0.27913886, -1.161148  ,  0.41095665,  1.6458611 ,  0.7189761 ,\n",
      "        1.0200715 ,  1.2982562 , -1.3038647 ,  1.9918022 , -0.0543932 ,\n",
      "       -1.8487521 , -0.6957587 ,  1.5204716 ,  1.383461  , -0.690064  ,\n",
      "        0.34693217,  2.063581  ,  1.6646893 , -0.02937878,  0.09946878],\n",
      "      dtype=float32), array([[ 1.59261036e+00,  9.01293531e-02,  6.44480228e-01,\n",
      "         4.05384861e-02,  4.25927758e-01, -4.19844180e-01,\n",
      "         2.99770892e-01,  1.68674791e+00, -5.29910624e-01,\n",
      "        -7.27766573e-01, -1.66188204e+00, -4.91865188e-01,\n",
      "        -9.11972463e-01, -1.59406507e+00, -1.79340720e+00,\n",
      "        -7.11256802e-01,  1.89174080e+00, -2.31988326e-01,\n",
      "        -3.90662581e-01,  1.88624096e+00],\n",
      "       [-4.80569935e+00,  2.66770053e+00,  5.86161494e-01,\n",
      "        -2.56385088e+00,  1.95260704e+00, -1.30436099e+00,\n",
      "        -1.26452595e-01, -1.50475609e+00,  8.48165333e-01,\n",
      "         3.57764220e+00,  1.96914327e+00,  3.20475906e-01,\n",
      "         3.53031564e+00,  1.13985646e+00, -6.80742621e-01,\n",
      "         5.62224340e+00, -2.54418898e+00,  1.55831885e+00,\n",
      "         1.01824716e-01,  1.59833908e+00],\n",
      "       [-1.62800968e-01,  2.41723061e+00, -5.81764817e-01,\n",
      "        -5.17936051e-02,  1.60888433e+00, -3.92108679e-01,\n",
      "         1.25257826e+00, -1.02682662e+00, -2.84428984e-01,\n",
      "         3.03368628e-01, -7.69921184e-01,  5.62843263e-01,\n",
      "        -7.25853860e-01,  1.62784718e-02, -1.82838365e-01,\n",
      "         1.84433570e-03, -2.04717946e+00,  8.80326152e-01,\n",
      "        -9.98627901e-01,  4.37744170e-01],\n",
      "       [ 2.01353526e+00, -4.02076572e-01,  6.55656755e-01,\n",
      "        -6.61590159e-01,  1.80597648e-01,  1.00491691e+00,\n",
      "         6.13609076e-01,  5.03577650e-01, -1.24830857e-01,\n",
      "         5.49544692e-01, -9.92206573e-01,  1.99944305e+00,\n",
      "        -1.02389503e+00, -1.20239377e+00,  1.71167207e+00,\n",
      "        -1.75447494e-01,  8.54135692e-01,  7.18455195e-01,\n",
      "         5.92254996e-01, -1.23792565e+00],\n",
      "       [ 1.14783931e+00,  1.38715732e+00, -1.40704620e+00,\n",
      "         7.13585377e-01,  2.26044789e-01, -8.46189022e-01,\n",
      "        -2.13607144e+00, -4.56528544e-01, -1.14312485e-01,\n",
      "         1.82618082e-01,  3.26771617e-01,  6.38387263e-01,\n",
      "        -3.92156899e-01,  5.90796061e-02, -1.09454083e+00,\n",
      "         1.63671446e+00,  2.22033715e+00, -4.33279544e-01,\n",
      "         1.13718495e-01,  4.58594650e-01],\n",
      "       [ 9.35929298e-01,  8.92651320e-01, -2.30621085e-01,\n",
      "        -6.35401234e-02, -1.73060572e+00,  1.91558862e+00,\n",
      "         1.55530655e+00,  5.57069540e-01,  4.64129746e-01,\n",
      "        -5.78393221e-01,  4.80078071e-01,  6.60121620e-01,\n",
      "         9.52091515e-01,  1.75044417e+00, -1.12794720e-01,\n",
      "        -5.20708323e-01, -2.59849932e-02, -1.40498674e+00,\n",
      "        -7.58163691e-01,  9.18000519e-01],\n",
      "       [-9.15686846e-01,  1.62327960e-01, -1.30173194e+00,\n",
      "         2.42003536e+00,  4.72945422e-01,  1.12581694e+00,\n",
      "         4.88073796e-01, -2.77743435e+00,  3.64255421e-02,\n",
      "         1.22567165e+00, -7.12722361e-01, -8.06555033e-01,\n",
      "        -6.04930103e-01,  8.53594780e-01, -2.41374686e-01,\n",
      "        -1.04740925e-01,  5.83507866e-02,  4.06329900e-01,\n",
      "         1.58699557e-01, -1.23117805e+00],\n",
      "       [ 2.09736013e+00, -4.60848510e-02,  1.36880267e+00,\n",
      "        -1.70286942e+00,  2.15461373e+00, -1.57482958e+00,\n",
      "        -3.44774216e-01,  2.16741753e+00, -1.52057305e-01,\n",
      "        -5.08508682e-01, -8.25459898e-01,  2.62020612e+00,\n",
      "        -8.52991194e-02, -1.51948130e+00,  1.54241574e+00,\n",
      "        -2.25561333e+00,  2.22802949e+00, -6.21727467e-01,\n",
      "        -1.02695370e+00, -2.00359434e-01],\n",
      "       [ 3.21502149e-01,  5.71753323e-01, -1.87131965e+00,\n",
      "        -1.84490029e-02, -1.97091013e-01,  2.02050909e-01,\n",
      "         1.23247218e+00, -4.01392221e-01, -1.88908195e+00,\n",
      "        -3.43449056e-01,  7.98593521e-01,  1.41178668e+00,\n",
      "         7.21482038e-01,  2.49012041e+00, -7.52063915e-02,\n",
      "         1.66559577e-01,  8.92574847e-01, -3.35937053e-01,\n",
      "         5.74535839e-02, -6.31996393e-01],\n",
      "       [-6.57387555e-01, -5.42141736e-01,  9.80626702e-01,\n",
      "        -1.51871353e-01, -2.07188201e+00,  1.30343211e+00,\n",
      "         3.61016542e-01,  5.28577685e-01,  7.16725886e-01,\n",
      "         1.97213721e+00, -8.83404016e-01, -1.19873881e+00,\n",
      "        -1.28373754e+00, -1.14002311e+00, -7.26311862e-01,\n",
      "         3.57897377e+00, -1.64693706e-02,  5.46628535e-01,\n",
      "         9.71336722e-01,  1.20024621e+00],\n",
      "       [-5.15808165e-01, -1.08079505e+00, -5.77771127e-01,\n",
      "        -2.93425345e+00, -7.02300549e-01, -2.36446428e+00,\n",
      "        -3.03279191e-01,  1.87367523e+00, -1.09768295e+00,\n",
      "        -3.19575763e+00,  2.25267196e+00,  5.29545784e+00,\n",
      "         2.05095577e+00, -5.23671210e-01,  3.52410889e+00,\n",
      "         3.26518607e+00,  3.52427149e+00,  2.58310169e-01,\n",
      "         1.81098330e+00, -2.02874613e+00],\n",
      "       [-7.33349144e-01, -8.48647594e-01,  3.55653428e-02,\n",
      "        -7.59630919e-01, -1.33199263e+00,  2.06484628e+00,\n",
      "        -4.93161887e-01,  3.23391587e-01,  1.57542038e+00,\n",
      "        -4.15466465e-02,  1.02824926e+00,  1.15274417e+00,\n",
      "         4.73797917e-01, -2.09939837e-01,  2.66286433e-01,\n",
      "        -8.57036486e-02, -1.00625539e+00,  1.20795166e+00,\n",
      "         1.52816141e+00, -6.91882312e-01],\n",
      "       [ 2.32634425e+00, -8.19420874e-01,  1.90425396e-01,\n",
      "        -8.06196630e-01,  2.83500314e-01, -8.39480758e-01,\n",
      "        -1.51847959e-01, -1.64963186e-01,  1.27817261e+00,\n",
      "         4.87760395e-01,  2.76205111e+00,  5.45752048e-01,\n",
      "         2.49151158e+00, -3.61400127e-01,  2.90079743e-01,\n",
      "         2.56094277e-01,  2.08205491e-01, -6.16301239e-01,\n",
      "        -5.03522813e-01,  2.69181550e-01],\n",
      "       [ 3.83004993e-01,  7.14760840e-01,  5.23797393e-01,\n",
      "         5.75767756e-01,  9.49028373e-01,  1.30973911e+00,\n",
      "         2.19804096e+00, -5.53861484e-02,  1.23876047e+00,\n",
      "        -9.36689198e-01, -7.61700332e-01, -9.58653450e-01,\n",
      "         3.11682314e-01,  9.32299197e-01, -2.09944320e+00,\n",
      "        -1.81016827e+00, -6.33914292e-01, -8.13998044e-01,\n",
      "        -5.66925466e-01,  1.18820453e+00],\n",
      "       [ 1.23739111e+00, -1.27813280e+00,  1.74335182e+00,\n",
      "         1.40627766e+00, -5.05784869e-01, -6.11902833e-01,\n",
      "        -2.25947642e+00,  4.45933402e-01,  2.38948202e+00,\n",
      "        -5.82306266e-01,  1.98155507e-01, -7.02016175e-01,\n",
      "        -1.15929671e-01, -1.00008376e-01,  1.19222856e+00,\n",
      "         1.05867036e-01,  8.58971253e-02, -6.15644336e-01,\n",
      "         3.50162834e-02, -3.65081802e-02],\n",
      "       [ 6.63707852e-01,  1.47036600e+00,  1.17450035e+00,\n",
      "         1.18214345e+00,  1.48034349e-01, -1.25122261e+00,\n",
      "        -9.62926686e-01,  1.91829473e-01, -2.12153196e+00,\n",
      "         1.12196100e+00, -7.39588737e-01, -1.75094032e+00,\n",
      "        -3.56067598e-01, -4.26988482e-01,  1.98338854e+00,\n",
      "         8.35081458e-01,  1.78352153e+00, -1.47415757e-01,\n",
      "         2.18086529e+00, -8.37817132e-01],\n",
      "       [ 1.25008464e+00,  1.02695489e+00,  1.67361903e+00,\n",
      "        -1.41602790e+00,  1.81524599e+00, -2.40273690e+00,\n",
      "        -1.37389970e+00,  1.43282533e+00, -2.61309072e-02,\n",
      "        -7.36155570e-01,  6.08559430e-01, -3.36181790e-01,\n",
      "         1.00845289e+00, -4.73813802e-01,  1.19952641e-01,\n",
      "         1.52828529e-01,  8.37687314e-01,  3.16791415e-01,\n",
      "        -1.05863428e+00,  2.63954550e-01],\n",
      "       [-9.83371496e-01, -5.25347233e-01, -1.08344972e+00,\n",
      "        -8.84187877e-01, -1.02746427e+00,  9.41492200e-01,\n",
      "         1.28615773e+00, -1.03842810e-01,  3.12076211e-01,\n",
      "        -1.07328311e-01,  1.43857241e+00,  9.46034968e-01,\n",
      "         8.66067231e-01,  5.54788649e-01,  2.01815546e-01,\n",
      "         7.43160903e-01, -7.69869089e-01,  7.85154521e-01,\n",
      "         5.21347463e-01,  4.77846488e-02],\n",
      "       [-2.44685006e+00, -4.32020336e-01,  1.20390916e+00,\n",
      "        -5.26752591e-01,  6.44361377e-01, -1.51605546e+00,\n",
      "        -1.60930455e+00, -1.27003229e+00,  5.82308173e-01,\n",
      "         3.03399825e+00,  2.84547210e+00,  2.51062483e-01,\n",
      "         2.52232909e+00, -1.17036831e+00, -5.35067677e-01,\n",
      "         3.60810113e+00, -5.86377025e-01,  2.57596999e-01,\n",
      "        -7.29146659e-01, -4.97284323e-01],\n",
      "       [ 1.15138507e+00,  9.85761434e-02, -1.28170073e-01,\n",
      "        -3.99973124e-01,  5.15662551e-01,  1.24928153e+00,\n",
      "        -5.10002017e-01, -1.89206779e+00,  2.53349257e+00,\n",
      "         2.78802490e+00, -2.33544230e+00,  1.39396638e-01,\n",
      "        -1.72024274e+00, -8.31642091e-01, -8.02979052e-01,\n",
      "        -1.44911301e+00, -1.92488241e+00, -9.37425733e-01,\n",
      "        -1.60385215e+00,  8.54861140e-01]], dtype=float32), array([ 0.4949202 ,  0.72308666,  0.1492406 ,  0.21776114,  0.6415183 ,\n",
      "        0.0207999 ,  0.24206874, -0.11085561,  0.17359349,  0.4328739 ,\n",
      "        0.32493484,  0.35294166,  0.7192672 , -0.00391899,  0.5766122 ,\n",
      "        0.53888047,  0.24169621, -0.33557332, -0.8161722 , -0.07335264],\n",
      "      dtype=float32), array([[-0.43342382,  0.01430436,  0.16523682, -5.930192  , -2.1272273 ,\n",
      "        -3.2849312 , -0.29221588, -0.99177104, -0.4111282 , -5.0168505 ],\n",
      "       [-0.82103413, -0.59665936, -1.7499557 , -0.739172  , -0.7044002 ,\n",
      "        -1.0221393 , -0.9766001 , -4.681905  , -0.6066164 , -3.2113228 ],\n",
      "       [-2.9972134 ,  1.6028796 , -4.0951395 , -5.382776  , -0.26996   ,\n",
      "        -8.034389  , -4.780571  , -0.17037168, -8.224449  , -0.76440895],\n",
      "       [ 0.10819528, -7.939915  , -4.054803  , -3.9180362 ,  0.16434658,\n",
      "        -6.336064  , -0.01008487, -3.355787  , -0.64014155, -0.32209194],\n",
      "       [-0.5151622 ,  1.5019962 , -5.6089    , -1.2741553 ,  0.57813776,\n",
      "        -0.98523784,  0.22817138, -5.783065  , -4.6762886 , -3.2313588 ],\n",
      "       [ 0.68068725, -5.468412  , -3.911444  , -3.8642662 , -5.5402317 ,\n",
      "        -0.69313025, -3.9955914 , -0.2867988 , -0.6074556 ,  0.47899148],\n",
      "       [-2.7333143 , -1.6235791 , -4.8063817 , -1.9484053 , -5.1316094 ,\n",
      "         0.55050576,  0.9443863 , -6.111156  ,  0.06968342,  0.09784534],\n",
      "       [-4.7399187 ,  1.3414142 ,  0.8453579 , -7.7978506 , -5.7572865 ,\n",
      "        -5.14001   ,  1.307781  , -2.8940668 , -4.5225267 , -8.369968  ],\n",
      "       [-1.1709571 , -7.732281  , -2.6800776 , -5.5576706 , -0.4828455 ,\n",
      "         0.6257919 , -1.3895272 , -0.8865407 , -4.9695983 , -0.8116037 ],\n",
      "       [ 0.03718377, -1.8489453 , -3.2112486 , -0.6639059 , -0.83276296,\n",
      "        -2.348767  , -7.267456  , -0.58730674, -1.1134962 , -0.87463814],\n",
      "       [-6.4910326 , -6.435983  , -0.8930232 ,  0.5958331 , -2.0188644 ,\n",
      "         0.29571596, -3.1148877 , -1.3661896 , -4.0690527 , -0.56226736],\n",
      "       [-0.9961807 , -2.2057834 , -0.9936158 ,  0.06538443, -8.627363  ,\n",
      "         1.5390961 , -2.7501147 , -0.86046654, -2.990324  , -6.1313114 ],\n",
      "       [-3.7718031 , -4.86166   , -1.4354087 , -0.4927001 , -1.5704975 ,\n",
      "        -0.21471004, -0.54970133, -1.2359568 , -4.624463  , -0.34525734],\n",
      "       [-0.9717403 , -5.7427964 , -1.3275512 , -0.5720576 , -5.137842  ,\n",
      "        -1.2719953 , -0.5536961 , -7.5390434 , -0.49451396, -2.3855944 ],\n",
      "       [ 0.7786167 , -0.45873332, -0.06151436, -0.24277973, -4.2160068 ,\n",
      "        -4.75873   , -5.3923135 ,  0.23021388, -5.5956264 , -2.528067  ],\n",
      "       [-6.7029576 , -1.307279  ,  0.50473756, -0.62450206, -0.46140498,\n",
      "        -0.46734262, -5.636066  , -1.3060646 , -0.07452784, -2.6537445 ],\n",
      "       [-3.136961  , -0.606661  , -0.0695646 , -2.1753511 , -0.13642305,\n",
      "        -5.804144  , -1.2451135 ,  0.52854395, -0.68781245, -5.291325  ],\n",
      "       [-6.8795433 , -0.5193148 , -5.8560734 ,  0.08927899, -4.281934  ,\n",
      "        -3.0193994 , -6.4728484 , -0.36709332, -1.1998386 , -0.3378879 ],\n",
      "       [-5.0825686 , -1.2496556 , -0.13005196, -0.5959101 , -3.7950246 ,\n",
      "        -6.604443  , -7.2554374 , -0.96269065, -0.36842507, -0.6308493 ],\n",
      "       [-5.7200522 , -1.1705105 , -3.2043283 , -6.053396  , -0.13601522,\n",
      "        -0.9795436 , -0.03357349, -5.8590717 , -0.91902906, -1.2735056 ]],\n",
      "      dtype=float32), array([-1.7475785, -1.5541543, -1.5748942, -1.0239805, -1.3779335,\n",
      "       -1.1831787, -1.3461256, -1.348291 , -1.0616524, -1.4110429],\n",
      "      dtype=float32)]\n"
     ]
    }
   ],
   "source": [
    "print(model.get_weights())"
   ]
  },
  {
   "cell_type": "code",
   "execution_count": 26,
   "metadata": {},
   "outputs": [
    {
     "name": "stdout",
     "output_type": "stream",
     "text": [
      "10000/1 - 0s - loss: 0.0838 - accuracy: 0.9594\n",
      "Test Accuracy: 95.94%\n"
     ]
    }
   ],
   "source": [
    "loss, acc = model.evaluate(x_test,  y_test, verbose=2)\n",
    "print(\"Test Accuracy: {:5.2f}%\".format(100*acc))"
   ]
  },
  {
   "cell_type": "code",
   "execution_count": null,
   "metadata": {},
   "outputs": [],
   "source": []
  }
 ],
 "metadata": {
  "kernelspec": {
   "display_name": "Python 3",
   "language": "python",
   "name": "python3"
  },
  "language_info": {
   "codemirror_mode": {
    "name": "ipython",
    "version": 3
   },
   "file_extension": ".py",
   "mimetype": "text/x-python",
   "name": "python",
   "nbconvert_exporter": "python",
   "pygments_lexer": "ipython3",
   "version": "3.7.4"
  }
 },
 "nbformat": 4,
 "nbformat_minor": 2
}

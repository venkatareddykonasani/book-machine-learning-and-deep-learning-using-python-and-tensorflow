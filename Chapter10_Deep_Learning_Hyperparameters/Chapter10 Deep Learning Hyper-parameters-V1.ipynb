{
 "cells": [
  {
   "cell_type": "markdown",
   "metadata": {},
   "source": [
    "#  Deep Learning Hyper-parameters"
   ]
  },
  {
   "cell_type": "markdown",
   "metadata": {},
   "source": [
    "## Regularization"
   ]
  },
  {
   "cell_type": "code",
   "execution_count": 2,
   "metadata": {},
   "outputs": [],
   "source": [
    "#import the packages\n",
    "import pandas as pd\n",
    "import numpy as np"
   ]
  },
  {
   "cell_type": "markdown",
   "metadata": {},
   "source": [
    "The data set"
   ]
  },
  {
   "cell_type": "code",
   "execution_count": 3,
   "metadata": {},
   "outputs": [
    {
     "name": "stdout",
     "output_type": "stream",
     "text": [
      "         x        y\n",
      "0 -0.99768  2.08850\n",
      "1 -0.69574  1.16460\n",
      "2 -0.40373  0.32870\n",
      "3 -0.10236  0.46013\n",
      "4  0.22024  0.44808\n",
      "5  0.47742  0.10013\n",
      "6  0.82229 -0.32952\n"
     ]
    }
   ],
   "source": [
    "x=[-0.99768,-0.69574,-0.40373,-0.10236,0.22024,0.47742,0.82229]\n",
    "y=[2.0885,1.1646,0.3287,0.46013,0.44808,0.10013,-0.32952]\n",
    "\n",
    "input_data = pd.DataFrame(list(zip(x, y)), columns =['x', 'y']) \n",
    "print(input_data)"
   ]
  },
  {
   "cell_type": "markdown",
   "metadata": {},
   "source": [
    "Plotting the data"
   ]
  },
  {
   "cell_type": "code",
   "execution_count": 28,
   "metadata": {},
   "outputs": [
    {
     "data": {
      "image/png": "[encoded data removed]",
      "text/plain": [
       "<Figure size 432x288 with 1 Axes>"
      ]
     },
     "metadata": {
      "needs_background": "light"
     },
     "output_type": "display_data"
    }
   ],
   "source": [
    "x = np.array(input_data.x)\n",
    "y = input_data.y\n",
    "#scatter plot x and y\n",
    "import matplotlib.pyplot as plt\n",
    "%matplotlib inline\n",
    "plt.title(\"Input data\", fontsize=20)\n",
    "plt.scatter(x,y,s=50,c=\"g\")\n",
    "plt.xlabel(\"X\")\n",
    "plt.ylabel(\"Y\")\n",
    "plt.show()"
   ]
  },
  {
   "cell_type": "markdown",
   "metadata": {},
   "source": [
    "### Usual Regression Model building - Without Regualrization"
   ]
  },
  {
   "cell_type": "markdown",
   "metadata": {},
   "source": [
    "#### Simple Linear Regression"
   ]
  },
  {
   "cell_type": "code",
   "execution_count": 51,
   "metadata": {},
   "outputs": [
    {
     "name": "stdout",
     "output_type": "stream",
     "text": [
      "m1 SSE 0.7107401451797566\n"
     ]
    }
   ],
   "source": [
    "import statsmodels.api as sm\n",
    "x1 = sm.add_constant(x)\n",
    "m1 = sm.OLS(y,x1).fit()\n",
    "#SSE\n",
    "print(\"m1 SSE\", m1.ssr)"
   ]
  },
  {
   "cell_type": "markdown",
   "metadata": {},
   "source": [
    "#### Second Order polynomial regression"
   ]
  },
  {
   "cell_type": "code",
   "execution_count": 52,
   "metadata": {},
   "outputs": [
    {
     "name": "stdout",
     "output_type": "stream",
     "text": [
      "m2 SSE 0.457231720521299\n"
     ]
    }
   ],
   "source": [
    "x2 = sm.add_constant(np.column_stack([x,np.square(x)]))\n",
    "m2 = sm.OLS(y,x2).fit()\n",
    "print(\"m2 SSE\", m2.ssr)"
   ]
  },
  {
   "cell_type": "markdown",
   "metadata": {},
   "source": [
    "#### Fifth order polynomial"
   ]
  },
  {
   "cell_type": "code",
   "execution_count": 53,
   "metadata": {},
   "outputs": [
    {
     "name": "stdout",
     "output_type": "stream",
     "text": [
      "m3 SSE 0.010562888801624625\n"
     ]
    }
   ],
   "source": [
    "x3 = sm.add_constant(np.column_stack([x, np.power(x,2),np.power(x,3),np.power(x,4),np.power(x,5)]))\n",
    "m3 = sm.OLS(y,x3).fit()\n",
    "print(\"m3 SSE\", m3.ssr)"
   ]
  },
  {
   "cell_type": "markdown",
   "metadata": {},
   "source": [
    "### Regression Model building - With Regualrization"
   ]
  },
  {
   "cell_type": "code",
   "execution_count": 69,
   "metadata": {},
   "outputs": [
    {
     "name": "stderr",
     "output_type": "stream",
     "text": [
      "C:\\ProgramData\\Anaconda3\\lib\\site-packages\\ipykernel_launcher.py:9: FutureWarning: `rcond` parameter will change to the default of machine precision times ``max(M, N)`` where M and N are the input matrix dimensions.\n",
      "To use the future default and silence this warning we advise to pass `rcond=None`, to keep using the old, explicitly pass `rcond=-1`.\n",
      "  if __name__ == '__main__':\n",
      "C:\\ProgramData\\Anaconda3\\lib\\site-packages\\ipykernel_launcher.py:12: FutureWarning: `rcond` parameter will change to the default of machine precision times ``max(M, N)`` where M and N are the input matrix dimensions.\n",
      "To use the future default and silence this warning we advise to pass `rcond=None`, to keep using the old, explicitly pass `rcond=-1`.\n",
      "  if sys.path[0] == '':\n",
      "C:\\ProgramData\\Anaconda3\\lib\\site-packages\\ipykernel_launcher.py:16: FutureWarning: `rcond` parameter will change to the default of machine precision times ``max(M, N)`` where M and N are the input matrix dimensions.\n",
      "To use the future default and silence this warning we advise to pass `rcond=None`, to keep using the old, explicitly pass `rcond=-1`.\n",
      "  app.launch_new_instance()\n"
     ]
    }
   ],
   "source": [
    "X = x3\n",
    "y = np.array(y)\n",
    "n_col = X.shape[1]\n",
    "d = np.identity(n_col)\n",
    "d[0,0] = 0\n",
    "w = []\n",
    "\n",
    "reg =0 \n",
    "w.append(np.linalg.lstsq(X.T.dot(X) + reg * d, X.T.dot(y))[0])\n",
    "\n",
    "reg =1 \n",
    "w.append(np.linalg.lstsq(X.T.dot(X) + reg * d, X.T.dot(y))[0])\n",
    "\n",
    "\n",
    "reg =10 \n",
    "w.append(np.linalg.lstsq(X.T.dot(X) + reg * d, X.T.dot(y))[0])\n"
   ]
  },
  {
   "cell_type": "code",
   "execution_count": 70,
   "metadata": {},
   "outputs": [
    {
     "name": "stdout",
     "output_type": "stream",
     "text": [
      "Regularized weights  lambda=0 \n",
      " [ 0.47252877  0.68135289 -1.38012842 -5.97768747  2.44173268  4.73711433]\n",
      "Regularized weights  lambda=1 \n",
      " [ 0.3975953  -0.42066637  0.12959211 -0.3974739   0.17525553 -0.33938772]\n",
      "Regularized weights  lambda=10 \n",
      " [ 0.52047074 -0.18250706  0.06064258 -0.14817721  0.07433006 -0.12795737]\n"
     ]
    }
   ],
   "source": [
    "print(\"Regularized weights  lambda=0 \\n\", w[0])\n",
    "print(\"Regularized weights  lambda=1 \\n\", w[1])\n",
    "print(\"Regularized weights  lambda=10 \\n\", w[2])"
   ]
  },
  {
   "cell_type": "code",
   "execution_count": 71,
   "metadata": {},
   "outputs": [
    {
     "name": "stdout",
     "output_type": "stream",
     "text": [
      "Regularized Weights With lambda = 0 \n",
      " [0.4725287728743442, 0.6813528948567631, -1.3801284186124971, -5.9776874674697105, 2.441732684793457, 4.737114334831566]\n",
      "Standard Weights With inbuilt package \n",
      " [0.47252877287434003, 0.6813528948567651, -1.3801284186124536, -5.977687467469684, 2.4417326847934, 4.7371143348315226]\n"
     ]
    }
   ],
   "source": [
    "#new weights and older weights\n",
    "print(\"Regularized Weights With lambda = 0 \\n\", list(w[0]))\n",
    "print(\"Standard Weights With inbuilt package \\n\",list(m3.params))"
   ]
  },
  {
   "cell_type": "code",
   "execution_count": 72,
   "metadata": {},
   "outputs": [
    {
     "data": {
      "image/png": "[encoded data removed]",
      "text/plain": [
       "<Figure size 576x432 with 1 Axes>"
      ]
     },
     "metadata": {
      "needs_background": "light"
     },
     "output_type": "display_data"
    }
   ],
   "source": [
    "#ploat all these three models\n",
    "import matplotlib.pyplot as plt\n",
    "%matplotlib inline\n",
    "plt.rcParams[\"figure.figsize\"] = (8,6)\n",
    "plt.title('Model results for different lambda values', fontsize=20)\n",
    "plt.scatter(x,y, s = 50, c = \"g\")\n",
    "x_new = np.linspace(x.min(), x.max(), 200)\n",
    "plt.plot(x_new, np.poly1d(np.polyfit(x, X.dot(w[0]), 5))(x_new),label='$\\lambda$ = 0', c = \"b\")\n",
    "plt.plot(x_new, np.poly1d(np.polyfit(x, X.dot(w[1]), 5))(x_new),label='$\\lambda$ = 1', c = \"r\")\n",
    "plt.plot(x_new, np.poly1d(np.polyfit(x, X.dot(w[2]), 5))(x_new),label='$\\lambda$ = 10', c = \"g\")\n",
    "plt.legend(loc='upper right');\n",
    "plt.show()"
   ]
  },
  {
   "cell_type": "markdown",
   "metadata": {},
   "source": [
    "#### Choosing the regularization λ"
   ]
  },
  {
   "cell_type": "code",
   "execution_count": 74,
   "metadata": {},
   "outputs": [
    {
     "name": "stdout",
     "output_type": "stream",
     "text": [
      "Final Weights \n",
      " [ 0.3975953  -0.42066637  0.12959211 -0.3974739   0.17525553 -0.33938772]\n",
      "Final SSE  0.24363202160352718\n"
     ]
    }
   ],
   "source": [
    "#weights\n",
    "print(\"Final Weights \\n\", w[1])\n",
    "#perdiction\n",
    "pred = X.dot(w[1])\n",
    "##SSE\n",
    "SSE_Final = sum(np.square(y-pred))\n",
    "print(\"Final SSE \", SSE_Final)"
   ]
  },
  {
   "cell_type": "markdown",
   "metadata": {},
   "source": [
    "## Regularization in Keras"
   ]
  },
  {
   "cell_type": "code",
   "execution_count": 8,
   "metadata": {},
   "outputs": [],
   "source": [
    "import tensorflow as tf\n",
    "from tensorflow import keras\n",
    "from tensorflow.keras import layers\n",
    "from tensorflow.keras.models import Sequential\n",
    "from tensorflow.keras.layers import Dense"
   ]
  },
  {
   "cell_type": "code",
   "execution_count": 9,
   "metadata": {},
   "outputs": [
    {
     "name": "stdout",
     "output_type": "stream",
     "text": [
      "(60000, 784) train input samples\n",
      "(10000, 784) test input samples\n",
      "(60000, 10) train output samples\n",
      "(10000, 10) test output samples\n"
     ]
    }
   ],
   "source": [
    "## MNIST data The data, shuffled and split between train and test sets\n",
    "(X_train, Y_train), (X_test, Y_test) = keras.datasets.mnist.load_data()\n",
    "num_classes=10\n",
    "x_train = X_train.reshape(60000, 784)\n",
    "x_test = X_test.reshape(10000, 784)\n",
    "x_train = x_train.astype('float32')\n",
    "x_test = x_test.astype('float32')\n",
    "x_train /= 255\n",
    "x_test /= 255\n",
    "\n",
    "## Convert class vectors to binary class matrices\n",
    "y_train = keras.utils.to_categorical(Y_train, num_classes)\n",
    "y_test = keras.utils.to_categorical(Y_test, num_classes)\n",
    "\n",
    "print(x_train.shape, 'train input samples')\n",
    "print(x_test.shape, 'test input samples')\n",
    "\n",
    "print(y_train.shape, 'train output samples')\n",
    "print(y_test.shape, 'test output samples')"
   ]
  },
  {
   "cell_type": "markdown",
   "metadata": {},
   "source": [
    "## Model without Regularization "
   ]
  },
  {
   "cell_type": "code",
   "execution_count": 3,
   "metadata": {},
   "outputs": [
    {
     "name": "stdout",
     "output_type": "stream",
     "text": [
      "Model: \"sequential\"\n",
      "_________________________________________________________________\n",
      "Layer (type)                 Output Shape              Param #   \n",
      "=================================================================\n",
      "dense (Dense)                (None, 256)               200960    \n",
      "_________________________________________________________________\n",
      "dense_1 (Dense)              (None, 128)               32896     \n",
      "_________________________________________________________________\n",
      "dense_2 (Dense)              (None, 10)                1290      \n",
      "=================================================================\n",
      "Total params: 235,146\n",
      "Trainable params: 235,146\n",
      "Non-trainable params: 0\n",
      "_________________________________________________________________\n"
     ]
    }
   ],
   "source": [
    "model = keras.Sequential()\n",
    "model.add(layers.Dense(256, activation='sigmoid', input_shape=(784,)))\n",
    "model.add(layers.Dense(128, activation='sigmoid'))\n",
    "model.add(layers.Dense(10, activation='softmax'))\n",
    "model.summary()"
   ]
  },
  {
   "cell_type": "code",
   "execution_count": 4,
   "metadata": {},
   "outputs": [
    {
     "name": "stdout",
     "output_type": "stream",
     "text": [
      "Train on 60000 samples\n",
      "Epoch 1/10\n",
      "60000/60000 [==============================] - 6s 108us/sample - loss: 0.3747 - categorical_accuracy: 0.8954\n",
      "Epoch 2/10\n",
      "60000/60000 [==============================] - 6s 97us/sample - loss: 0.1664 - categorical_accuracy: 0.9496\n",
      "Epoch 3/10\n",
      "60000/60000 [==============================] - 6s 95us/sample - loss: 0.1161 - categorical_accuracy: 0.9646\n",
      "Epoch 4/10\n",
      "60000/60000 [==============================] - 6s 99us/sample - loss: 0.0888 - categorical_accuracy: 0.9732\n",
      "Epoch 5/10\n",
      "60000/60000 [==============================] - 6s 99us/sample - loss: 0.0724 - categorical_accuracy: 0.9775\n",
      "Epoch 6/10\n",
      "60000/60000 [==============================] - 6s 99us/sample - loss: 0.0612 - categorical_accuracy: 0.9815\n",
      "Epoch 7/10\n",
      "60000/60000 [==============================] - 6s 99us/sample - loss: 0.0507 - categorical_accuracy: 0.9841\n",
      "Epoch 8/10\n",
      "60000/60000 [==============================] - 6s 98us/sample - loss: 0.0450 - categorical_accuracy: 0.9865\n",
      "Epoch 9/10\n",
      "60000/60000 [==============================] - 6s 101us/sample - loss: 0.0386 - categorical_accuracy: 0.9884\n",
      "Epoch 10/10\n",
      "60000/60000 [==============================] - 6s 96us/sample - loss: 0.0333 - categorical_accuracy: 0.9901\n"
     ]
    },
    {
     "data": {
      "text/plain": [
       "<tensorflow.python.keras.callbacks.History at 0x15299210908>"
      ]
     },
     "execution_count": 4,
     "metadata": {},
     "output_type": "execute_result"
    }
   ],
   "source": [
    "model.compile(loss='categorical_crossentropy', metrics=['accuracy'])\n",
    "model.fit(x_train, y_train,epochs=10)"
   ]
  },
  {
   "cell_type": "code",
   "execution_count": 5,
   "metadata": {},
   "outputs": [
    {
     "name": "stdout",
     "output_type": "stream",
     "text": [
      "60000/1 - 2s - loss: 0.0114 - categorical_accuracy: 0.9937\n",
      "Train Accuracy: 99.37%\n",
      "10000/1 - 0s - loss: 0.0377 - categorical_accuracy: 0.9790\n",
      "Test Accuracy: 97.90%\n"
     ]
    }
   ],
   "source": [
    "#Final Results\n",
    "loss, acc = model.evaluate(x_train,  y_train, verbose=2)\n",
    "print(\"Train Accuracy: {:5.2f}%\".format(100*acc))\n",
    "\n",
    "loss, acc = model.evaluate(x_test,  y_test, verbose=2)\n",
    "print(\"Test Accuracy: {:5.2f}%\".format(100*acc))"
   ]
  },
  {
   "cell_type": "markdown",
   "metadata": {},
   "source": [
    "## Model with Regularization "
   ]
  },
  {
   "cell_type": "code",
   "execution_count": 4,
   "metadata": {},
   "outputs": [
    {
     "ename": "NameError",
     "evalue": "name 'keras' is not defined",
     "output_type": "error",
     "traceback": [
      "\u001b[1;31m---------------------------------------------------------------------------\u001b[0m",
      "\u001b[1;31mNameError\u001b[0m                                 Traceback (most recent call last)",
      "\u001b[1;32m<ipython-input-4-7ea615246197>\u001b[0m in \u001b[0;36m<module>\u001b[1;34m\u001b[0m\n\u001b[0;32m      1\u001b[0m \u001b[1;32mfrom\u001b[0m \u001b[0mtensorflow\u001b[0m\u001b[1;33m.\u001b[0m\u001b[0mkeras\u001b[0m \u001b[1;32mimport\u001b[0m \u001b[0mregularizers\u001b[0m\u001b[1;33m\u001b[0m\u001b[1;33m\u001b[0m\u001b[0m\n\u001b[1;32m----> 2\u001b[1;33m \u001b[0mmodel_r\u001b[0m \u001b[1;33m=\u001b[0m \u001b[0mkeras\u001b[0m\u001b[1;33m.\u001b[0m\u001b[0mSequential\u001b[0m\u001b[1;33m(\u001b[0m\u001b[1;33m)\u001b[0m\u001b[1;33m\u001b[0m\u001b[1;33m\u001b[0m\u001b[0m\n\u001b[0m\u001b[0;32m      3\u001b[0m \u001b[0mmodel_r\u001b[0m\u001b[1;33m.\u001b[0m\u001b[0madd\u001b[0m\u001b[1;33m(\u001b[0m\u001b[0mlayers\u001b[0m\u001b[1;33m.\u001b[0m\u001b[0mDense\u001b[0m\u001b[1;33m(\u001b[0m\u001b[1;36m256\u001b[0m\u001b[1;33m,\u001b[0m \u001b[0mactivation\u001b[0m\u001b[1;33m=\u001b[0m\u001b[1;34m'sigmoid'\u001b[0m\u001b[1;33m,\u001b[0m \u001b[0minput_shape\u001b[0m\u001b[1;33m=\u001b[0m\u001b[1;33m(\u001b[0m\u001b[1;36m784\u001b[0m\u001b[1;33m,\u001b[0m\u001b[1;33m)\u001b[0m\u001b[1;33m,\u001b[0m \u001b[0mkernel_regularizer\u001b[0m\u001b[1;33m=\u001b[0m\u001b[0mregularizers\u001b[0m\u001b[1;33m.\u001b[0m\u001b[0ml2\u001b[0m\u001b[1;33m(\u001b[0m\u001b[1;36m0.01\u001b[0m\u001b[1;33m)\u001b[0m\u001b[1;33m)\u001b[0m\u001b[1;33m)\u001b[0m\u001b[1;33m\u001b[0m\u001b[1;33m\u001b[0m\u001b[0m\n\u001b[0;32m      4\u001b[0m \u001b[0mmodel_r\u001b[0m\u001b[1;33m.\u001b[0m\u001b[0madd\u001b[0m\u001b[1;33m(\u001b[0m\u001b[0mlayers\u001b[0m\u001b[1;33m.\u001b[0m\u001b[0mDense\u001b[0m\u001b[1;33m(\u001b[0m\u001b[1;36m128\u001b[0m\u001b[1;33m,\u001b[0m \u001b[0mactivation\u001b[0m\u001b[1;33m=\u001b[0m\u001b[1;34m'sigmoid'\u001b[0m\u001b[1;33m,\u001b[0m\u001b[0mkernel_regularizer\u001b[0m\u001b[1;33m=\u001b[0m\u001b[0mregularizers\u001b[0m\u001b[1;33m.\u001b[0m\u001b[0ml2\u001b[0m\u001b[1;33m(\u001b[0m\u001b[1;36m0.01\u001b[0m\u001b[1;33m)\u001b[0m\u001b[1;33m)\u001b[0m\u001b[1;33m)\u001b[0m\u001b[1;33m\u001b[0m\u001b[1;33m\u001b[0m\u001b[0m\n\u001b[0;32m      5\u001b[0m \u001b[0mmodel_r\u001b[0m\u001b[1;33m.\u001b[0m\u001b[0madd\u001b[0m\u001b[1;33m(\u001b[0m\u001b[0mlayers\u001b[0m\u001b[1;33m.\u001b[0m\u001b[0mDense\u001b[0m\u001b[1;33m(\u001b[0m\u001b[1;36m10\u001b[0m\u001b[1;33m,\u001b[0m \u001b[0mactivation\u001b[0m\u001b[1;33m=\u001b[0m\u001b[1;34m'softmax'\u001b[0m\u001b[1;33m)\u001b[0m\u001b[1;33m)\u001b[0m\u001b[1;33m\u001b[0m\u001b[1;33m\u001b[0m\u001b[0m\n",
      "\u001b[1;31mNameError\u001b[0m: name 'keras' is not defined"
     ]
    }
   ],
   "source": [
    "from tensorflow.keras import regularizers\n",
    "model_r = keras.Sequential()\n",
    "model_r.add(layers.Dense(256, activation='sigmoid', input_shape=(784,), kernel_regularizer=regularizers.l2(0.01)))\n",
    "model_r.add(layers.Dense(128, activation='sigmoid',kernel_regularizer=regularizers.l2(0.01)))\n",
    "model_r.add(layers.Dense(10, activation='softmax'))\n",
    "model_r.summary()"
   ]
  },
  {
   "cell_type": "code",
   "execution_count": 41,
   "metadata": {},
   "outputs": [
    {
     "name": "stdout",
     "output_type": "stream",
     "text": [
      "Train on 60000 samples\n",
      "Epoch 1/10\n",
      "60000/60000 [==============================] - 8s 142us/sample - loss: 1.7637 - accuracy: 0.6496\n",
      "Epoch 2/10\n",
      "60000/60000 [==============================] - 7s 116us/sample - loss: 1.3367 - accuracy: 0.7589\n",
      "Epoch 3/10\n",
      "60000/60000 [==============================] - 8s 126us/sample - loss: 1.2276 - accuracy: 0.7814\n",
      "Epoch 4/10\n",
      "60000/60000 [==============================] - 8s 131us/sample - loss: 1.1650 - accuracy: 0.7890\n",
      "Epoch 5/10\n",
      "60000/60000 [==============================] - 8s 127us/sample - loss: 1.1267 - accuracy: 0.7947\n",
      "Epoch 6/10\n",
      "60000/60000 [==============================] - 8s 132us/sample - loss: 1.0907 - accuracy: 0.7995\n",
      "Epoch 7/10\n",
      "60000/60000 [==============================] - 7s 119us/sample - loss: 1.0577 - accuracy: 0.8080\n",
      "Epoch 8/10\n",
      "60000/60000 [==============================] - 7s 123us/sample - loss: 1.0297 - accuracy: 0.8113\n",
      "Epoch 9/10\n",
      "60000/60000 [==============================] - 8s 126us/sample - loss: 0.9998 - accuracy: 0.8188\n",
      "Epoch 10/10\n",
      "60000/60000 [==============================] - 7s 112us/sample - loss: 0.9755 - accuracy: 0.8222\n"
     ]
    },
    {
     "data": {
      "text/plain": [
       "<tensorflow.python.keras.callbacks.History at 0x19784fadc08>"
      ]
     },
     "execution_count": 41,
     "metadata": {},
     "output_type": "execute_result"
    }
   ],
   "source": [
    "model_r.compile(loss='categorical_crossentropy', metrics=['accuracy'])\n",
    "model_r.fit(x_train, y_train,epochs=10)"
   ]
  },
  {
   "cell_type": "code",
   "execution_count": 36,
   "metadata": {},
   "outputs": [
    {
     "name": "stdout",
     "output_type": "stream",
     "text": [
      "60000/1 - 2s - loss: 0.8496 - accuracy: 0.8510\n",
      "Train Accuracy: 85.10%\n",
      "10000/1 - 1s - loss: 0.8128 - accuracy: 0.8569\n",
      "Test Accuracy: 85.69%\n"
     ]
    }
   ],
   "source": [
    "#Final Results\n",
    "loss, acc = model_r.evaluate(x_train,  y_train, verbose=2)\n",
    "print(\"Train Accuracy: {:5.2f}%\".format(100*acc))\n",
    "\n",
    "loss, acc = model_r.evaluate(x_test,  y_test, verbose=2)\n",
    "print(\"Test Accuracy: {:5.2f}%\".format(100*acc))"
   ]
  },
  {
   "cell_type": "markdown",
   "metadata": {},
   "source": [
    "## Model with Dropout "
   ]
  },
  {
   "cell_type": "code",
   "execution_count": 62,
   "metadata": {},
   "outputs": [
    {
     "name": "stdout",
     "output_type": "stream",
     "text": [
      "Model: \"sequential_21\"\n",
      "_________________________________________________________________\n",
      "Layer (type)                 Output Shape              Param #   \n",
      "=================================================================\n",
      "dense_76 (Dense)             (None, 256)               200960    \n",
      "_________________________________________________________________\n",
      "dropout_16 (Dropout)         (None, 256)               0         \n",
      "_________________________________________________________________\n",
      "dense_77 (Dense)             (None, 128)               32896     \n",
      "_________________________________________________________________\n",
      "dropout_17 (Dropout)         (None, 128)               0         \n",
      "_________________________________________________________________\n",
      "dense_78 (Dense)             (None, 10)                1290      \n",
      "=================================================================\n",
      "Total params: 235,146\n",
      "Trainable params: 235,146\n",
      "Non-trainable params: 0\n",
      "_________________________________________________________________\n"
     ]
    }
   ],
   "source": [
    "from tensorflow.keras.layers import Dropout\n",
    "model_rd = keras.Sequential()\n",
    "\n",
    "model_rd.add(layers.Dense(256, activation='sigmoid', input_shape=(784,)))\n",
    "model_rd.add(Dropout(0.7))\n",
    "\n",
    "model_rd.add(layers.Dense(128, activation='sigmoid'))\n",
    "model_rd.add(Dropout(0.6))\n",
    "\n",
    "model_rd.add(layers.Dense(10, activation='softmax'))\n",
    "model_rd.summary()"
   ]
  },
  {
   "cell_type": "code",
   "execution_count": 3,
   "metadata": {},
   "outputs": [
    {
     "ename": "NameError",
     "evalue": "name 'model_rd' is not defined",
     "output_type": "error",
     "traceback": [
      "\u001b[1;31m---------------------------------------------------------------------------\u001b[0m",
      "\u001b[1;31mNameError\u001b[0m                                 Traceback (most recent call last)",
      "\u001b[1;32m<ipython-input-3-b0d507802a8c>\u001b[0m in \u001b[0;36m<module>\u001b[1;34m\u001b[0m\n\u001b[1;32m----> 1\u001b[1;33m \u001b[0mmodel_rd\u001b[0m\u001b[1;33m.\u001b[0m\u001b[0mcompile\u001b[0m\u001b[1;33m(\u001b[0m\u001b[0mloss\u001b[0m\u001b[1;33m=\u001b[0m\u001b[1;34m'categorical_crossentropy'\u001b[0m\u001b[1;33m,\u001b[0m \u001b[0mmetrics\u001b[0m\u001b[1;33m=\u001b[0m\u001b[1;33m[\u001b[0m\u001b[1;34m'accuracy'\u001b[0m\u001b[1;33m]\u001b[0m\u001b[1;33m)\u001b[0m\u001b[1;33m\u001b[0m\u001b[1;33m\u001b[0m\u001b[0m\n\u001b[0m\u001b[0;32m      2\u001b[0m \u001b[0mmodel_rd\u001b[0m\u001b[1;33m.\u001b[0m\u001b[0mfit\u001b[0m\u001b[1;33m(\u001b[0m\u001b[0mx_train\u001b[0m\u001b[1;33m,\u001b[0m \u001b[0my_train\u001b[0m\u001b[1;33m,\u001b[0m\u001b[0mepochs\u001b[0m\u001b[1;33m=\u001b[0m\u001b[1;36m10\u001b[0m\u001b[1;33m)\u001b[0m\u001b[1;33m\u001b[0m\u001b[1;33m\u001b[0m\u001b[0m\n",
      "\u001b[1;31mNameError\u001b[0m: name 'model_rd' is not defined"
     ]
    }
   ],
   "source": [
    "model_rd.compile(loss='categorical_crossentropy', metrics=['accuracy'])\n",
    "model_rd.fit(x_train, y_train,epochs=10)"
   ]
  },
  {
   "cell_type": "code",
   "execution_count": 64,
   "metadata": {},
   "outputs": [
    {
     "name": "stdout",
     "output_type": "stream",
     "text": [
      "60000/1 - 5s - loss: 0.0806 - accuracy: 0.9598\n",
      "Train Accuracy: 95.98%\n",
      "10000/1 - 1s - loss: 0.0875 - accuracy: 0.9586\n",
      "Test Accuracy: 95.86%\n"
     ]
    }
   ],
   "source": [
    "#Final Results\n",
    "loss, acc = model_rd.evaluate(x_train,  y_train, verbose=2)\n",
    "print(\"Train Accuracy: {:5.2f}%\".format(100*acc))\n",
    "\n",
    "loss, acc = model_rd.evaluate(x_test,  y_test, verbose=2)\n",
    "print(\"Test Accuracy: {:5.2f}%\".format(100*acc))"
   ]
  },
  {
   "cell_type": "markdown",
   "metadata": {},
   "source": [
    "## Early Stopping"
   ]
  },
  {
   "cell_type": "code",
   "execution_count": 101,
   "metadata": {},
   "outputs": [
    {
     "name": "stdout",
     "output_type": "stream",
     "text": [
      "Model: \"sequential_31\"\n",
      "_________________________________________________________________\n",
      "Layer (type)                 Output Shape              Param #   \n",
      "=================================================================\n",
      "dense_106 (Dense)            (None, 64)                50240     \n",
      "_________________________________________________________________\n",
      "dense_107 (Dense)            (None, 64)                4160      \n",
      "_________________________________________________________________\n",
      "dense_108 (Dense)            (None, 10)                650       \n",
      "=================================================================\n",
      "Total params: 55,050\n",
      "Trainable params: 55,050\n",
      "Non-trainable params: 0\n",
      "_________________________________________________________________\n"
     ]
    }
   ],
   "source": [
    "model_re = keras.Sequential()\n",
    "model_re.add(layers.Dense(64, activation='sigmoid', input_shape=(784,)))\n",
    "model_re.add(layers.Dense(64, activation='sigmoid'))\n",
    "model_re.add(layers.Dense(10, activation='softmax'))\n",
    "model_re.summary()"
   ]
  },
  {
   "cell_type": "code",
   "execution_count": 102,
   "metadata": {},
   "outputs": [
    {
     "name": "stdout",
     "output_type": "stream",
     "text": [
      "Train on 60000 samples, validate on 10000 samples\n",
      "Epoch 1/10\n",
      "60000/60000 [==============================] - 4s 73us/sample - loss: 0.5318 - accuracy: 0.8652 - val_loss: 0.2367 - val_accuracy: 0.9296\n",
      "Epoch 2/10\n",
      "60000/60000 [==============================] - 4s 67us/sample - loss: 0.2095 - accuracy: 0.9377 - val_loss: 0.1877 - val_accuracy: 0.9429\n",
      "Epoch 3/10\n",
      "60000/60000 [==============================] - 4s 70us/sample - loss: 0.1595 - accuracy: 0.9522 - val_loss: 0.1510 - val_accuracy: 0.9558\n",
      "Epoch 4/10\n",
      "60000/60000 [==============================] - 4s 66us/sample - loss: 0.1319 - accuracy: 0.9606 - val_loss: 0.1299 - val_accuracy: 0.9613\n",
      "Epoch 5/10\n",
      "60000/60000 [==============================] - 4s 66us/sample - loss: 0.1129 - accuracy: 0.9663 - val_loss: 0.1180 - val_accuracy: 0.9653\n",
      "Epoch 6/10\n",
      "60000/60000 [==============================] - 4s 69us/sample - loss: 0.0995 - accuracy: 0.9702 - val_loss: 0.1109 - val_accuracy: 0.9668\n",
      "Epoch 7/10\n",
      "60000/60000 [==============================] - 4s 63us/sample - loss: 0.0894 - accuracy: 0.9730 - val_loss: 0.1110 - val_accuracy: 0.9670\n",
      "Epoch 8/10\n",
      "60000/60000 [==============================] - 4s 65us/sample - loss: 0.0812 - accuracy: 0.9759 - val_loss: 0.1065 - val_accuracy: 0.9678\n",
      "Epoch 9/10\n",
      "60000/60000 [==============================] - 4s 66us/sample - loss: 0.0749 - accuracy: 0.9774 - val_loss: 0.1082 - val_accuracy: 0.9672\n",
      "Epoch 10/10\n",
      "60000/60000 [==============================] - 4s 65us/sample - loss: 0.0694 - accuracy: 0.9787 - val_loss: 0.0948 - val_accuracy: 0.9711\n"
     ]
    },
    {
     "data": {
      "text/plain": [
       "<tensorflow.python.keras.callbacks.History at 0x197a0556a88>"
      ]
     },
     "execution_count": 102,
     "metadata": {},
     "output_type": "execute_result"
    }
   ],
   "source": [
    "model_re.compile(loss='categorical_crossentropy', metrics=['accuracy'])\n",
    "#Enable saving checkpoints\n",
    "# Checkpoint the weights when validation accuracy improves\n",
    "from tensorflow.keras.callbacks import ModelCheckpoint\n",
    "import h5py\n",
    "\n",
    "# checkpoint\n",
    "#dont forget to create a directory to store the checkpoints:\"early_stopping_checkpoints\"\n",
    "checkpoint = ModelCheckpoint(r\"D:\\Google Drive\\Training\\Book\\0.Chapters\\Chapter10 Deep Learning Hyperparameters\\4.Code\\epoch-{epoch:02d}.hdf5\")\n",
    "model_re.fit(x_train, y_train,epochs=10,validation_data=(x_test, y_test),callbacks=[checkpoint])"
   ]
  },
  {
   "cell_type": "code",
   "execution_count": 104,
   "metadata": {},
   "outputs": [],
   "source": [
    "model_re.load_weights(r\"D:\\Google Drive\\Training\\Book\\0.Chapters\\Chapter10 Deep Learning Hyperparameters\\4.Code\\\\epoch-07.hdf5\")# change the file name to the epoch you want to load"
   ]
  },
  {
   "cell_type": "code",
   "execution_count": 107,
   "metadata": {},
   "outputs": [
    {
     "name": "stdout",
     "output_type": "stream",
     "text": [
      "Train on 60000 samples, validate on 10000 samples\n",
      "Epoch 1/30\n",
      "60000/60000 [==============================] - 4s 73us/sample - loss: 0.5261 - accuracy: 0.8670 - val_loss: 0.2403 - val_accuracy: 0.9286\n",
      "Epoch 2/30\n",
      "60000/60000 [==============================] - 4s 61us/sample - loss: 0.2141 - accuracy: 0.9359 - val_loss: 0.1847 - val_accuracy: 0.9439\n",
      "Epoch 3/30\n",
      "60000/60000 [==============================] - 4s 64us/sample - loss: 0.1619 - accuracy: 0.9515 - val_loss: 0.1423 - val_accuracy: 0.9578\n",
      "Epoch 4/30\n",
      "60000/60000 [==============================] - 4s 69us/sample - loss: 0.1300 - accuracy: 0.9608 - val_loss: 0.1248 - val_accuracy: 0.9629\n",
      "Epoch 5/30\n",
      "60000/60000 [==============================] - 4s 64us/sample - loss: 0.1099 - accuracy: 0.9666 - val_loss: 0.1148 - val_accuracy: 0.9659\n"
     ]
    },
    {
     "data": {
      "text/plain": [
       "<tensorflow.python.keras.callbacks.History at 0x197a4ab1b88>"
      ]
     },
     "execution_count": 107,
     "metadata": {},
     "output_type": "execute_result"
    }
   ],
   "source": [
    "model_re = keras.Sequential()\n",
    "model_re.add(layers.Dense(64, activation='sigmoid', input_shape=(784,)))\n",
    "model_re.add(layers.Dense(64, activation='sigmoid'))\n",
    "model_re.add(layers.Dense(10, activation='softmax'))\n",
    "\n",
    "model_re.compile(loss='categorical_crossentropy', metrics=['accuracy'])\n",
    "\n",
    "es = keras.callbacks.EarlyStopping(monitor='val_accuracy',\n",
    "                              min_delta=0.01,\n",
    "                              patience=2)\n",
    "\n",
    "#train the model with call back method\n",
    "model_re.fit(x_train, y_train, epochs=30,validation_data=(x_test, y_test), callbacks=[es])"
   ]
  },
  {
   "cell_type": "markdown",
   "metadata": {},
   "source": [
    "## Activation Functions"
   ]
  },
  {
   "cell_type": "code",
   "execution_count": 6,
   "metadata": {},
   "outputs": [
    {
     "name": "stdout",
     "output_type": "stream",
     "text": [
      "Model: \"sequential_2\"\n",
      "_________________________________________________________________\n",
      "Layer (type)                 Output Shape              Param #   \n",
      "=================================================================\n",
      "dense_8 (Dense)              (None, 15)                11775     \n",
      "_________________________________________________________________\n",
      "dense_9 (Dense)              (None, 15)                240       \n",
      "_________________________________________________________________\n",
      "dense_10 (Dense)             (None, 15)                240       \n",
      "_________________________________________________________________\n",
      "dense_11 (Dense)             (None, 15)                240       \n",
      "_________________________________________________________________\n",
      "dense_12 (Dense)             (None, 10)                160       \n",
      "=================================================================\n",
      "Total params: 12,655\n",
      "Trainable params: 12,655\n",
      "Non-trainable params: 0\n",
      "_________________________________________________________________\n"
     ]
    }
   ],
   "source": [
    "model2 = keras.Sequential()\n",
    "model2.add(layers.Dense(15, activation='sigmoid', input_shape=(784,)))\n",
    "model2.add(layers.Dense(15, activation='relu'))\n",
    "model2.add(layers.Dense(15, activation='tanh'))\n",
    "model2.add(layers.Dense(15, activation='relu'))\n",
    "model2.add(layers.Dense(10, activation='softmax'))\n",
    "model2.summary()"
   ]
  },
  {
   "cell_type": "code",
   "execution_count": 9,
   "metadata": {},
   "outputs": [
    {
     "name": "stdout",
     "output_type": "stream",
     "text": [
      "Train on 60000 samples\n",
      "Epoch 1/10\n",
      "60000/60000 [==============================] - 4s 59us/sample - loss: 0.1521 - accuracy: 0.9554\n",
      "Epoch 2/10\n",
      "60000/60000 [==============================] - 3s 51us/sample - loss: 0.1477 - accuracy: 0.9574\n",
      "Epoch 3/10\n",
      "60000/60000 [==============================] - 3s 50us/sample - loss: 0.1465 - accuracy: 0.9575\n",
      "Epoch 4/10\n",
      "60000/60000 [==============================] - 3s 48us/sample - loss: 0.1430 - accuracy: 0.9584\n",
      "Epoch 5/10\n",
      "60000/60000 [==============================] - 3s 48us/sample - loss: 0.1415 - accuracy: 0.9589\n",
      "Epoch 6/10\n",
      "60000/60000 [==============================] - 3s 47us/sample - loss: 0.1392 - accuracy: 0.9595\n",
      "Epoch 7/10\n",
      "60000/60000 [==============================] - 3s 48us/sample - loss: 0.1379 - accuracy: 0.9601\n",
      "Epoch 8/10\n",
      "60000/60000 [==============================] - 3s 47us/sample - loss: 0.1356 - accuracy: 0.9609\n",
      "Epoch 9/10\n",
      "60000/60000 [==============================] - 3s 48us/sample - loss: 0.1341 - accuracy: 0.9611\n",
      "Epoch 10/10\n",
      "60000/60000 [==============================] - 3s 47us/sample - loss: 0.1329 - accuracy: 0.9616\n"
     ]
    },
    {
     "data": {
      "text/plain": [
       "<tensorflow.python.keras.callbacks.History at 0x257205c5f48>"
      ]
     },
     "execution_count": 9,
     "metadata": {},
     "output_type": "execute_result"
    }
   ],
   "source": [
    "model2.compile(loss='categorical_crossentropy', metrics=['accuracy'])\n",
    "model2.fit(x_train, y_train,epochs=10)"
   ]
  },
  {
   "cell_type": "markdown",
   "metadata": {},
   "source": [
    "## Learning Rate"
   ]
  },
  {
   "cell_type": "code",
   "execution_count": 18,
   "metadata": {},
   "outputs": [
    {
     "name": "stdout",
     "output_type": "stream",
     "text": [
      "Model: \"sequential_6\"\n",
      "_________________________________________________________________\n",
      "Layer (type)                 Output Shape              Param #   \n",
      "=================================================================\n",
      "dense_18 (Dense)             (None, 20)                15700     \n",
      "_________________________________________________________________\n",
      "dense_19 (Dense)             (None, 20)                420       \n",
      "_________________________________________________________________\n",
      "dense_20 (Dense)             (None, 10)                210       \n",
      "=================================================================\n",
      "Total params: 16,330\n",
      "Trainable params: 16,330\n",
      "Non-trainable params: 0\n",
      "_________________________________________________________________\n",
      "Train on 60000 samples\n",
      "Epoch 1/20\n",
      "60000/60000 [==============================] - 3s 51us/sample - loss: 3.9900 - accuracy: 0.1026\n",
      "Epoch 2/20\n",
      "60000/60000 [==============================] - 3s 45us/sample - loss: 3.5914 - accuracy: 0.1680\n",
      "Epoch 3/20\n",
      "60000/60000 [==============================] - 3s 45us/sample - loss: 3.4296 - accuracy: 0.1986\n",
      "Epoch 4/20\n",
      "60000/60000 [==============================] - 3s 46us/sample - loss: 3.3977 - accuracy: 0.2019\n",
      "Epoch 5/20\n",
      "60000/60000 [==============================] - 3s 44us/sample - loss: 2.8417 - accuracy: 0.1979\n",
      "Epoch 6/20\n",
      "60000/60000 [==============================] - 3s 47us/sample - loss: 2.1760 - accuracy: 0.2013\n",
      "Epoch 7/20\n",
      "60000/60000 [==============================] - 3s 46us/sample - loss: 2.1548 - accuracy: 0.2046\n",
      "Epoch 8/20\n",
      "60000/60000 [==============================] - 3s 44us/sample - loss: 2.1463 - accuracy: 0.2056\n",
      "Epoch 9/20\n",
      "60000/60000 [==============================] - 3s 44us/sample - loss: 2.1469 - accuracy: 0.2064\n",
      "Epoch 10/20\n",
      "60000/60000 [==============================] - 3s 43us/sample - loss: 2.1370 - accuracy: 0.2084\n",
      "Epoch 11/20\n",
      "60000/60000 [==============================] - 3s 45us/sample - loss: 2.1403 - accuracy: 0.2059\n",
      "Epoch 12/20\n",
      "60000/60000 [==============================] - 3s 44us/sample - loss: 2.1521 - accuracy: 0.2031\n",
      "Epoch 13/20\n",
      "60000/60000 [==============================] - 3s 43us/sample - loss: 2.1633 - accuracy: 0.2060\n",
      "Epoch 14/20\n",
      "60000/60000 [==============================] - 3s 44us/sample - loss: 2.1453 - accuracy: 0.2051\n",
      "Epoch 15/20\n",
      "60000/60000 [==============================] - 3s 44us/sample - loss: 2.1397 - accuracy: 0.2078\n",
      "Epoch 16/20\n",
      "60000/60000 [==============================] - 3s 43us/sample - loss: 2.1454 - accuracy: 0.2063\n",
      "Epoch 17/20\n",
      "60000/60000 [==============================] - 3s 44us/sample - loss: 2.1363 - accuracy: 0.2066\n",
      "Epoch 18/20\n",
      "60000/60000 [==============================] - 3s 43us/sample - loss: 2.1498 - accuracy: 0.2088\n",
      "Epoch 19/20\n",
      "60000/60000 [==============================] - 3s 44us/sample - loss: 2.1559 - accuracy: 0.2072\n",
      "Epoch 20/20\n",
      "60000/60000 [==============================] - 3s 43us/sample - loss: 2.1491 - accuracy: 0.2046\n"
     ]
    },
    {
     "data": {
      "text/plain": [
       "<tensorflow.python.keras.callbacks.History at 0x20a93b4a188>"
      ]
     },
     "execution_count": 18,
     "metadata": {},
     "output_type": "execute_result"
    }
   ],
   "source": [
    "model3 = keras.Sequential()\n",
    "model3.add(layers.Dense(20, activation='sigmoid', input_shape=(784,)))\n",
    "model3.add(layers.Dense(20, activation='sigmoid'))\n",
    "model3.add(layers.Dense(10, activation='softmax'))\n",
    "model3.summary()\n",
    "\n",
    "#High Learning Rate\n",
    "opt_new = tf.keras.optimizers.SGD(learning_rate=10)\n",
    "model3.compile(optimizer=opt_new, loss='categorical_crossentropy', metrics=['accuracy'])\n",
    "model3.fit(x_train, y_train,epochs=20)"
   ]
  },
  {
   "cell_type": "code",
   "execution_count": 20,
   "metadata": {},
   "outputs": [
    {
     "name": "stdout",
     "output_type": "stream",
     "text": [
      "Model: \"sequential_8\"\n",
      "_________________________________________________________________\n",
      "Layer (type)                 Output Shape              Param #   \n",
      "=================================================================\n",
      "dense_24 (Dense)             (None, 20)                15700     \n",
      "_________________________________________________________________\n",
      "dense_25 (Dense)             (None, 20)                420       \n",
      "_________________________________________________________________\n",
      "dense_26 (Dense)             (None, 10)                210       \n",
      "=================================================================\n",
      "Total params: 16,330\n",
      "Trainable params: 16,330\n",
      "Non-trainable params: 0\n",
      "_________________________________________________________________\n",
      "Train on 60000 samples\n",
      "Epoch 1/20\n",
      "60000/60000 [==============================] - 3s 51us/sample - loss: 2.5737 - accuracy: 0.0992\n",
      "Epoch 2/20\n",
      "60000/60000 [==============================] - 3s 46us/sample - loss: 2.5655 - accuracy: 0.0992\n",
      "Epoch 3/20\n",
      "60000/60000 [==============================] - 3s 47us/sample - loss: 2.5577 - accuracy: 0.0992\n",
      "Epoch 4/20\n",
      "60000/60000 [==============================] - 3s 48us/sample - loss: 2.5501 - accuracy: 0.0992\n",
      "Epoch 5/20\n",
      "60000/60000 [==============================] - 3s 48us/sample - loss: 2.5429 - accuracy: 0.0992\n",
      "Epoch 6/20\n",
      "60000/60000 [==============================] - 3s 51us/sample - loss: 2.5358 - accuracy: 0.0992\n",
      "Epoch 7/20\n",
      "60000/60000 [==============================] - 3s 44us/sample - loss: 2.5291 - accuracy: 0.0992\n",
      "Epoch 8/20\n",
      "60000/60000 [==============================] - 3s 46us/sample - loss: 2.5226 - accuracy: 0.0992\n",
      "Epoch 9/20\n",
      "60000/60000 [==============================] - 3s 46us/sample - loss: 2.5163 - accuracy: 0.0992\n",
      "Epoch 10/20\n",
      "60000/60000 [==============================] - 3s 58us/sample - loss: 2.5102 - accuracy: 0.0992\n",
      "Epoch 11/20\n",
      "60000/60000 [==============================] - 3s 50us/sample - loss: 2.5044 - accuracy: 0.0992\n",
      "Epoch 12/20\n",
      "60000/60000 [==============================] - 3s 49us/sample - loss: 2.4987 - accuracy: 0.0992\n",
      "Epoch 13/20\n",
      "60000/60000 [==============================] - 3s 50us/sample - loss: 2.4932 - accuracy: 0.0992\n",
      "Epoch 14/20\n",
      "60000/60000 [==============================] - 3s 48us/sample - loss: 2.4880 - accuracy: 0.0992\n",
      "Epoch 15/20\n",
      "60000/60000 [==============================] - 3s 48us/sample - loss: 2.4829 - accuracy: 0.0992\n",
      "Epoch 16/20\n",
      "60000/60000 [==============================] - 3s 49us/sample - loss: 2.4779 - accuracy: 0.0992\n",
      "Epoch 17/20\n",
      "60000/60000 [==============================] - 3s 48us/sample - loss: 2.4732 - accuracy: 0.0992\n",
      "Epoch 18/20\n",
      "60000/60000 [==============================] - 3s 49us/sample - loss: 2.4685 - accuracy: 0.0992\n",
      "Epoch 19/20\n",
      "60000/60000 [==============================] - 3s 48us/sample - loss: 2.4641 - accuracy: 0.0992\n",
      "Epoch 20/20\n",
      "60000/60000 [==============================] - 3s 49us/sample - loss: 2.4597 - accuracy: 0.0992\n"
     ]
    },
    {
     "data": {
      "text/plain": [
       "<tensorflow.python.keras.callbacks.History at 0x20a94552388>"
      ]
     },
     "execution_count": 20,
     "metadata": {},
     "output_type": "execute_result"
    }
   ],
   "source": [
    "model3 = keras.Sequential()\n",
    "model3.add(layers.Dense(20, activation='sigmoid', input_shape=(784,)))\n",
    "model3.add(layers.Dense(20, activation='sigmoid'))\n",
    "model3.add(layers.Dense(10, activation='softmax'))\n",
    "model3.summary()\n",
    "\n",
    "#Low learning rate\n",
    "opt_new = tf.keras.optimizers.SGD(learning_rate=0.00001)\n",
    "model3.compile(optimizer=opt_new, loss='categorical_crossentropy', metrics=['accuracy'])\n",
    "model3.fit(x_train, y_train,epochs=20)"
   ]
  },
  {
   "cell_type": "code",
   "execution_count": 23,
   "metadata": {},
   "outputs": [
    {
     "name": "stdout",
     "output_type": "stream",
     "text": [
      "Model: \"sequential_11\"\n",
      "_________________________________________________________________\n",
      "Layer (type)                 Output Shape              Param #   \n",
      "=================================================================\n",
      "dense_33 (Dense)             (None, 20)                15700     \n",
      "_________________________________________________________________\n",
      "dense_34 (Dense)             (None, 20)                420       \n",
      "_________________________________________________________________\n",
      "dense_35 (Dense)             (None, 10)                210       \n",
      "=================================================================\n",
      "Total params: 16,330\n",
      "Trainable params: 16,330\n",
      "Non-trainable params: 0\n",
      "_________________________________________________________________\n",
      "Train on 60000 samples\n",
      "Epoch 1/20\n",
      "60000/60000 [==============================] - 3s 50us/sample - loss: 2.2487 - accuracy: 0.2494\n",
      "Epoch 2/20\n",
      "60000/60000 [==============================] - 3s 47us/sample - loss: 2.0170 - accuracy: 0.4581\n",
      "Epoch 3/20\n",
      "60000/60000 [==============================] - 3s 44us/sample - loss: 1.6577 - accuracy: 0.5755\n",
      "Epoch 4/20\n",
      "60000/60000 [==============================] - 3s 45us/sample - loss: 1.3164 - accuracy: 0.6801\n",
      "Epoch 5/20\n",
      "60000/60000 [==============================] - 4s 64us/sample - loss: 1.0575 - accuracy: 0.7509\n",
      "Epoch 6/20\n",
      "60000/60000 [==============================] - 3s 53us/sample - loss: 0.8729 - accuracy: 0.8001\n",
      "Epoch 7/20\n",
      "60000/60000 [==============================] - 3s 45us/sample - loss: 0.7379 - accuracy: 0.8337\n",
      "Epoch 8/20\n",
      "60000/60000 [==============================] - 2s 41us/sample - loss: 0.6395 - accuracy: 0.8535\n",
      "Epoch 9/20\n",
      "60000/60000 [==============================] - 3s 42us/sample - loss: 0.5673 - accuracy: 0.8673\n",
      "Epoch 10/20\n",
      "60000/60000 [==============================] - 3s 44us/sample - loss: 0.5138 - accuracy: 0.8769\n",
      "Epoch 11/20\n",
      "60000/60000 [==============================] - 3s 48us/sample - loss: 0.4735 - accuracy: 0.8843\n",
      "Epoch 12/20\n",
      "60000/60000 [==============================] - 3s 47us/sample - loss: 0.4423 - accuracy: 0.8889\n",
      "Epoch 13/20\n",
      "60000/60000 [==============================] - 3s 43us/sample - loss: 0.4178 - accuracy: 0.8922\n",
      "Epoch 14/20\n",
      "60000/60000 [==============================] - 3s 45us/sample - loss: 0.3979 - accuracy: 0.8962\n",
      "Epoch 15/20\n",
      "60000/60000 [==============================] - 3s 42us/sample - loss: 0.3814 - accuracy: 0.8993\n",
      "Epoch 16/20\n",
      "60000/60000 [==============================] - 4s 59us/sample - loss: 0.3674 - accuracy: 0.9021\n",
      "Epoch 17/20\n",
      "60000/60000 [==============================] - 3s 51us/sample - loss: 0.3554 - accuracy: 0.9042\n",
      "Epoch 18/20\n",
      "60000/60000 [==============================] - 2s 41us/sample - loss: 0.3447 - accuracy: 0.9065\n",
      "Epoch 19/20\n",
      "60000/60000 [==============================] - 3s 47us/sample - loss: 0.3353 - accuracy: 0.9084\n",
      "Epoch 20/20\n",
      "60000/60000 [==============================] - 3s 42us/sample - loss: 0.3267 - accuracy: 0.9107s - los\n"
     ]
    },
    {
     "data": {
      "text/plain": [
       "<tensorflow.python.keras.callbacks.History at 0x20a9641fd48>"
      ]
     },
     "execution_count": 23,
     "metadata": {},
     "output_type": "execute_result"
    }
   ],
   "source": [
    "model3 = keras.Sequential()\n",
    "model3.add(layers.Dense(20, activation='sigmoid', input_shape=(784,)))\n",
    "model3.add(layers.Dense(20, activation='sigmoid'))\n",
    "model3.add(layers.Dense(10, activation='softmax'))\n",
    "model3.summary()\n",
    "\n",
    "#Optimal learning rate\n",
    "opt_new = tf.keras.optimizers.SGD(learning_rate=0.01)\n",
    "model3.compile(optimizer=opt_new, loss='categorical_crossentropy', metrics=['accuracy'])\n",
    "model3.fit(x_train, y_train,epochs=20)"
   ]
  },
  {
   "cell_type": "markdown",
   "metadata": {},
   "source": [
    "## Momentum"
   ]
  },
  {
   "cell_type": "code",
   "execution_count": 25,
   "metadata": {},
   "outputs": [
    {
     "name": "stdout",
     "output_type": "stream",
     "text": [
      "Model: \"sequential_13\"\n",
      "_________________________________________________________________\n",
      "Layer (type)                 Output Shape              Param #   \n",
      "=================================================================\n",
      "dense_39 (Dense)             (None, 20)                15700     \n",
      "_________________________________________________________________\n",
      "dense_40 (Dense)             (None, 20)                420       \n",
      "_________________________________________________________________\n",
      "dense_41 (Dense)             (None, 10)                210       \n",
      "=================================================================\n",
      "Total params: 16,330\n",
      "Trainable params: 16,330\n",
      "Non-trainable params: 0\n",
      "_________________________________________________________________\n",
      "Train on 60000 samples\n",
      "Epoch 1/20\n",
      "60000/60000 [==============================] - 3s 48us/sample - loss: 2.1933 - accuracy: 0.3189\n",
      "Epoch 2/20\n",
      "60000/60000 [==============================] - 3s 46us/sample - loss: 1.5562 - accuracy: 0.6173\n",
      "Epoch 3/20\n",
      "60000/60000 [==============================] - 3s 44us/sample - loss: 0.9885 - accuracy: 0.7617\n",
      "Epoch 4/20\n",
      "60000/60000 [==============================] - 3s 46us/sample - loss: 0.7133 - accuracy: 0.8293\n",
      "Epoch 5/20\n",
      "60000/60000 [==============================] - 3s 46us/sample - loss: 0.5652 - accuracy: 0.8588\n",
      "Epoch 6/20\n",
      "60000/60000 [==============================] - 3s 48us/sample - loss: 0.4825 - accuracy: 0.8761\n",
      "Epoch 7/20\n",
      "60000/60000 [==============================] - 3s 48us/sample - loss: 0.4303 - accuracy: 0.8874\n",
      "Epoch 8/20\n",
      "60000/60000 [==============================] - 3s 48us/sample - loss: 0.3934 - accuracy: 0.8954\n",
      "Epoch 9/20\n",
      "60000/60000 [==============================] - 3s 47us/sample - loss: 0.3654 - accuracy: 0.9014\n",
      "Epoch 10/20\n",
      "60000/60000 [==============================] - 3s 49us/sample - loss: 0.3431 - accuracy: 0.9069\n",
      "Epoch 11/20\n",
      "60000/60000 [==============================] - 3s 49us/sample - loss: 0.3245 - accuracy: 0.9116\n",
      "Epoch 12/20\n",
      "60000/60000 [==============================] - 3s 47us/sample - loss: 0.3085 - accuracy: 0.9154\n",
      "Epoch 13/20\n",
      "60000/60000 [==============================] - 3s 46us/sample - loss: 0.2948 - accuracy: 0.9186\n",
      "Epoch 14/20\n",
      "60000/60000 [==============================] - 3s 46us/sample - loss: 0.2826 - accuracy: 0.9218\n",
      "Epoch 15/20\n",
      "60000/60000 [==============================] - 3s 47us/sample - loss: 0.2717 - accuracy: 0.9243\n",
      "Epoch 16/20\n",
      "60000/60000 [==============================] - 3s 48us/sample - loss: 0.2619 - accuracy: 0.9268\n",
      "Epoch 17/20\n",
      "60000/60000 [==============================] - 3s 47us/sample - loss: 0.2529 - accuracy: 0.9294\n",
      "Epoch 18/20\n",
      "60000/60000 [==============================] - 3s 48us/sample - loss: 0.2447 - accuracy: 0.9319\n",
      "Epoch 19/20\n",
      "60000/60000 [==============================] - 3s 50us/sample - loss: 0.2372 - accuracy: 0.9337\n",
      "Epoch 20/20\n",
      "60000/60000 [==============================] - 3s 50us/sample - loss: 0.2301 - accuracy: 0.9357\n"
     ]
    },
    {
     "data": {
      "text/plain": [
       "<tensorflow.python.keras.callbacks.History at 0x20a97e0ccc8>"
      ]
     },
     "execution_count": 25,
     "metadata": {},
     "output_type": "execute_result"
    }
   ],
   "source": [
    "model3 = keras.Sequential()\n",
    "model3.add(layers.Dense(20, activation='sigmoid', input_shape=(784,)))\n",
    "model3.add(layers.Dense(20, activation='sigmoid'))\n",
    "model3.add(layers.Dense(10, activation='softmax'))\n",
    "model3.summary()\n",
    "\n",
    "#Optimal learning rate\n",
    "opt_new = tf.keras.optimizers.SGD(learning_rate=0.01, momentum=0.5)\n",
    "model3.compile(optimizer=opt_new, loss='categorical_crossentropy', metrics=['accuracy'])\n",
    "model3.fit(x_train, y_train,epochs=20)"
   ]
  },
  {
   "cell_type": "markdown",
   "metadata": {},
   "source": [
    "## Mini batch Gradient Descent"
   ]
  },
  {
   "cell_type": "code",
   "execution_count": 30,
   "metadata": {},
   "outputs": [
    {
     "name": "stdout",
     "output_type": "stream",
     "text": [
      "Model: \"sequential_17\"\n",
      "_________________________________________________________________\n",
      "Layer (type)                 Output Shape              Param #   \n",
      "=================================================================\n",
      "dense_51 (Dense)             (None, 20)                15700     \n",
      "_________________________________________________________________\n",
      "dense_52 (Dense)             (None, 20)                420       \n",
      "_________________________________________________________________\n",
      "dense_53 (Dense)             (None, 10)                210       \n",
      "=================================================================\n",
      "Total params: 16,330\n",
      "Trainable params: 16,330\n",
      "Non-trainable params: 0\n",
      "_________________________________________________________________\n",
      "Train on 60000 samples\n",
      "Epoch 1/10\n",
      "60000/60000 [==============================] - 1s 15us/sample - loss: 2.4585 - accuracy: 0.0987\n",
      "Epoch 2/10\n",
      "60000/60000 [==============================] - 0s 3us/sample - loss: 2.4167 - accuracy: 0.0987\n",
      "Epoch 3/10\n",
      "60000/60000 [==============================] - 0s 3us/sample - loss: 2.3907 - accuracy: 0.0987\n",
      "Epoch 4/10\n",
      "60000/60000 [==============================] - 0s 3us/sample - loss: 2.3712 - accuracy: 0.0989\n",
      "Epoch 5/10\n",
      "60000/60000 [==============================] - 0s 3us/sample - loss: 2.3553 - accuracy: 0.0999\n",
      "Epoch 6/10\n",
      "60000/60000 [==============================] - 0s 3us/sample - loss: 2.3417 - accuracy: 0.1026\n",
      "Epoch 7/10\n",
      "60000/60000 [==============================] - 0s 3us/sample - loss: 2.3298 - accuracy: 0.1073\n",
      "Epoch 8/10\n",
      "60000/60000 [==============================] - 0s 3us/sample - loss: 2.3190 - accuracy: 0.1149\n",
      "Epoch 9/10\n",
      "60000/60000 [==============================] - 0s 3us/sample - loss: 2.3091 - accuracy: 0.1249\n",
      "Epoch 10/10\n",
      "60000/60000 [==============================] - 0s 3us/sample - loss: 2.2998 - accuracy: 0.1375\n"
     ]
    },
    {
     "data": {
      "text/plain": [
       "<tensorflow.python.keras.callbacks.History at 0x20a9b87bd08>"
      ]
     },
     "execution_count": 30,
     "metadata": {},
     "output_type": "execute_result"
    }
   ],
   "source": [
    "model4 = keras.Sequential()\n",
    "model4.add(layers.Dense(20, activation='sigmoid', input_shape=(784,)))\n",
    "model4.add(layers.Dense(20, activation='sigmoid'))\n",
    "model4.add(layers.Dense(10, activation='softmax'))\n",
    "model4.summary()\n",
    "\n",
    "\n",
    "opt_new = tf.keras.optimizers.SGD(learning_rate=0.01, momentum=0.5)\n",
    "model4.compile(loss='categorical_crossentropy', metrics=['accuracy'])\n",
    "\n",
    "#Batch size=fll data(GD)\n",
    "model4.fit(x_train, y_train,batch_size=x_train.shape[0], epochs=10)"
   ]
  },
  {
   "cell_type": "code",
   "execution_count": 32,
   "metadata": {},
   "outputs": [
    {
     "name": "stdout",
     "output_type": "stream",
     "text": [
      "Model: \"sequential_19\"\n",
      "_________________________________________________________________\n",
      "Layer (type)                 Output Shape              Param #   \n",
      "=================================================================\n",
      "dense_57 (Dense)             (None, 20)                15700     \n",
      "_________________________________________________________________\n",
      "dense_58 (Dense)             (None, 20)                420       \n",
      "_________________________________________________________________\n",
      "dense_59 (Dense)             (None, 10)                210       \n",
      "=================================================================\n",
      "Total params: 16,330\n",
      "Trainable params: 16,330\n",
      "Non-trainable params: 0\n",
      "_________________________________________________________________\n",
      "Train on 60000 samples\n",
      "Epoch 1/2\n",
      "60000/60000 [==============================] - 80s 1ms/sample - loss: 0.5104 - accuracy: 0.8616\n",
      "Epoch 2/2\n",
      "60000/60000 [==============================] - 80s 1ms/sample - loss: 0.3648 - accuracy: 0.9124\n"
     ]
    },
    {
     "data": {
      "text/plain": [
       "<tensorflow.python.keras.callbacks.History at 0x20a9c769c48>"
      ]
     },
     "execution_count": 32,
     "metadata": {},
     "output_type": "execute_result"
    }
   ],
   "source": [
    "model4 = keras.Sequential()\n",
    "model4.add(layers.Dense(20, activation='sigmoid', input_shape=(784,)))\n",
    "model4.add(layers.Dense(20, activation='sigmoid'))\n",
    "model4.add(layers.Dense(10, activation='softmax'))\n",
    "model4.summary()\n",
    "\n",
    "\n",
    "opt_new = tf.keras.optimizers.SGD(learning_rate=0.01, momentum=0.5)\n",
    "model4.compile(loss='categorical_crossentropy', metrics=['accuracy'])\n",
    "\n",
    "#Batch size=1 (SGD)\n",
    "model4.fit(x_train, y_train,batch_size=1, epochs=2)"
   ]
  },
  {
   "cell_type": "code",
   "execution_count": 33,
   "metadata": {},
   "outputs": [
    {
     "name": "stdout",
     "output_type": "stream",
     "text": [
      "Model: \"sequential_20\"\n",
      "_________________________________________________________________\n",
      "Layer (type)                 Output Shape              Param #   \n",
      "=================================================================\n",
      "dense_60 (Dense)             (None, 20)                15700     \n",
      "_________________________________________________________________\n",
      "dense_61 (Dense)             (None, 20)                420       \n",
      "_________________________________________________________________\n",
      "dense_62 (Dense)             (None, 10)                210       \n",
      "=================================================================\n",
      "Total params: 16,330\n",
      "Trainable params: 16,330\n",
      "Non-trainable params: 0\n",
      "_________________________________________________________________\n",
      "Train on 60000 samples\n",
      "Epoch 1/10\n",
      "60000/60000 [==============================] - 1s 14us/sample - loss: 2.0902 - accuracy: 0.4012\n",
      "Epoch 2/10\n",
      "60000/60000 [==============================] - 0s 8us/sample - loss: 1.6120 - accuracy: 0.6944\n",
      "Epoch 3/10\n",
      "60000/60000 [==============================] - 0s 6us/sample - loss: 1.2406 - accuracy: 0.7579\n",
      "Epoch 4/10\n",
      "60000/60000 [==============================] - 0s 7us/sample - loss: 0.9523 - accuracy: 0.8217\n",
      "Epoch 5/10\n",
      "60000/60000 [==============================] - 0s 6us/sample - loss: 0.7359 - accuracy: 0.8597\n",
      "Epoch 6/10\n",
      "60000/60000 [==============================] - 0s 6us/sample - loss: 0.5813 - accuracy: 0.8793\n",
      "Epoch 7/10\n",
      "60000/60000 [==============================] - 0s 8us/sample - loss: 0.4759 - accuracy: 0.8921\n",
      "Epoch 8/10\n",
      "60000/60000 [==============================] - 0s 7us/sample - loss: 0.4037 - accuracy: 0.9022\n",
      "Epoch 9/10\n",
      "60000/60000 [==============================] - 0s 7us/sample - loss: 0.3535 - accuracy: 0.9102\n",
      "Epoch 10/10\n",
      "60000/60000 [==============================] - 0s 8us/sample - loss: 0.3181 - accuracy: 0.9160\n"
     ]
    },
    {
     "data": {
      "text/plain": [
       "<tensorflow.python.keras.callbacks.History at 0x20a9de46c48>"
      ]
     },
     "execution_count": 33,
     "metadata": {},
     "output_type": "execute_result"
    }
   ],
   "source": [
    "model4 = keras.Sequential()\n",
    "model4.add(layers.Dense(20, activation='sigmoid', input_shape=(784,)))\n",
    "model4.add(layers.Dense(20, activation='sigmoid'))\n",
    "model4.add(layers.Dense(10, activation='softmax'))\n",
    "model4.summary()\n",
    "\n",
    "\n",
    "opt_new = tf.keras.optimizers.SGD(learning_rate=0.01, momentum=0.5)\n",
    "model4.compile(loss='categorical_crossentropy', metrics=['accuracy'])\n",
    "\n",
    "#Batch size = 512\n",
    "model4.fit(x_train, y_train,batch_size=512, epochs=10)"
   ]
  },
  {
   "cell_type": "code",
   "execution_count": null,
   "metadata": {},
   "outputs": [],
   "source": []
  },
  {
   "cell_type": "code",
   "execution_count": null,
   "metadata": {},
   "outputs": [],
   "source": []
  },
  {
   "cell_type": "code",
   "execution_count": null,
   "metadata": {},
   "outputs": [],
   "source": []
  },
  {
   "cell_type": "code",
   "execution_count": null,
   "metadata": {},
   "outputs": [],
   "source": []
  }
 ],
 "metadata": {
  "kernelspec": {
   "display_name": "Python 3",
   "language": "python",
   "name": "python3"
  },
  "language_info": {
   "codemirror_mode": {
    "name": "ipython",
    "version": 3
   },
   "file_extension": ".py",
   "mimetype": "text/x-python",
   "name": "python",
   "nbconvert_exporter": "python",
   "pygments_lexer": "ipython3",
   "version": "3.7.4"
  }
 },
 "nbformat": 4,
 "nbformat_minor": 2
}
